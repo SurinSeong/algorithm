{
 "cells": [
  {
   "cell_type": "markdown",
   "id": "2978dc5b-bfd3-4563-a4b8-48b960b89728",
   "metadata": {},
   "source": [
    "# 둘째 마당 - 재귀호출\n",
    "* 문제 04 : 팩토리얼 구하기\n",
    "* 문제 05 : 최대공약수 구하기\n",
    "* 문제 06 : 하노이의 탑 옮기기"
   ]
  },
  {
   "cell_type": "markdown",
   "id": "e5ad017d-504c-4b4a-9c09-43ebb5d66d36",
   "metadata": {},
   "source": [
    "## 문제 04"
   ]
  },
  {
   "cell_type": "code",
   "execution_count": 3,
   "id": "b5f8823d-c85b-41ef-8214-8586fa5aa18b",
   "metadata": {},
   "outputs": [],
   "source": [
    "# 1부터 n까지 연속한 정수의 곱을 구하는 알고리즘\n",
    "\n",
    "def factorial(n):\n",
    "    fac = 1\n",
    "    for i in range(1, n+1):\n",
    "        fac *= i\n",
    "    return fac"
   ]
  },
  {
   "cell_type": "code",
   "execution_count": 4,
   "id": "5410ba7e-eed2-4be8-8b79-1acfff95684a",
   "metadata": {},
   "outputs": [
    {
     "name": "stdout",
     "output_type": "stream",
     "text": [
      "24\n"
     ]
    }
   ],
   "source": [
    "print(factorial(4))"
   ]
  },
  {
   "cell_type": "code",
   "execution_count": 7,
   "id": "f79bd58e-8ad8-4428-97a4-b208bf63f6f4",
   "metadata": {},
   "outputs": [],
   "source": [
    "# 재귀호출로 팩토리얼 구하기\n",
    "# 재귀 호출에는 종료 조건이 꼭 필요하다\n",
    "\n",
    "def factorial2(n):\n",
    "    if n <= 1:\n",
    "        return 1\n",
    "    return n * factorial2(n-1)"
   ]
  },
  {
   "cell_type": "code",
   "execution_count": 8,
   "id": "469d7bf4-3c9d-4942-b59a-7f125eadf6cf",
   "metadata": {},
   "outputs": [
    {
     "name": "stdout",
     "output_type": "stream",
     "text": [
      "24\n"
     ]
    }
   ],
   "source": [
    "print(factorial2(4))"
   ]
  },
  {
   "cell_type": "markdown",
   "id": "1ba6858f-245d-4b2c-99e9-07c6b7e10737",
   "metadata": {},
   "source": [
    "### 연습문제"
   ]
  },
  {
   "cell_type": "code",
   "execution_count": 10,
   "id": "02aeb2bc-890c-4a99-a0d7-18cfb9acb174",
   "metadata": {},
   "outputs": [],
   "source": [
    "# 4-1 문제 1 의 1부터 n까지의 합 구하기를 재귀 호출로 만들어 보세요\n",
    "\n",
    "def sum_nums(n):\n",
    "    if n <= 1:\n",
    "        return 1\n",
    "    return n + sum_nums(n-1)"
   ]
  },
  {
   "cell_type": "code",
   "execution_count": 11,
   "id": "2d2923a0-44bd-44c1-96a5-7d46c75c2208",
   "metadata": {},
   "outputs": [
    {
     "data": {
      "text/plain": [
       "10"
      ]
     },
     "execution_count": 11,
     "metadata": {},
     "output_type": "execute_result"
    }
   ],
   "source": [
    "sum_nums(4)"
   ]
  },
  {
   "cell_type": "code",
   "execution_count": 14,
   "id": "a8ca91d6-1716-423b-8516-55914e1ab35e",
   "metadata": {},
   "outputs": [],
   "source": [
    "# 4-2 문제 2 의 숫자 n개 중에서 최댓값 찾기를 재귀 호출로 만들어 보세요\n",
    "# 다시, 다시, 다시\n",
    "\n",
    "def max_num(a, n):\n",
    "    if n == 1:\n",
    "        return a[0]\n",
    "    max_n = max_num(a, n-1)\n",
    "    if max_n > a[n-1]:\n",
    "        return max_n\n",
    "    else:\n",
    "        return a[n-1]"
   ]
  },
  {
   "cell_type": "code",
   "execution_count": 15,
   "id": "42ee319e-5ab2-4d62-a22d-b3e943b58814",
   "metadata": {},
   "outputs": [
    {
     "data": {
      "text/plain": [
       "92"
      ]
     },
     "execution_count": 15,
     "metadata": {},
     "output_type": "execute_result"
    }
   ],
   "source": [
    "num_list = [17, 92, 18, 33, 58, 7, 33, 42]\n",
    "\n",
    "max_num(num_list, len(num_list))"
   ]
  },
  {
   "cell_type": "markdown",
   "id": "19bf0d73-ef07-450b-a12b-100379210441",
   "metadata": {},
   "source": [
    "## 문제 05"
   ]
  },
  {
   "cell_type": "code",
   "execution_count": 16,
   "id": "cebae0ae-eabc-4957-abbc-d53f8e188295",
   "metadata": {},
   "outputs": [],
   "source": [
    "# 두 자연수 a와 b의 최대공약수를 구하는 알고리즘\n",
    "'''\n",
    "두 자연수의 최대공약수를 찾으려면\n",
    "두 수의 약수 중에서 공통된 것을 찾아\n",
    "그 값 중 최댓값인 것을 찾아야 한다.\n",
    "'''\n",
    "# 입력 : a, b\n",
    "# 출력 : a와 b의 최대공약수\n",
    "\n",
    "def gcd(a, b):\n",
    "    i = min(a, b)\n",
    "\n",
    "    while True:\n",
    "        if a % i == 0 and b % i == 0:\n",
    "            return i\n",
    "        i -= 1"
   ]
  },
  {
   "cell_type": "code",
   "execution_count": 17,
   "id": "d618c024-16be-4203-84ab-5c3c1bf97c72",
   "metadata": {},
   "outputs": [
    {
     "name": "stdout",
     "output_type": "stream",
     "text": [
      "1\n",
      "3\n",
      "12\n",
      "27\n"
     ]
    }
   ],
   "source": [
    "print(gcd(1, 5))\n",
    "print(gcd(3, 6))\n",
    "print(gcd(60, 24))\n",
    "print(gcd(81, 27))"
   ]
  },
  {
   "cell_type": "code",
   "execution_count": 21,
   "id": "73eacb26-3f2d-4598-9fd0-ebd9aed6ed49",
   "metadata": {},
   "outputs": [],
   "source": [
    "# 유클리드 알고리즘\n",
    "'''\n",
    "a와 b의 최대공약수는 'b'와 'a를 b로 나눈 나머지'의 최대공약수이다.\n",
    "gcd(a, b) = gcd(b, a % b)\n",
    "gcd(n, 0) = n\n",
    "어떤 두 수의 최대공약수를 구하기 위해 다시 다른 두 수의 최대공약수를 구하고 있다.\n",
    "=> 재귀 호출\n",
    "'''\n",
    "\n",
    "def gcd2(a, b):\n",
    "    print(f\"gcd : {a} {b}\")\n",
    "    if b == 0:\n",
    "        return a\n",
    "    return gcd2(b, a % b)"
   ]
  },
  {
   "cell_type": "code",
   "execution_count": 22,
   "id": "47907be8-4cf4-4309-90e0-d9c578586262",
   "metadata": {},
   "outputs": [
    {
     "name": "stdout",
     "output_type": "stream",
     "text": [
      "gcd : 1 5\n",
      "gcd : 5 1\n",
      "gcd : 1 0\n",
      "1\n",
      "gcd : 3 6\n",
      "gcd : 6 3\n",
      "gcd : 3 0\n",
      "3\n",
      "gcd : 60 24\n",
      "gcd : 24 12\n",
      "gcd : 12 0\n",
      "12\n",
      "gcd : 81 27\n",
      "gcd : 27 0\n",
      "27\n"
     ]
    }
   ],
   "source": [
    "print(gcd2(1, 5))\n",
    "print(gcd2(3, 6))\n",
    "print(gcd2(60, 24))\n",
    "print(gcd2(81, 27))"
   ]
  },
  {
   "cell_type": "markdown",
   "id": "40f0c9c0-fd4f-48ac-afa2-8a22e92accfd",
   "metadata": {},
   "source": [
    "### 연습문제"
   ]
  },
  {
   "cell_type": "code",
   "execution_count": 23,
   "id": "ffa4fdda-f151-4cd6-afd3-85c68c1a4a54",
   "metadata": {},
   "outputs": [],
   "source": [
    "# 5-1 0과 1부터 시작해서 바로 앞의 두 수를 더한 값을 다음 값으로 추가하는 방식으로 만든 수열\n",
    "# n번째 피보나치 수열 찾기\n",
    "# 입력 : n값 (0부터 시작)\n",
    "# 출력 : n번째 피보나치 수열 값\n",
    "\n",
    "def fibo(n):\n",
    "    if n <= 1:\n",
    "        return n\n",
    "    return fibo(n-2) + fibo(n-1)"
   ]
  },
  {
   "cell_type": "code",
   "execution_count": 24,
   "id": "f8db9124-7c57-4831-8c9b-dbbb5cc91adf",
   "metadata": {},
   "outputs": [
    {
     "name": "stdout",
     "output_type": "stream",
     "text": [
      "13\n",
      "55\n"
     ]
    }
   ],
   "source": [
    "print(fibo(7))\n",
    "print(fibo(10))"
   ]
  },
  {
   "cell_type": "markdown",
   "id": "8a2ddfcf-c54e-476d-87c4-c2cf9f05b8cd",
   "metadata": {},
   "source": [
    "## 문제 06\n",
    "* 다시 다시 다시 다시"
   ]
  },
  {
   "cell_type": "code",
   "execution_count": 39,
   "id": "a1d3423f-38e6-4343-b4d4-cc0deb4e8cc4",
   "metadata": {},
   "outputs": [],
   "source": [
    "# 원반이 n개인 하노이의 탑을 옮기기 위한 원반 이동 순서를 출력하는 알고리즘\n",
    "'''\n",
    "1. 원반이 한 개이면 그냥 옮기면 종료\n",
    "2. 원반이 n개일 때,\n",
    "    2-1. 1번 기중에 있는 n개 원반 중 n-1개를 2번 기둥으로 옮긴다.\n",
    "    2-2. 1번 기둥에 남아 있는 가장 큰 원반을 3번 기둥으로 옮긴다.\n",
    "    2-3. 2번 기둥에 있는 n-1개 원반을 다시 3번 기둥으로 옮긴다.\n",
    "'''\n",
    "# 입력 : 옮기려는 원반의 개수 n / 옮길 원반이 현재 있는 출발점 기둥 from_pos\n",
    "#        원반을 옮길 도착점 기둥 to_pos / 옮기는 과정에서 사용할 보조 기둥 aux_pos\n",
    "# 출력 : 원반을 옮기는 순서\n",
    "\n",
    "def hanoi(n, from_pos, to_pos, aux_pos):\n",
    "    if n == 1:\n",
    "        print(from_pos, \"->\", to_pos)\n",
    "        return\n",
    "    hanoi(n-1, from_pos, aux_pos, to_pos)\n",
    "    print(from_pos, \"->\", to_pos)\n",
    "    hanoi(n-1, aux_pos, to_pos, from_pos)"
   ]
  },
  {
   "cell_type": "code",
   "execution_count": 42,
   "id": "b1dcb28a-57de-4d64-bd0b-ae05dd35ca5f",
   "metadata": {},
   "outputs": [
    {
     "name": "stdout",
     "output_type": "stream",
     "text": [
      "n = 1\n",
      "1 -> 3\n"
     ]
    }
   ],
   "source": [
    "print(\"n = 1\")\n",
    "hanoi(1, 1, 3, 2)"
   ]
  },
  {
   "cell_type": "code",
   "execution_count": 43,
   "id": "68f6d9dc-178f-4839-93c9-cdab87f0e72f",
   "metadata": {},
   "outputs": [
    {
     "name": "stdout",
     "output_type": "stream",
     "text": [
      "n = 2\n",
      "1 -> 2\n",
      "1 -> 3\n",
      "2 -> 3\n"
     ]
    }
   ],
   "source": [
    "print(\"n = 2\")\n",
    "hanoi(2, 1, 3, 2)"
   ]
  },
  {
   "cell_type": "code",
   "execution_count": 44,
   "id": "6e03d5cf-8e0d-4422-a02e-200ad207faad",
   "metadata": {},
   "outputs": [
    {
     "name": "stdout",
     "output_type": "stream",
     "text": [
      "n = 3\n",
      "1 -> 3\n",
      "1 -> 2\n",
      "3 -> 2\n",
      "1 -> 3\n",
      "2 -> 1\n",
      "2 -> 3\n",
      "1 -> 3\n"
     ]
    }
   ],
   "source": [
    "print(\"n = 3\")\n",
    "hanoi(3, 1, 3, 2)"
   ]
  },
  {
   "cell_type": "code",
   "execution_count": null,
   "id": "b9d8f3d0-f4f3-4574-a30b-5e536b53f363",
   "metadata": {},
   "outputs": [],
   "source": []
  }
 ],
 "metadata": {
  "kernelspec": {
   "display_name": "Python 3 (ipykernel)",
   "language": "python",
   "name": "python3"
  },
  "language_info": {
   "codemirror_mode": {
    "name": "ipython",
    "version": 3
   },
   "file_extension": ".py",
   "mimetype": "text/x-python",
   "name": "python",
   "nbconvert_exporter": "python",
   "pygments_lexer": "ipython3",
   "version": "3.11.7"
  }
 },
 "nbformat": 4,
 "nbformat_minor": 5
}
