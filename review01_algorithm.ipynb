{
 "cells": [
  {
   "cell_type": "markdown",
   "id": "7b199ebe-da40-41de-a41c-33725e4fc9c9",
   "metadata": {},
   "source": [
    "# 선형 리스트\n",
    "* 선형 리스트 : 데이터를 일정한 순서로 나열한 것. (= 순차 리스트)\n",
    "* 추가, 삽입, 삭제"
   ]
  },
  {
   "cell_type": "markdown",
   "id": "5e3cfe3b-5923-49ec-9690-6ee39fed2ec8",
   "metadata": {},
   "source": [
    "## 단순 구현\n",
    "### 함수"
   ]
  },
  {
   "cell_type": "markdown",
   "id": "4f960031-4974-479d-a48f-6baed1963357",
   "metadata": {},
   "source": [
    "### 변수"
   ]
  },
  {
   "cell_type": "code",
   "execution_count": 4,
   "id": "ed919320-d827-4a72-9843-d611e69ce68e",
   "metadata": {},
   "outputs": [],
   "source": [
    "car_brand = [\"KIA\", \"BMW\", \"Benz\", \"Hyundai\", \"Toyota\"]"
   ]
  },
  {
   "cell_type": "markdown",
   "id": "869e384f-9829-447f-9ee5-b6ab8a61097a",
   "metadata": {},
   "source": [
    "### 메인"
   ]
  },
  {
   "cell_type": "code",
   "execution_count": 5,
   "id": "f195c6ee-dfed-49c7-8e44-1026f042c7e2",
   "metadata": {},
   "outputs": [
    {
     "name": "stdout",
     "output_type": "stream",
     "text": [
      "['KIA', 'BMW', 'Benz', 'Hyundai', 'Toyota', 'Audi']\n"
     ]
    }
   ],
   "source": [
    "## 데이터 추가\n",
    "# 1단계 : 빈칸 추가\n",
    "car_brand.append(None)\n",
    "\n",
    "# 2단계 : 마지막 칸에 새로운 브랜드 입력\n",
    "car_brand[len(car_brand)-1] = \"Audi\"\n",
    "print(car_brand)"
   ]
  },
  {
   "cell_type": "code",
   "execution_count": 6,
   "id": "e0960c42-a44f-455b-9ee2-98f5c6ca974c",
   "metadata": {},
   "outputs": [
    {
     "name": "stdout",
     "output_type": "stream",
     "text": [
      "['KIA', 'BMW', 'Benz', 'Ford', 'Hyundai', 'Toyota', 'Audi']\n"
     ]
    }
   ],
   "source": [
    "# 데이터 삽입\n",
    "# 1단계 : 빈칸 추가\n",
    "car_brand.append(None)\n",
    "\n",
    "# 2단계 : 한 칸씩 뒤로 이동 (가장 마지막부터 원하는 위치까지)\n",
    "# 원하는 위치 : 3\n",
    "car_brand[6] = car_brand[5]\n",
    "car_brand[5] = None\n",
    "car_brand[5] = car_brand[4]\n",
    "car_brand[4] = None\n",
    "car_brand[4] = car_brand[3]\n",
    "car_brand[3] = None\n",
    "\n",
    "# 3단계 : 세 번째 자리에 새로운 데이터 입력\n",
    "car_brand[3] = \"Ford\"\n",
    "\n",
    "print(car_brand)"
   ]
  },
  {
   "cell_type": "code",
   "execution_count": 7,
   "id": "52344718-0c29-403f-9402-259a75858ce2",
   "metadata": {},
   "outputs": [
    {
     "name": "stdout",
     "output_type": "stream",
     "text": [
      "['KIA', 'BMW', 'Benz', 'Ford', 'Hyundai', 'Audi']\n"
     ]
    }
   ],
   "source": [
    "# 데이터 삭제\n",
    "# 1단계 : 데이터 지우기\n",
    "car_brand[5] = None\n",
    "\n",
    "# 2단계 : 한 칸씩 앞으로 이동 (지운 데이터 다음 데이터부터 마지막까지)\n",
    "car_brand[5] = car_brand[6]\n",
    "car_brand[6] = None\n",
    "\n",
    "# 3단계 : 빈칸 제거\n",
    "del(car_brand[6])\n",
    "\n",
    "print(car_brand)"
   ]
  },
  {
   "cell_type": "markdown",
   "id": "883519f3-d3a6-4fab-b071-e5a2f05df9df",
   "metadata": {},
   "source": [
    "## 실무 버전\n",
    "### 함수"
   ]
  },
  {
   "cell_type": "code",
   "execution_count": 9,
   "id": "ab1821a6-855b-43ae-bb50-a968698bf217",
   "metadata": {},
   "outputs": [],
   "source": [
    "# 추가\n",
    "def add_data(brand):\n",
    "    # 1단계 : 빈칸 추가\n",
    "    car_brand.append(None)\n",
    "    # 선형 리스트의 길이 파악\n",
    "    kLen = len(car_brand)\n",
    "    # 2단계 : 마지막 칸에 데이터 입력\n",
    "    car_brand[kLen-1] = brand"
   ]
  },
  {
   "cell_type": "code",
   "execution_count": 13,
   "id": "560d784f-3a9c-4115-893d-cf6d9fa2092c",
   "metadata": {},
   "outputs": [],
   "source": [
    "# 삽입\n",
    "def insert_data(idx, brand):\n",
    "    # 1단계 : 빈칸 추가\n",
    "    car_brand.append(None)\n",
    "    # 리스트 길이 파악\n",
    "    kLen = len(car_brand)\n",
    "    # 2단계 : 마지막부터 삽입할 위치 전까지 한 칸씩 뒤로 이동\n",
    "    # for 반복문 이용\n",
    "    for i in range(kLen-1, idx, -1):\n",
    "        car_brand[i] = car_brand[i-1]\n",
    "        car_brand[i-1] = None\n",
    "    # 3단계 : 데이터 삽입\n",
    "    car_brand[idx] = brand"
   ]
  },
  {
   "cell_type": "code",
   "execution_count": 15,
   "id": "84d1b2af-e5a3-4d99-b0fe-2b9d5d6df216",
   "metadata": {},
   "outputs": [],
   "source": [
    "# 삭제\n",
    "def delete_data(idx):\n",
    "    # 1단계 : 삭제\n",
    "    car_brand[idx] = None\n",
    "    # 리스트 길이 파악\n",
    "    kLen = len(car_brand)\n",
    "    # 2단계 : 삭제한 위치 바로 뒤에서부터 빈 칸 채우기\n",
    "    # for 반복문 이용\n",
    "    for i in range(idx+1, kLen, 1):\n",
    "        car_brand[i-1] = car_brand[i]\n",
    "        car_brand[i] = None\n",
    "    # 3단계 : 마지막 칸 제거\n",
    "    del(car_brand[kLen-1])"
   ]
  },
  {
   "cell_type": "markdown",
   "id": "8599a299-2856-4e44-ae8d-73f53cbb9ee3",
   "metadata": {},
   "source": [
    "### 변수"
   ]
  },
  {
   "cell_type": "code",
   "execution_count": 10,
   "id": "83280258-39d5-474c-8ad4-63e92c1e9da3",
   "metadata": {},
   "outputs": [],
   "source": [
    "# 빈 리스트 준비\n",
    "car_brand = []"
   ]
  },
  {
   "cell_type": "markdown",
   "id": "db964f67-1af1-41c4-b6c5-530cf42d4025",
   "metadata": {},
   "source": [
    "### 메인"
   ]
  },
  {
   "cell_type": "code",
   "execution_count": 11,
   "id": "c94ad8fa-7a10-4cd6-b5f9-81701c27c870",
   "metadata": {},
   "outputs": [
    {
     "name": "stdout",
     "output_type": "stream",
     "text": [
      "['KIA', 'BMW', 'Benz', 'Toyota', 'Hyundai']\n"
     ]
    }
   ],
   "source": [
    "# 추가하기\n",
    "add_data(\"KIA\")\n",
    "add_data(\"BMW\")\n",
    "add_data(\"Benz\")\n",
    "add_data(\"Toyota\")\n",
    "add_data(\"Hyundai\")\n",
    "\n",
    "print(car_brand)"
   ]
  },
  {
   "cell_type": "code",
   "execution_count": 12,
   "id": "9a3c3741-1fd5-47ee-aace-41726ea8c227",
   "metadata": {},
   "outputs": [
    {
     "name": "stdout",
     "output_type": "stream",
     "text": [
      "['KIA', 'BMW', 'Benz', 'Toyota', 'Hyundai', 'Audi']\n"
     ]
    }
   ],
   "source": [
    "# 다른 브랜드 추가\n",
    "add_data(\"Audi\")\n",
    "\n",
    "print(car_brand)"
   ]
  },
  {
   "cell_type": "code",
   "execution_count": 14,
   "id": "a0be7e34-eab9-4fb8-bd50-7206a68e256c",
   "metadata": {},
   "outputs": [
    {
     "name": "stdout",
     "output_type": "stream",
     "text": [
      "['KIA', 'BMW', 'Benz', 'Ford', 'Toyota', 'Hyundai', 'Audi']\n"
     ]
    }
   ],
   "source": [
    "# 삽입하기\n",
    "# 3에 Ford 넣기\n",
    "insert_data(3, \"Ford\")\n",
    "\n",
    "print(car_brand)"
   ]
  },
  {
   "cell_type": "code",
   "execution_count": 16,
   "id": "c833d3d3-df9c-4eec-b7c6-0e631b61a801",
   "metadata": {},
   "outputs": [
    {
     "name": "stdout",
     "output_type": "stream",
     "text": [
      "['KIA', 'BMW', 'Benz', 'Ford', 'Hyundai', 'Audi']\n"
     ]
    }
   ],
   "source": [
    "# 삭제하기\n",
    "delete_data(4)\n",
    "\n",
    "print(car_brand)"
   ]
  },
  {
   "cell_type": "code",
   "execution_count": 17,
   "id": "22094312-58c1-4323-b626-05561924f59e",
   "metadata": {},
   "outputs": [
    {
     "name": "stdin",
     "output_type": "stream",
     "text": [
      "Choose the number you want.\n",
      "1 Add | 2 Insert | 3 Delete | 4 Quit\n",
      " 4\n"
     ]
    },
    {
     "name": "stdout",
     "output_type": "stream",
     "text": [
      "[]\n"
     ]
    }
   ],
   "source": [
    "# 위의 함수들을 합치고 골라쓰기\n",
    "# 전역변수\n",
    "car_brand = []\n",
    "select = -1\n",
    "\n",
    "# 메인 코드 부분\n",
    "# 메인코드라는 것을 알리는 코드\n",
    "if __name__ == \"__main__\":\n",
    "\n",
    "    # 실제로 실행되는 부분\n",
    "    while (select != 4):\n",
    "        select = int(input(\"Choose the number you want.\\n1 Add | 2 Insert | 3 Delete | 4 Quit\\n\"))\n",
    "\n",
    "        # 데이터 추가\n",
    "        if (select == 1):\n",
    "            data = input(\"The data you want to add : \")\n",
    "            add_data(data)\n",
    "            print(car_brand)\n",
    "        # 데이터 삽입\n",
    "        elif (select == 2):\n",
    "            idx = int(input(\"Index you want to insert : \"))\n",
    "            data = input(\"The data you want to insert : \")\n",
    "            insert_data(idx, data)\n",
    "            print(car_brand)\n",
    "        # 데이터 삭제\n",
    "        elif (select == 3):\n",
    "            idx = int(input(\"Index you want to delete : \"))\n",
    "            delete_data(idx)\n",
    "            print(car_brand)\n",
    "        # 종료\n",
    "        elif (select == 4):\n",
    "            print(car_brand)\n",
    "            exit\n",
    "        # 1~4 외의 번호 입력하면\n",
    "        else:\n",
    "            print(\"Choose only in 1 to 4\")\n",
    "            continue"
   ]
  },
  {
   "cell_type": "markdown",
   "id": "f6dc7546-4b18-4013-99f9-1121a3749d51",
   "metadata": {},
   "source": [
    "# 단순 연결 리스트\n",
    "* 노드들이 물리적으로 떨어진 곳에 위치 (무조건 떨어져 있어야 하는 것이 아닌 있어도 상관없다는 말)\n",
    "* 노드 : 데이터 + 링크\n",
    "* 헤드 : 모든 데이터에 접근할 수 있음.\n",
    "* 생성/연, 삽입, 삭제, 검색"
   ]
  },
  {
   "cell_type": "markdown",
   "id": "ffdf52ef-ba96-4828-88fc-081dc34911d8",
   "metadata": {},
   "source": [
    "## 단순 구현\n",
    "### 함수"
   ]
  },
  {
   "cell_type": "code",
   "execution_count": 18,
   "id": "aab85f06-e319-4769-a14e-d58f42ce8aff",
   "metadata": {},
   "outputs": [],
   "source": [
    "# 노드 자료형 만들기\n",
    "class Node():\n",
    "    def __init__(self):\n",
    "        self.data = None\n",
    "        self.link = None"
   ]
  },
  {
   "cell_type": "markdown",
   "id": "b3056e16-36ed-45b5-9471-fddf15040ec8",
   "metadata": {},
   "source": [
    "### 변수"
   ]
  },
  {
   "cell_type": "markdown",
   "id": "0b11e978-1189-4693-ae71-bac0ee18f2d2",
   "metadata": {},
   "source": [
    "### 메인"
   ]
  },
  {
   "cell_type": "code",
   "execution_count": 27,
   "id": "bdefa5e4-e1b0-4cc2-bb30-d7c11818265f",
   "metadata": {},
   "outputs": [],
   "source": [
    "# 빈 노드 생성\n",
    "node1 = Node()\n",
    "node1.data = \"white\"\n",
    "\n",
    "# 빈 노드 생성\n",
    "node2 = Node()\n",
    "node2.data = \"yellow\"\n",
    "\n",
    "# white의 링크를 yellow에게 연결\n",
    "node1.link = node2\n",
    "\n",
    "# 빈 노드 생성\n",
    "node3 = Node()\n",
    "node3.data = \"green\"\n",
    "\n",
    "# yellow의 링크를 green에게 연결\n",
    "node2.link = node3\n",
    "\n",
    "# 빈 노드 생성\n",
    "node4 = Node()\n",
    "node4.data = \"blue\"\n",
    "\n",
    "# green의 링크를 blue에게 연결\n",
    "node3.link = node4\n",
    "\n",
    "# 빈 노드 생성\n",
    "node5 = Node()\n",
    "node5.data = \"brown\"\n",
    "\n",
    "# blue의 링크를 brown에게 연결\n",
    "node4.link = node5"
   ]
  },
  {
   "cell_type": "code",
   "execution_count": 28,
   "id": "94452b70-2524-4705-aa22-48d6647e1f7e",
   "metadata": {},
   "outputs": [
    {
     "name": "stdout",
     "output_type": "stream",
     "text": [
      "white yellow green blue brown\n"
     ]
    }
   ],
   "source": [
    "# 결과 확인 1\n",
    "print(node1.data, end=\" \")\n",
    "print(node2.data, end=\" \")\n",
    "print(node3.data, end=\" \")\n",
    "print(node4.data, end=\" \")\n",
    "print(node5.data)"
   ]
  },
  {
   "cell_type": "code",
   "execution_count": 29,
   "id": "7851abd8-b657-4725-9eda-1f9620e2e170",
   "metadata": {},
   "outputs": [
    {
     "name": "stdout",
     "output_type": "stream",
     "text": [
      "white yellow green blue brown\n"
     ]
    }
   ],
   "source": [
    "# 결과 확인 2\n",
    "print(node1.data, end=\" \")\n",
    "print(node1.link.data, end=\" \")\n",
    "print(node1.link.link.data, end=\" \")\n",
    "print(node1.link.link.link.data, end=\" \")\n",
    "print(node1.link.link.link.link.data)"
   ]
  },
  {
   "cell_type": "code",
   "execution_count": 30,
   "id": "da9eec79-e97f-4f1e-a78d-a22e7f630281",
   "metadata": {},
   "outputs": [
    {
     "name": "stdout",
     "output_type": "stream",
     "text": [
      "white yellow green blue brown \n"
     ]
    }
   ],
   "source": [
    "# 결과 확인 3\n",
    "current = node1\n",
    "print(current.data, end=\" \")\n",
    "while (current.link != None):\n",
    "    current = current.link\n",
    "    print(current.data, end=\" \")\n",
    "print()"
   ]
  },
  {
   "cell_type": "code",
   "execution_count": 31,
   "id": "a33ad0c7-bcbb-4000-bef8-1626b859ed05",
   "metadata": {},
   "outputs": [],
   "source": [
    "# 노드 삽입 : 중간에 데이터 삽입\n",
    "newNode = Node()\n",
    "newNode.data = \"purple\"\n",
    "\n",
    "# blue의 링크가 newNode를 가리키게 함\n",
    "newNode.link = node4.link\n",
    "node4.link = newNode"
   ]
  },
  {
   "cell_type": "code",
   "execution_count": 32,
   "id": "c849b893-bbd4-40e8-bcf0-259eb8495ad0",
   "metadata": {},
   "outputs": [
    {
     "name": "stdout",
     "output_type": "stream",
     "text": [
      "white yellow green blue purple brown \n"
     ]
    }
   ],
   "source": [
    "# 결과 확인 3으로 확인하기\n",
    "current = node1\n",
    "print(current.data, end=\" \")\n",
    "while (current.link != None):\n",
    "    current = current.link\n",
    "    print(current.data, end=\" \")\n",
    "print()"
   ]
  },
  {
   "cell_type": "code",
   "execution_count": 36,
   "id": "19730e01-060c-4b67-9e69-a0ffd36ff600",
   "metadata": {},
   "outputs": [
    {
     "name": "stdout",
     "output_type": "stream",
     "text": [
      "brown\n"
     ]
    }
   ],
   "source": [
    "print(node5.data)"
   ]
  },
  {
   "cell_type": "code",
   "execution_count": 37,
   "id": "2d029b7e-7311-4cd6-b302-67283c574237",
   "metadata": {},
   "outputs": [],
   "source": [
    "# 노드 삭제 : 중간 데이터 삭제\n",
    "# purple을 삭제하고 싶어\n",
    "node4.link = newNode.link\n",
    "del(newNode)"
   ]
  },
  {
   "cell_type": "code",
   "execution_count": 38,
   "id": "28ddfd80-bc22-4293-b879-06438f64e1d1",
   "metadata": {},
   "outputs": [
    {
     "name": "stdout",
     "output_type": "stream",
     "text": [
      "white yellow green blue brown \n"
     ]
    }
   ],
   "source": [
    "# 결과 확인 3으로 확인하기\n",
    "current = node1\n",
    "print(current.data, end=\" \")\n",
    "while (current.link != None):\n",
    "    current = current.link\n",
    "    print(current.data, end=\" \")\n",
    "print()"
   ]
  },
  {
   "cell_type": "markdown",
   "id": "92ea4a4f-7a9c-4d3f-9dae-3a416c72cb31",
   "metadata": {},
   "source": [
    "## 실무 버전\n",
    "### 함수"
   ]
  },
  {
   "cell_type": "code",
   "execution_count": 4,
   "id": "44291a2b-e9db-411c-9692-5bd924aa92cc",
   "metadata": {},
   "outputs": [],
   "source": [
    "# 노드 자료형 만들기\n",
    "class Node():\n",
    "    def __init__(self):\n",
    "        self.data = None\n",
    "        self.link = None"
   ]
  },
  {
   "cell_type": "code",
   "execution_count": 5,
   "id": "5f7eb45e-1682-483b-855e-38c46174157d",
   "metadata": {},
   "outputs": [],
   "source": [
    "# 노드 순서대로 출력하는 함수\n",
    "def printNodes(start):\n",
    "    current = start\n",
    "    print(current.data, end=\" \")\n",
    "    while (current.link != None):\n",
    "        current = current.link\n",
    "        print(current.data, end=\" \")\n",
    "    print()"
   ]
  },
  {
   "cell_type": "code",
   "execution_count": 6,
   "id": "57fdef16-fdee-4b6a-8ae6-203c335146da",
   "metadata": {},
   "outputs": [],
   "source": [
    "# 노드 삽입 함수 : 찾는 노드 앞에 새로운 노드 추가\n",
    "def insertNode(find_data, insert_data):\n",
    "    global memory, head, pre, current\n",
    "    \n",
    "    # case 1 : 하필 첫 번째 데이터 앞에 삽입 (찾는 노드가 첫 번째 노드)\n",
    "    if find_data == head.data:\n",
    "        node = Node()\n",
    "        node.data = insert_data\n",
    "        # 새로운 노드의 링크는 head가 가리키는 노드를 가리킨다.\n",
    "        node.link = head\n",
    "        # head가 가리키는 노드를 새로운 노드로 지정\n",
    "        head = node\n",
    "        # memory에 저장하기\n",
    "        memory.append(node)\n",
    "        return\n",
    "\n",
    "    # case 2 : 찾는 노드가 첫 번째 노드가 아님.\n",
    "    # 첫 번째부터 순차적으로 찾아야 함.\n",
    "    current = head\n",
    "    while current.link != None:\n",
    "        pre = current\n",
    "        current = current.link\n",
    "        # current가 내가 찾는 노드이면\n",
    "        if current.data == find_data:\n",
    "            # 새로운 노드 생성\n",
    "            node = Node()\n",
    "            node.data = insert_data\n",
    "            # 새로운 노드의 링크가 가리키는 것 = current\n",
    "            node.link = current\n",
    "            # pre의 링크가 가리키는 것  = 새로운 노드\n",
    "            pre.link = node\n",
    "            # memory에 저장\n",
    "            memory.append(node)\n",
    "            return\n",
    "\n",
    "    # case 3 : 찾는 노드가 없어서 삽입하려는 노드를 맨 뒤에 추가한다.\n",
    "    # 새로운 노드 만들기\n",
    "    node = Node()\n",
    "    node.data = insert_data\n",
    "    # 가장 뒤의 노드인 current의 링크가 새로운 노드를 가리키게 된다.\n",
    "    current.link = node\n",
    "    # memory에 저장\n",
    "    memory.append(node)\n",
    "    return"
   ]
  },
  {
   "cell_type": "code",
   "execution_count": 7,
   "id": "24f43ea4-0994-4700-9b9d-996406011ffe",
   "metadata": {},
   "outputs": [],
   "source": [
    "# 노드를 삭제하는 함수\n",
    "def deleteNode(delete_data):\n",
    "    global memory, head, pre, current\n",
    "    \n",
    "    # case 1 : 하필 첫 번째 노드를 삭제할 경우\n",
    "    if delete_data == head.data:\n",
    "        # head를 current로 지정한다.\n",
    "        current = head\n",
    "        # head를 head 다음 노드로 옮겨준다.\n",
    "        head = head.link\n",
    "        # current를 삭제한다.\n",
    "        del(current)\n",
    "        return\n",
    "\n",
    "    # case 2 : 중간에 있는 노드를 삭제할 경우\n",
    "    # head를 current로 지정\n",
    "    current = head\n",
    "    # current의 링크가 있으면 계속한다.\n",
    "    while current.link != None:\n",
    "        # current를 pre라고 지정\n",
    "        pre = current\n",
    "        # current의 다음 노드를 current로 지정\n",
    "        current = current.link\n",
    "        # current 노드의 데이터가 삭제하려는 데이터와 같으면\n",
    "        if current.data == delete_data:\n",
    "            # pre 링크가 삭제하려는 데이터의 다음 데이터를 가리키게 한다.\n",
    "            pre.link = current.link\n",
    "            # current 노드 삭제\n",
    "            del(current)\n",
    "            return\n",
    "    # case 3 : 삭제할 노드를 찾지 못했을 경우\n",
    "    # 아무것도 삭제하지 않음.\n",
    "    return"
   ]
  },
  {
   "cell_type": "code",
   "execution_count": 8,
   "id": "f2d547fc-9a65-4cad-8b5c-e4e1698d3acb",
   "metadata": {},
   "outputs": [],
   "source": [
    "# 노드 검색 함수\n",
    "def findNode(find_data):\n",
    "    global memory, head, pre, current\n",
    "    # head를 current 노드로 지정\n",
    "    current = head\n",
    "    # 만약 찾는 data가 head 노드의 데이터라면\n",
    "    if find_data == current.data:\n",
    "        return current\n",
    "    # current 노드의 링크가 마지막이 아니라면 (찾고자하는 노드가 중간에 존재한다면)\n",
    "    while current.link != None:\n",
    "        # current 노드의 다음 노드로 이동\n",
    "        current = current.link\n",
    "        if find_data == current.data:\n",
    "            return current\n",
    "    # 찾고자하는 node가 없다면 새로운 노드 생성?\n",
    "    return Node()"
   ]
  },
  {
   "cell_type": "markdown",
   "id": "eb0c3c83-58b9-47a3-afcd-6c50113e0d98",
   "metadata": {},
   "source": [
    "### 변수"
   ]
  },
  {
   "cell_type": "code",
   "execution_count": 9,
   "id": "afcbace8-afec-433d-9bf8-5a8d9d0b13d7",
   "metadata": {},
   "outputs": [],
   "source": [
    "# 앞으로 만들 노드 넣어두기\n",
    "memory = []\n",
    "# 변수 준비\n",
    "head, pre, current = None, None, None\n",
    "\n",
    "# 내가 사용할 데이터\n",
    "data_array = [\"Nike\", \"Adidas\", \"NewBalance\", \"Underarmour\", \"FILA\"]"
   ]
  },
  {
   "cell_type": "markdown",
   "id": "b17325ae-57fd-47ad-88f1-71d23f368634",
   "metadata": {},
   "source": [
    "### 메인"
   ]
  },
  {
   "cell_type": "code",
   "execution_count": 10,
   "id": "d5dc57c4-1f3b-4d96-bca1-a9504943f12b",
   "metadata": {},
   "outputs": [
    {
     "name": "stdout",
     "output_type": "stream",
     "text": [
      "Nike Adidas NewBalance Underarmour FILA \n"
     ]
    }
   ],
   "source": [
    "# 첫 번째 노드 지정\n",
    "node = Node()\n",
    "node.data = data_array[0]\n",
    "# 헤더 지정\n",
    "head = node\n",
    "# memory에 저장\n",
    "memory.append(node)\n",
    "\n",
    "# 첫 번째를 제외한 나머지 노드는 반복문으로 처리\n",
    "for data in data_array[1:]:\n",
    "    pre = node\n",
    "    # 빈 노드 생성\n",
    "    node = Node()\n",
    "    node.data = data\n",
    "    # 링크로 연결\n",
    "    pre.link = node\n",
    "    # memory에 저장\n",
    "    memory.append(node)\n",
    "\n",
    "# 출력\n",
    "current = head\n",
    "print(current.data, end=\" \")\n",
    "while (current.link != None):\n",
    "    current = current.link\n",
    "    print(current.data, end=\" \")\n",
    "print()"
   ]
  },
  {
   "cell_type": "code",
   "execution_count": 11,
   "id": "29d13d93-ea1a-41ed-a6d9-f318923bf8d3",
   "metadata": {},
   "outputs": [
    {
     "name": "stdout",
     "output_type": "stream",
     "text": [
      "Nike Adidas NewBalance Underarmour FILA \n"
     ]
    }
   ],
   "source": [
    "# printNodes()\n",
    "printNodes(head)"
   ]
  },
  {
   "cell_type": "code",
   "execution_count": 12,
   "id": "70369a1b-ec80-4d1a-8ad7-77fbecbc6907",
   "metadata": {},
   "outputs": [],
   "source": [
    "# 노드 삽입하기\n",
    "insertNode(\"Nike\", \"Puma\")\n",
    "insertNode(\"NewBalance\", \"Reebok\")\n",
    "insertNode(\"Lotte\", \"asics\")"
   ]
  },
  {
   "cell_type": "code",
   "execution_count": 13,
   "id": "0441efa4-d7f0-47d8-86ac-be2b5c218e37",
   "metadata": {},
   "outputs": [
    {
     "name": "stdout",
     "output_type": "stream",
     "text": [
      "Puma Nike Adidas Reebok NewBalance Underarmour FILA asics \n"
     ]
    }
   ],
   "source": [
    "# printNodes()\n",
    "printNodes(head)"
   ]
  },
  {
   "cell_type": "code",
   "execution_count": 14,
   "id": "1020d777-5318-4eaa-8fcb-016ab3e52c56",
   "metadata": {},
   "outputs": [
    {
     "name": "stdout",
     "output_type": "stream",
     "text": [
      "Puma Nike Adidas NewBalance Underarmour FILA \n"
     ]
    }
   ],
   "source": [
    "# 노드 삭제하기\n",
    "deleteNode(\"Reebok\")\n",
    "deleteNode(\"asics\")\n",
    "deleteNode(\"Kappa\")\n",
    "\n",
    "# printNodes()\n",
    "printNodes(head)"
   ]
  },
  {
   "cell_type": "code",
   "execution_count": 15,
   "id": "b9f4b683-ab88-4062-bb24-5b09eaf3e881",
   "metadata": {},
   "outputs": [
    {
     "name": "stdout",
     "output_type": "stream",
     "text": [
      "Find : Adidas\n"
     ]
    }
   ],
   "source": [
    "# 노드 검색\n",
    "retNode = findNode(\"Adidas\")\n",
    "print(f\"Find : {retNode.data}\")"
   ]
  },
  {
   "cell_type": "code",
   "execution_count": null,
   "id": "c1d6600b-9666-45a8-8b81-eef8a9337b76",
   "metadata": {},
   "outputs": [],
   "source": []
  }
 ],
 "metadata": {
  "kernelspec": {
   "display_name": "Python 3 (ipykernel)",
   "language": "python",
   "name": "python3"
  },
  "language_info": {
   "codemirror_mode": {
    "name": "ipython",
    "version": 3
   },
   "file_extension": ".py",
   "mimetype": "text/x-python",
   "name": "python",
   "nbconvert_exporter": "python",
   "pygments_lexer": "ipython3",
   "version": "3.11.7"
  }
 },
 "nbformat": 4,
 "nbformat_minor": 5
}
