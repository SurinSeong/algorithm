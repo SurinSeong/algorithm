{
 "cells": [
  {
   "cell_type": "markdown",
   "id": "5b991804-f367-4f51-b247-2f8865e7c4bf",
   "metadata": {},
   "source": [
    "# 큐\n",
    "* 양쪽이 뚫린구조\n",
    "    * 지하철 왔다갔다하기, ATM기에서 돈 뽑기"
   ]
  },
  {
   "cell_type": "markdown",
   "id": "28581596-dec2-435f-8fee-53645a6f4904",
   "metadata": {},
   "source": [
    "## 간단 구현\n",
    "### 함수"
   ]
  },
  {
   "cell_type": "code",
   "execution_count": null,
   "id": "ef484478-82ff-40b8-90f8-db5863d28bf2",
   "metadata": {},
   "outputs": [],
   "source": []
  },
  {
   "cell_type": "markdown",
   "id": "e6bdb6f9-fe8c-4883-9d00-33a1dfa5dfab",
   "metadata": {},
   "source": [
    "### 변수"
   ]
  },
  {
   "cell_type": "code",
   "execution_count": 9,
   "id": "2cad501e-21a7-4d97-98aa-847c9fdae504",
   "metadata": {},
   "outputs": [],
   "source": [
    "size = 5\n",
    "\n",
    "# 스택과 구조가 같다. 둘 다 같은 배열이지만 어떻게 사용하느냐에 따라 용도가 달라지는 것\n",
    "queue = [None for _ in range(size)]\n",
    "front = rear = -1"
   ]
  },
  {
   "cell_type": "markdown",
   "id": "c48c8074-8145-4fa5-9055-74e100ea000e",
   "metadata": {},
   "source": [
    "### 메인"
   ]
  },
  {
   "cell_type": "code",
   "execution_count": 10,
   "id": "b15c38ec-69ee-422f-8a72-6be6cf1bc2cb",
   "metadata": {},
   "outputs": [
    {
     "name": "stdout",
     "output_type": "stream",
     "text": [
      "Out <-- ['화사', '솔라', '문별', None, None] <-- In\n"
     ]
    }
   ],
   "source": [
    "# enQueue()\n",
    "rear += 1\n",
    "queue[rear] = \"화사\"\n",
    "rear += 1\n",
    "queue[rear] = \"솔라\"\n",
    "rear += 1\n",
    "queue[rear] = \"문별\"\n",
    "\n",
    "print(f\"Out <-- {queue} <-- In\")"
   ]
  },
  {
   "cell_type": "code",
   "execution_count": 11,
   "id": "fed5de59-5ccc-4481-94c0-8da4682889bc",
   "metadata": {},
   "outputs": [
    {
     "name": "stdout",
     "output_type": "stream",
     "text": [
      "guest : 화사\n",
      "guest : 솔라\n",
      "guest : 문별\n",
      "Out <-- [None, None, None, None, None] <-- In\n"
     ]
    }
   ],
   "source": [
    "# deQueue()\n",
    "front += 1\n",
    "data = queue[front]\n",
    "queue[front] = None\n",
    "print(f\"guest : {data}\")\n",
    "\n",
    "front += 1\n",
    "data = queue[front]\n",
    "queue[front] = None\n",
    "print(f\"guest : {data}\")\n",
    "\n",
    "front += 1\n",
    "data = queue[front]\n",
    "queue[front] = None\n",
    "print(f\"guest : {data}\")\n",
    "\n",
    "print(f\"Out <-- {queue} <-- In\")"
   ]
  },
  {
   "cell_type": "markdown",
   "id": "df0b147c-ea57-47e9-a545-1c70ef8c8873",
   "metadata": {},
   "source": [
    "## 실무 버전\n",
    "### 함수"
   ]
  },
  {
   "cell_type": "code",
   "execution_count": 17,
   "id": "72fbde3f-8d0f-4145-ab2f-9e6ee6794f2a",
   "metadata": {},
   "outputs": [],
   "source": [
    "# 큐가 꽉 차있는지 확인하는 함수\n",
    "def isQueueFull():\n",
    "    global size, queue, front, rear\n",
    "    # rear가 마지막 칸을 가리키면\n",
    "    if rear == (size - 1): # >=도 상관없음\n",
    "        return True\n",
    "    else:\n",
    "        return False\n",
    "\n",
    "# 큐에 데이터 삽입\n",
    "def enQueue(data):\n",
    "    global size, queue, front, rear\n",
    "    # 큐가 꽉 찼다면\n",
    "    if isQueueFull():\n",
    "        print(\"Queue is Full!\")\n",
    "        return\n",
    "    # 큐가 꽉 차지 않았다면\n",
    "    # 마지막 위치\n",
    "    rear += 1\n",
    "    # 마지막 위치에 데이터 넣어주기\n",
    "    queue[rear] = data"
   ]
  },
  {
   "cell_type": "code",
   "execution_count": 23,
   "id": "5fbd8c3e-2202-47ab-bf13-08beab2f28e6",
   "metadata": {},
   "outputs": [],
   "source": [
    "# 큐가 텅 비어있는지 확인하는 함수\n",
    "def isQueueEmpty():\n",
    "    global size, queue, front, rear\n",
    "    # front와 rear가 같으면 비었다는 것 !\n",
    "    if front == rear:\n",
    "        return True\n",
    "    else:\n",
    "        return False\n",
    "\n",
    "# 큐에서 데이터 추출\n",
    "def deQueue():\n",
    "    global size, queue, front, rear\n",
    "    # 큐가 텅 비었다면\n",
    "    if isQueueEmpty():\n",
    "        print(\"Queue is Empty!\")\n",
    "        return\n",
    "    # 큐에 데이터가 있다면\n",
    "    front += 1\n",
    "    data = queue[front]\n",
    "    queue[front] = None\n",
    "    return data"
   ]
  },
  {
   "cell_type": "code",
   "execution_count": 26,
   "id": "9fc74c12-ae90-4ecc-a188-82af095c1055",
   "metadata": {},
   "outputs": [],
   "source": [
    "# 데이터 확인\n",
    "# 큐가 텅 비었을 때는 확인할 수 없음.\n",
    "def peek():\n",
    "    global size, queue, front, rear\n",
    "    # 텅 비어있는지 확인\n",
    "    if isQueueEmpty():\n",
    "        print(\"Queue is Empty!\")\n",
    "        return\n",
    "    # 큐에 데이터가 있으면 다음 데이터 확인\n",
    "    return queue[front+1]"
   ]
  },
  {
   "cell_type": "markdown",
   "id": "c3dbd39f-693d-4de2-880f-cfdc73852205",
   "metadata": {},
   "source": [
    "### 변수"
   ]
  },
  {
   "cell_type": "code",
   "execution_count": 21,
   "id": "75ddbd3d-7829-4dc5-b713-b85f003d6e43",
   "metadata": {},
   "outputs": [],
   "source": [
    "size = 5\n",
    "queue = [None for _ in range(size)]\n",
    "# front와 rear가 같은 값이면 queue가 텅 비어있는 상태이다.\n",
    "front = rear = -1"
   ]
  },
  {
   "cell_type": "markdown",
   "id": "109a7ef2-19f5-49de-ac9f-5e95848fb623",
   "metadata": {},
   "source": [
    "### 메인"
   ]
  },
  {
   "cell_type": "code",
   "execution_count": 30,
   "id": "312fcc15-3e3b-4730-b175-f971f792be05",
   "metadata": {},
   "outputs": [
    {
     "name": "stdout",
     "output_type": "stream",
     "text": [
      "Out <-- ['화사', '솔라', '문별', '휘인', '선미'] <-- In\n"
     ]
    }
   ],
   "source": [
    "# enQueue() : 데이터 삽입\n",
    "enQueue(\"화사\")\n",
    "enQueue(\"솔라\")\n",
    "enQueue(\"문별\")\n",
    "enQueue(\"휘인\")\n",
    "enQueue(\"선미\")\n",
    "\n",
    "print(f\"Out <-- {queue} <-- In\")"
   ]
  },
  {
   "cell_type": "code",
   "execution_count": 32,
   "id": "78ac23e2-ca0a-4e24-86a7-735edd33dc1a",
   "metadata": {},
   "outputs": [
    {
     "name": "stdout",
     "output_type": "stream",
     "text": [
      "Out <-- [None, '문별', '휘인', '선미', '수린'] <-- In\n"
     ]
    }
   ],
   "source": [
    "# 한 명 더 추가해보기\n",
    "enQueue(\"수린\")\n",
    "\n",
    "print(f\"Out <-- {queue} <-- In\")"
   ]
  },
  {
   "cell_type": "code",
   "execution_count": 31,
   "id": "afc6cf27-2607-4e88-a905-c1381359b9f3",
   "metadata": {},
   "outputs": [
    {
     "name": "stdout",
     "output_type": "stream",
     "text": [
      "Guest : 화사\n",
      "Next : 솔라\n",
      "Guest : 솔라\n",
      "Next : 문별\n",
      "Out <-- [None, None, '문별', '휘인', '선미'] <-- In\n"
     ]
    }
   ],
   "source": [
    "# deQueue() : 데이터 추출\n",
    "retData = deQueue()\n",
    "print(f\"Guest : {retData}\")\n",
    "\n",
    "# peek() : 다음 데이터 확인\n",
    "print(f\"Next : {peek()}\")\n",
    "\n",
    "# deQueue()\n",
    "retData = deQueue()\n",
    "print(f\"Guest : {retData}\")\n",
    "\n",
    "# peek()\n",
    "print(f\"Next : {peek()}\")\n",
    "\n",
    "print(f\"Out <-- {queue} <-- In\")"
   ]
  },
  {
   "cell_type": "code",
   "execution_count": 33,
   "id": "8a7aefba-2545-4566-a72b-8aa1641d4a43",
   "metadata": {},
   "outputs": [
    {
     "name": "stdout",
     "output_type": "stream",
     "text": [
      "Guest : 문별\n",
      "Out <-- [None, None, '휘인', '선미', '수린'] <-- In\n"
     ]
    }
   ],
   "source": [
    "# 한 명 더 추출해보기\n",
    "retData = deQueue()\n",
    "print(f\"Guest : {retData}\")\n",
    "\n",
    "print(f\"Out <-- {queue} <-- In\")"
   ]
  },
  {
   "cell_type": "markdown",
   "id": "c1a6e0da-da39-4539-9ab6-69a9e8d0ea59",
   "metadata": {},
   "source": [
    "## 함수 보수"
   ]
  },
  {
   "cell_type": "code",
   "execution_count": 29,
   "id": "4ba8cfa9-7e7a-40f1-b466-d746888e1de3",
   "metadata": {},
   "outputs": [],
   "source": [
    "# isQueueFull()에서 경우의 수를 나눠서 생각해본다면\n",
    "# enQueue에서는 그냥 추가하는 코드만 쓰면 된다.\n",
    "def isQueueFull():\n",
    "    global size, queue, front, rear\n",
    "    \n",
    "    # 아직 채울 수 있는 경우 (넣는 부분에 공간이 있는 경우)\n",
    "    if rear != (size-1):\n",
    "        return False\n",
    "    # 정말 꽉 찬 경우\n",
    "    elif (rear == (size-1)) and (front == -1):\n",
    "        return True\n",
    "    # 앞 부분에 공간이 있는 경우\n",
    "    elif (rear == size-1) and (front != -1):\n",
    "        # 한 칸씩 앞으로 당긴다.\n",
    "        for i in range(front+1, size, 1):\n",
    "            queue[i-1] = queue[i]\n",
    "            queue[i] = None\n",
    "        front -= 1\n",
    "        rear -= 1\n",
    "        return False"
   ]
  },
  {
   "cell_type": "markdown",
   "id": "1d2e1f97-5c2b-4d92-a9f8-f1aae49545fb",
   "metadata": {},
   "source": [
    "# 원형 큐"
   ]
  },
  {
   "cell_type": "markdown",
   "id": "3e2ed331-5e27-4121-b573-b9cffcea175c",
   "metadata": {},
   "source": [
    "### 함수"
   ]
  },
  {
   "cell_type": "code",
   "execution_count": 34,
   "id": "9927c81c-1fae-4327-ac87-04b3c63d875a",
   "metadata": {},
   "outputs": [],
   "source": [
    "# 큐가 꽉 찾는지 확인하는 함수\n",
    "def isQueueFull():\n",
    "    global size, queue, front, rear\n",
    "    if ((rear+1) % size) == front:\n",
    "        return True\n",
    "    else:\n",
    "        return False"
   ]
  },
  {
   "cell_type": "code",
   "execution_count": 35,
   "id": "28008dbe-a995-498f-bd15-9039c388a0b3",
   "metadata": {},
   "outputs": [],
   "source": [
    "# 큐에 데이터 삽입\n",
    "def enQueue(data):\n",
    "    global size, queue, front, rear\n",
    "    # 큐가 꽉 찼다면\n",
    "    if isQueueFull():\n",
    "        print(\"Queue is Full!\")\n",
    "        return\n",
    "    # 큐가 꽉 차지 않았다면\n",
    "    # 마지막 위치\n",
    "    rear = (rear + 1) % size\n",
    "    # 마지막 위치에 데이터 넣어주기\n",
    "    queue[rear] = data"
   ]
  },
  {
   "cell_type": "code",
   "execution_count": 36,
   "id": "456b09df-c348-4fc2-99c6-c07870f79d33",
   "metadata": {},
   "outputs": [],
   "source": [
    "# 큐가 텅 비어있는지 확인하는 함수\n",
    "def isQueueEmpty():\n",
    "    global size, queue, front, rear\n",
    "    # front와 rear가 같으면 비었다는 것 !\n",
    "    if front == rear:\n",
    "        return True\n",
    "    else:\n",
    "        return False"
   ]
  },
  {
   "cell_type": "code",
   "execution_count": 37,
   "id": "38911331-a039-4efe-812c-4fbd51a83762",
   "metadata": {},
   "outputs": [],
   "source": [
    "# 큐에서 데이터 추출\n",
    "def deQueue():\n",
    "    global size, queue, front, rear\n",
    "    # 큐가 텅 비었다면\n",
    "    if isQueueEmpty():\n",
    "        print(\"Queue is Empty!\")\n",
    "        return\n",
    "    # 큐에 데이터가 있다면\n",
    "    front = (front + 1) % size\n",
    "    data = queue[front]\n",
    "    queue[front] = None\n",
    "    return data"
   ]
  },
  {
   "cell_type": "code",
   "execution_count": 38,
   "id": "6c9ba6da-dddf-4a12-b210-3f7b07def84a",
   "metadata": {},
   "outputs": [],
   "source": [
    "# 데이터 확인\n",
    "# 큐가 텅 비었을 때는 확인할 수 없음.\n",
    "def peek():\n",
    "    global size, queue, front, rear\n",
    "    # 텅 비어있는지 확인\n",
    "    if isQueueEmpty():\n",
    "        print(\"Queue is Empty!\")\n",
    "        return\n",
    "    # 큐에 데이터가 있으면 다음 데이터 확인\n",
    "    return queue[(front+1) % size]"
   ]
  },
  {
   "cell_type": "markdown",
   "id": "38f8e66e-c121-4991-a031-a905959d2484",
   "metadata": {},
   "source": [
    "### 변수"
   ]
  },
  {
   "cell_type": "code",
   "execution_count": 39,
   "id": "3fbc77e4-b797-4b11-828c-58fc0a24b410",
   "metadata": {},
   "outputs": [],
   "source": [
    "size = 5\n",
    "queue = [None for _ in range(size)]\n",
    "# front와 rear가 같은 값이면 queue가 텅 비어있는 상태이다.\n",
    "front = rear = 0"
   ]
  },
  {
   "cell_type": "markdown",
   "id": "e60753f0-df53-467a-80c4-ed3e65418521",
   "metadata": {},
   "source": [
    "### 메인"
   ]
  },
  {
   "cell_type": "code",
   "execution_count": 40,
   "id": "7eb5bfb2-c755-420d-852c-08f1fa4c2f97",
   "metadata": {},
   "outputs": [
    {
     "name": "stdout",
     "output_type": "stream",
     "text": [
      "Out <-- [None, '화사', '솔라', '문별', '휘인'] <-- In\n"
     ]
    }
   ],
   "source": [
    "# enQueue() : 데이터 삽입\n",
    "enQueue(\"화사\")\n",
    "enQueue(\"솔라\")\n",
    "enQueue(\"문별\")\n",
    "enQueue(\"휘인\")\n",
    "\n",
    "print(f\"Out <-- {queue} <-- In\")"
   ]
  },
  {
   "cell_type": "code",
   "execution_count": 41,
   "id": "d1443571-6ee1-4160-94dc-a98e116c6da0",
   "metadata": {},
   "outputs": [
    {
     "name": "stdout",
     "output_type": "stream",
     "text": [
      "Guest : 화사\n",
      "Next : 솔라\n",
      "Guest : 솔라\n",
      "Next : 문별\n",
      "Out <-- [None, None, None, '문별', '휘인'] <-- In\n"
     ]
    }
   ],
   "source": [
    "# deQueue() : 데이터 추출\n",
    "retData = deQueue()\n",
    "print(f\"Guest : {retData}\")\n",
    "\n",
    "# peek() : 다음 데이터 확인\n",
    "print(f\"Next : {peek()}\")\n",
    "\n",
    "# deQueue()\n",
    "retData = deQueue()\n",
    "print(f\"Guest : {retData}\")\n",
    "\n",
    "# peek()\n",
    "print(f\"Next : {peek()}\")\n",
    "print(f\"Out <-- {queue} <-- In\")"
   ]
  },
  {
   "cell_type": "code",
   "execution_count": 42,
   "id": "4cc5d0f9-36c1-49d0-a70f-f91ba31b68ad",
   "metadata": {},
   "outputs": [
    {
     "name": "stdout",
     "output_type": "stream",
     "text": [
      "Out <-- ['수린', None, None, '문별', '휘인'] <-- In\n",
      "Out <-- ['수린', '수은', None, '문별', '휘인'] <-- In\n",
      "Queue is Full!\n",
      "Out <-- ['수린', '수은', None, '문별', '휘인'] <-- In\n"
     ]
    }
   ],
   "source": [
    "# 더 추가해보기\n",
    "enQueue(\"수린\")\n",
    "print(f\"Out <-- {queue} <-- In\")\n",
    "\n",
    "enQueue(\"수은\")\n",
    "print(f\"Out <-- {queue} <-- In\")\n",
    "\n",
    "enQueue(\"수혁\")\n",
    "print(f\"Out <-- {queue} <-- In\")"
   ]
  },
  {
   "cell_type": "code",
   "execution_count": null,
   "id": "80a25dd8-fdbf-41bb-924f-7511760907b4",
   "metadata": {},
   "outputs": [],
   "source": []
  }
 ],
 "metadata": {
  "kernelspec": {
   "display_name": "Python 3 (ipykernel)",
   "language": "python",
   "name": "python3"
  },
  "language_info": {
   "codemirror_mode": {
    "name": "ipython",
    "version": 3
   },
   "file_extension": ".py",
   "mimetype": "text/x-python",
   "name": "python",
   "nbconvert_exporter": "python",
   "pygments_lexer": "ipython3",
   "version": "3.11.7"
  }
 },
 "nbformat": 4,
 "nbformat_minor": 5
}
