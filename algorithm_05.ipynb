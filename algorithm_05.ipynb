{
 "cells": [
  {
   "cell_type": "markdown",
   "id": "7d1d63aa-a233-4199-99e9-6fdf7b622337",
   "metadata": {},
   "source": [
    "# 다섯째 마당 응용문제"
   ]
  },
  {
   "cell_type": "markdown",
   "id": "385fa787-9de4-4da3-af59-c13f9522a5dc",
   "metadata": {},
   "source": [
    "## 문제 16 미로찾기 알고리즘\n",
    "* 미로의 형태와 출발점과 도착점이 주어졌을 때 출발점에서 도착점까지 가기 위한 최단 경로를 찾는 알고리즘 만들기\n",
    "* 구역을 나눠 이름을 붙이고 관계성을 따져보면 된다."
   ]
  },
  {
   "cell_type": "code",
   "execution_count": 2,
   "id": "f9d23513-a888-4409-b398-9719c62a22b8",
   "metadata": {},
   "outputs": [],
   "source": [
    "# 미로 찾기 프로그램 (그래프 탐색)\n",
    "# 입력 : 미로 정보 g, 출발점 start, 도착점 end\n",
    "# 출력 : 미로를 나가기 위한 이동 경로는 문자열, 나갈 수 없는 미로면 물음표\n",
    "\n",
    "def solve_maze(g, start, end):\n",
    "    qu = []\n",
    "    done = set()\n",
    "\n",
    "    qu.append(start)\n",
    "    done.add(start)\n",
    "\n",
    "    while qu:\n",
    "        n = qu.pop(0)\n",
    "        v = n[-1]\n",
    "\n",
    "        if v == end:\n",
    "            return n\n",
    "        for x in g[v]:\n",
    "            if x not in done:\n",
    "                qu.append(n + x)\n",
    "                done.add(x)\n",
    "\n",
    "    return \"?\""
   ]
  },
  {
   "cell_type": "code",
   "execution_count": 3,
   "id": "962755e4-37d1-4fdc-becf-8e3ca6778cc7",
   "metadata": {},
   "outputs": [
    {
     "name": "stdout",
     "output_type": "stream",
     "text": [
      "aeimnjfghlp\n"
     ]
    }
   ],
   "source": [
    "maze = {\n",
    "        'a': ['e'],\n",
    "        'b': ['c', 'f'],\n",
    "        'c': ['b', 'd'],\n",
    "        'd': ['c'],\n",
    "        'e': ['a', 'i'],\n",
    "        'f': ['b', 'g', 'j'],\n",
    "        'g': ['f', 'h'],\n",
    "        'h': ['g', 'l'],\n",
    "        'i': ['e', 'm'],\n",
    "        'j': ['f', 'k', 'n'],\n",
    "        'k': ['j', 'o'],\n",
    "        'l': ['h', 'p'],\n",
    "        'm': ['i', 'n'],\n",
    "        'n': ['m', 'j'],\n",
    "        'o': ['k'],\n",
    "        'p': ['l']\n",
    "        }\n",
    "print(solve_maze(maze, 'a', 'p'))"
   ]
  },
  {
   "cell_type": "markdown",
   "id": "71ddae5c-3081-400a-b91b-35aeb7391acb",
   "metadata": {},
   "source": [
    "## 문제 17 가짜 동전 찾기 알고리즘\n",
    "* 겉보기에 똑같은 동전 n개 존재\n",
    "* 한 개는 싸고 가벼운 재료로 만들어진 \"가짜 동전\"\n",
    "* 양팔 저울을 이용해서 다른 동전보다 가벼운 가짜 동전을 찾아내는 알고리즘 만들기"
   ]
  },
  {
   "cell_type": "code",
   "execution_count": 6,
   "id": "0eaa3fae-5fc2-44cc-b10f-7692bc2c04c2",
   "metadata": {},
   "outputs": [],
   "source": [
    "# 주어진 동전 n개 중 가짜 동전(fake)을 찾아내는 알고리즘 - 하나씩 비교\n",
    "# 입력 : 전체 동전 위치의 시작과 끝 (0, n-1)\n",
    "# 출력 : 가짜 동전의 위치 번호\n",
    "\n",
    "'''\n",
    "< 무게 재기 함수 >\n",
    "a에서 b까지 놓인 동전과 c에서 d까지 놓인 동전의 무게를 비교\n",
    "a에서 b까지에 가짜 동전이 있으면 -1\n",
    "c에서 d까지에 가짜 동전이 있으면 1\n",
    "둘 다 같으면 0\n",
    "'''\n",
    "\n",
    "def weigh(a, b, c, d):\n",
    "    fake = 29\n",
    "    if a <= fake and fake <= b:\n",
    "        return -1\n",
    "    if c <= fake and fake <= d:\n",
    "        return 1\n",
    "    return 0\n",
    "\n",
    "# weigh를 이용해\n",
    "# left, right까지에 있는 가짜 동전의 위치를 찾아냄\n",
    "def find_fakecoin(left, right):\n",
    "    # 가장 왼쪽 동전과 나머지 동전 비교\n",
    "    for i in range(left+1, right+1):\n",
    "        result = weigh(left, left, i, i)\n",
    "        if result == -1:\n",
    "            return left\n",
    "        elif result == 1:\n",
    "            return i\n",
    "    return -1"
   ]
  },
  {
   "cell_type": "code",
   "execution_count": 7,
   "id": "e60e462f-3be1-494f-acd2-4440fec26e8f",
   "metadata": {},
   "outputs": [
    {
     "name": "stdout",
     "output_type": "stream",
     "text": [
      "29\n"
     ]
    }
   ],
   "source": [
    "# 전체 동전 개수\n",
    "n = 100\n",
    "\n",
    "print(find_fakecoin(0, n-1))"
   ]
  },
  {
   "cell_type": "code",
   "execution_count": 9,
   "id": "c46a5387-5834-488b-8362-a984858e148f",
   "metadata": {},
   "outputs": [],
   "source": [
    "# 반씩 그룹으로 나누어 비교\n",
    "# 주어진 동전 n개 중에 가짜 동전 fake를 찾아내는 알고리즘\n",
    "# 입력 : 전체 동전 위치의 시작과 끝(0, n-1)\n",
    "# 출력 : 가짜 동전의 위치 번호\n",
    "\n",
    "def find_fakecoin2(left, right):\n",
    "    # 종료조건 : 가짜 동전이 있을 범위 안에 동전이 한 개뿐이면 그 동전이 가짜\n",
    "    if left == right:\n",
    "        return left\n",
    "    # left ~ right를 두 그룹으로 나눈다.\n",
    "    # 동전의 수가 홀수이면 두 그룹으로 나누고 한 개가 남는다.\n",
    "    half = (right-left+1) // 2\n",
    "    g1_left = left\n",
    "    g1_right = left + half - 1\n",
    "    g2_left = left + half\n",
    "    g2_right = g2_left + half - 1\n",
    "    # 나눠진 두 그룹을 weigh() 함수를 이용해 저울질 한다.\n",
    "    result = weigh(g1_left, g1_right, g2_left, g2_right)\n",
    "    # g1이 가벼움\n",
    "    if result == -1:\n",
    "        return find_fakecoin2(g1_left, g1_right) # 그룹 1 범위를 재귀 호출로 다시 조사\n",
    "    elif result == 1:\n",
    "        return find_fakecoin2(g2_left, g2_right) # 그룹 2 범위를 재귀 호출로 다시 조사\n",
    "    else:\n",
    "        return right"
   ]
  },
  {
   "cell_type": "code",
   "execution_count": 10,
   "id": "5de780a5-4122-42dc-adcb-f093b1b48efb",
   "metadata": {},
   "outputs": [
    {
     "name": "stdout",
     "output_type": "stream",
     "text": [
      "29\n"
     ]
    }
   ],
   "source": [
    "n = 100\n",
    "print(find_fakecoin2(0, n-1))"
   ]
  },
  {
   "cell_type": "markdown",
   "id": "dc1b9a55-d6cc-4fdb-9ac3-d6d725ee2ba8",
   "metadata": {},
   "source": [
    "## 문제 18 최대 수익 알고리즘\n",
    "* 어떤 주식에 대해 특정 기간 동안의 가격 변화가 주어졌을 때, 그 주식 한 주를 한번 사고 팔아 얻을 수 있는 최대 수익을 계산하는 알고리즘 만들기"
   ]
  },
  {
   "cell_type": "code",
   "execution_count": 13,
   "id": "497b3753-3019-4e48-b271-a18d3d29e43f",
   "metadata": {},
   "outputs": [],
   "source": [
    "# 가능한 모든 경우 비교\n",
    "# 주어진 주식 가격을 보고 얻을 수 있는 최대 수익을 구하는 알고리즘\n",
    "# 입력 : 주식 가격의 변화 값 (리스트 : prices)\n",
    "# 출력 : 한 주를 한 번 사고 팔아 얻을 수 있는 최대 수익값\n",
    "\n",
    "def max_profit(prices):\n",
    "    n = len(prices)\n",
    "    # 최대 수익은 항상 0 이상\n",
    "    max_profit = 0\n",
    "\n",
    "    for i in range(0, n-1):\n",
    "        for j in range(i+1, n):\n",
    "            # i 날에 사서 j날에 팔았을 때 얻을 수 있는 수익\n",
    "            profit = prices[j] - prices[i]\n",
    "            # 수익이 지금까지 최대 수익보다 크면 값을 고침\n",
    "            if profit > max_profit:\n",
    "                max_profit = profit\n",
    "    \n",
    "    return max_profit"
   ]
  },
  {
   "cell_type": "code",
   "execution_count": 14,
   "id": "81c9ad66-e228-4e93-8f12-8b3026035faa",
   "metadata": {},
   "outputs": [
    {
     "name": "stdout",
     "output_type": "stream",
     "text": [
      "2400\n"
     ]
    }
   ],
   "source": [
    "stock = [10300, 9600, 9800, 8200, 7800, 8300, 9500, 9800, 10200, 9500]\n",
    "print(max_profit(stock))"
   ]
  },
  {
   "cell_type": "code",
   "execution_count": 17,
   "id": "8d19e273-b750-4349-98b4-eaca1ad51337",
   "metadata": {},
   "outputs": [],
   "source": [
    "# 한 번 반복으로 최대 수익 찾기\n",
    "# 주어진 주식 가격을 보고 얻을 수 있는 최대 수익 구하기\n",
    "# 입력 : 주식 가격의 변화값 price\n",
    "# 출력 : 한 주를 한 번 사고 필아 얻을 수 있는 최대 수익 값\n",
    "\n",
    "def max_profit2(prices):\n",
    "    n = len(prices)\n",
    "    max_profit = 0\n",
    "    # 첫째 날의 주가를 주가의 최솟값으로 기억하기\n",
    "    min_price = prices[0]\n",
    "\n",
    "    for i in range(1, n):\n",
    "        # 지금까지의 최솟값에 주식을 사서 i날에 팔 때의 수익\n",
    "        profit = prices[i] - min_price\n",
    "        if profit > max_profit:\n",
    "            max_profit = profit\n",
    "        if prices[i] < min_price:\n",
    "            min_price = prices[i]\n",
    "    return max_profit"
   ]
  },
  {
   "cell_type": "code",
   "execution_count": 18,
   "id": "a48ea23a-90c4-42f5-959e-bc187672dc55",
   "metadata": {},
   "outputs": [
    {
     "name": "stdout",
     "output_type": "stream",
     "text": [
      "2400\n"
     ]
    }
   ],
   "source": [
    "stock = [10300, 9600, 9800, 8200, 7800, 8300, 9500, 9800, 10200, 9500]\n",
    "print(max_profit2(stock))"
   ]
  },
  {
   "cell_type": "code",
   "execution_count": 21,
   "id": "456d3082-844b-4825-8433-3157f62d58a6",
   "metadata": {},
   "outputs": [],
   "source": [
    "# 최대 수익을 구하는 두 알고리즘의 계산 속도 비교\n",
    "# 최대 수익 문제를 푸는 두 알고리즘의 계산 속도 비교하기\n",
    "# 최대 수익 문제를 O(n^2), O(n)으로 푸는 알고리즘을 각각 수행해\n",
    "# 걸린 시간을 출력/비교함.\n",
    "\n",
    "import time\n",
    "import random\n",
    "\n",
    "# 최대 수익 : O(n**2) 알고리즘\n",
    "def max_profit_slow(prices):\n",
    "    n = len(prices)\n",
    "    max_profit = 0\n",
    "\n",
    "    for i in range(0, n-1):\n",
    "        for j in range(i+1, n):\n",
    "            profit = prices[j] - prices[i]\n",
    "            if profit > max_profit:\n",
    "                max_profit = profit\n",
    "    return max_profit\n",
    "\n",
    "# 최대 수익 : O(n)\n",
    "def max_profit_fast(prices):\n",
    "    n = len(prices)\n",
    "    max_profit = 0\n",
    "    min_price = prices[0]\n",
    "\n",
    "    for i in range(1, n):\n",
    "        profit = prices[i] - min_price\n",
    "        if profit > max_profit:\n",
    "            max_profit = profit\n",
    "        if prices[i] < min_price:\n",
    "            min_price = prices[i]\n",
    "    return max_profit\n",
    "\n",
    "def test(n):\n",
    "    # 테스트 자료 만들기 (5000 ~ 20000)\n",
    "    a = []\n",
    "    for i in range(0, n):\n",
    "        a.append(random.randint(5000, 20000))\n",
    "\n",
    "    # O(n**2) 테스트\n",
    "    start = time.time()\n",
    "    mps = max_profit_slow(a)\n",
    "    end = time.time()\n",
    "    time_slow = end - start\n",
    "    \n",
    "    # O(n) 테스트\n",
    "    start = time.time()\n",
    "    mpf = max_profit_fast(a)\n",
    "    end = time.time()\n",
    "    time_fast = end - start\n",
    "\n",
    "    # 결과 출력\n",
    "    print(n, mps, mpf)\n",
    "    m = 0\n",
    "\n",
    "    if time_fast > 0:\n",
    "        m = time_slow / time_fast\n",
    "    print(\"%d %.5f %.5f %.2f\" %(n, time_slow, time_fast, m))"
   ]
  },
  {
   "cell_type": "code",
   "execution_count": 22,
   "id": "fa5af492-70cc-4cee-91b7-0d8b1d95d6ef",
   "metadata": {},
   "outputs": [
    {
     "name": "stdout",
     "output_type": "stream",
     "text": [
      "100 14780 14780\n",
      "100 0.00200 0.00000 0.00\n",
      "10000 14996 14996\n",
      "10000 6.35243 0.00300 2116.45\n"
     ]
    }
   ],
   "source": [
    "test(100)\n",
    "test(10000)"
   ]
  },
  {
   "cell_type": "code",
   "execution_count": null,
   "id": "4a5c06a7-38bb-465e-8ce8-c3aec4bcb73c",
   "metadata": {},
   "outputs": [],
   "source": []
  }
 ],
 "metadata": {
  "kernelspec": {
   "display_name": "Python 3 (ipykernel)",
   "language": "python",
   "name": "python3"
  },
  "language_info": {
   "codemirror_mode": {
    "name": "ipython",
    "version": 3
   },
   "file_extension": ".py",
   "mimetype": "text/x-python",
   "name": "python",
   "nbconvert_exporter": "python",
   "pygments_lexer": "ipython3",
   "version": "3.11.7"
  }
 },
 "nbformat": 4,
 "nbformat_minor": 5
}
