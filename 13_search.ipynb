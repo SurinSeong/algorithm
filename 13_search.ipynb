{
 "cells": [
  {
   "cell_type": "markdown",
   "id": "2b4d452a-d76b-4fb4-a6c1-fa509cf4151b",
   "metadata": {},
   "source": [
    "# 검색"
   ]
  },
  {
   "cell_type": "markdown",
   "id": "3f43b29a-3ca6-424d-9526-6fc5652d7df0",
   "metadata": {},
   "source": [
    "## 순차 검색"
   ]
  },
  {
   "cell_type": "markdown",
   "id": "e90c98f6-9a9d-4717-84d0-26b09acd4e1b",
   "metadata": {},
   "source": [
    "### 함수"
   ]
  },
  {
   "cell_type": "code",
   "execution_count": 7,
   "id": "ffdf1438-1638-4d00-a3c4-a06d97e8708d",
   "metadata": {},
   "outputs": [],
   "source": [
    "from random import randint, choice\n",
    "\n",
    "def seqSearch(array, fdata):\n",
    "    # 찾지 못하면 -1을 출력해야 하기 때문에\n",
    "    pos = -1\n",
    "    # array 길이만큼 반복\n",
    "    for i in range(len(array)):\n",
    "        # 찾는 데이터가 해당 위치의 값과 동일하면\n",
    "        if array[i] == fdata:\n",
    "            pos = i\n",
    "            # 바로 끝내도 상관없음. 이미 찾았으니깐\n",
    "            break\n",
    "    return pos\n"
   ]
  },
  {
   "cell_type": "markdown",
   "id": "d85a691f-d784-41b0-b833-57754fa27aab",
   "metadata": {},
   "source": [
    "### 변수"
   ]
  },
  {
   "cell_type": "code",
   "execution_count": 8,
   "id": "cd885677-124e-46eb-884d-36ca0f3e6d4a",
   "metadata": {},
   "outputs": [],
   "source": [
    "dataArray = [randint(30, 190) for _ in range(8)]\n",
    "findData = choice(dataArray) # 누나 키"
   ]
  },
  {
   "cell_type": "markdown",
   "id": "a1944384-7c52-454c-92a4-b07942baac1b",
   "metadata": {},
   "source": [
    "### 메인"
   ]
  },
  {
   "cell_type": "code",
   "execution_count": 9,
   "id": "759ee216-b0f2-4467-9656-937c511f50af",
   "metadata": {},
   "outputs": [
    {
     "name": "stdout",
     "output_type": "stream",
     "text": [
      "Array --> [100, 159, 89, 134, 103, 146, 117, 130]\n",
      "103 is in index 4.\n"
     ]
    }
   ],
   "source": [
    "print(f\"Array --> {dataArray}\")\n",
    "\n",
    "position = seqSearch(dataArray, findData)\n",
    "if position != -1 :\n",
    "    print(f\"{findData} is in index {position}.\")\n",
    "else:\n",
    "    print(f\"{findData} is not here.\")"
   ]
  },
  {
   "cell_type": "markdown",
   "id": "264e757d-91d2-4ee5-a716-4f0518708db3",
   "metadata": {},
   "source": [
    "## 이진 검색"
   ]
  },
  {
   "cell_type": "markdown",
   "id": "6a6181b2-1867-49aa-9836-38bc1331f489",
   "metadata": {},
   "source": [
    "### 함수"
   ]
  },
  {
   "cell_type": "code",
   "execution_count": 31,
   "id": "18acb705-9b0d-46c1-82fd-303cb8145876",
   "metadata": {},
   "outputs": [],
   "source": [
    "from random import randint, choice\n",
    "\n",
    "def binSearch(array, fdata):\n",
    "    global count\n",
    "    pos = -1\n",
    "    start = 0\n",
    "    end = len(array)-1\n",
    "    while (start <= end):\n",
    "        count += 1\n",
    "        mid = (start + end) // 2\n",
    "        if array[mid] == fdata:\n",
    "            pos = mid\n",
    "            break\n",
    "        elif array[mid] < fdata:\n",
    "            start = mid + 1\n",
    "        else:\n",
    "            end = mid - 1\n",
    "    return pos"
   ]
  },
  {
   "cell_type": "markdown",
   "id": "4fcfef45-5e35-4d1a-93f8-069b303861ee",
   "metadata": {},
   "source": [
    "### 변수"
   ]
  },
  {
   "cell_type": "code",
   "execution_count": 42,
   "id": "e07dae95-60b1-4266-88c6-328c2ee63cc6",
   "metadata": {},
   "outputs": [],
   "source": [
    "count = 0\n",
    "dataArray = [randint(0, 1000000) for _ in range(1000000)]\n",
    "dataArray.sort()\n",
    "findData = choice(dataArray) # 할머니 키"
   ]
  },
  {
   "cell_type": "markdown",
   "id": "85c4796c-163f-47d9-96bc-a303f95eb36e",
   "metadata": {},
   "source": [
    "### 메인"
   ]
  },
  {
   "cell_type": "code",
   "execution_count": 43,
   "id": "b832d06e-b30d-4843-afbb-192783208c30",
   "metadata": {},
   "outputs": [
    {
     "name": "stdout",
     "output_type": "stream",
     "text": [
      "Array --> [1, 1, 2, 2, 4, 5, 5, 6, 6, 7, 8, 9, 10, 10, 12, 13, 15, 15, 16, 17]\n",
      "591492 is in index 592100. (count : 14)\n"
     ]
    }
   ],
   "source": [
    "print(f\"Array --> {dataArray[:20]}\")\n",
    "\n",
    "position = binSearch(dataArray, findData)\n",
    "if position != -1 :\n",
    "    print(f\"{findData} is in index {position}. (count : {count})\")\n",
    "else:\n",
    "    print(f\"{findData} is not here.\")"
   ]
  },
  {
   "cell_type": "code",
   "execution_count": null,
   "id": "9ed818ac-381a-423f-a3b8-a2d3dab5495d",
   "metadata": {},
   "outputs": [],
   "source": []
  },
  {
   "cell_type": "code",
   "execution_count": null,
   "id": "28433c1b-dbf3-4e2b-b0b8-6762e3d569a1",
   "metadata": {},
   "outputs": [],
   "source": []
  }
 ],
 "metadata": {
  "kernelspec": {
   "display_name": "Python 3 (ipykernel)",
   "language": "python",
   "name": "python3"
  },
  "language_info": {
   "codemirror_mode": {
    "name": "ipython",
    "version": 3
   },
   "file_extension": ".py",
   "mimetype": "text/x-python",
   "name": "python",
   "nbconvert_exporter": "python",
   "pygments_lexer": "ipython3",
   "version": "3.11.7"
  }
 },
 "nbformat": 4,
 "nbformat_minor": 5
}
