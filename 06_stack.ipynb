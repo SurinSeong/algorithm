{
 "cells": [
  {
   "cell_type": "markdown",
   "id": "1a19ab2b-2688-4055-a357-979444bf9960",
   "metadata": {},
   "source": [
    "# Stack"
   ]
  },
  {
   "cell_type": "code",
   "execution_count": null,
   "id": "bfc70ce1-7f64-4bfd-9cc9-2e03c3ea18c6",
   "metadata": {},
   "outputs": [],
   "source": [
    "## 함수"
   ]
  },
  {
   "cell_type": "code",
   "execution_count": 5,
   "id": "1601de9e-0f2a-4d80-836e-e848ac099b4b",
   "metadata": {},
   "outputs": [],
   "source": [
    "## 변수\n",
    "stack = [None, None, None, None, None]\n",
    "top = -1"
   ]
  },
  {
   "cell_type": "code",
   "execution_count": 6,
   "id": "cf6f325b-3b4f-428f-ab8f-99e147e7066e",
   "metadata": {},
   "outputs": [],
   "source": [
    "## 메인"
   ]
  },
  {
   "cell_type": "code",
   "execution_count": 7,
   "id": "e6352af8-b8d2-4dcf-8707-6d66be4e5a34",
   "metadata": {},
   "outputs": [
    {
     "name": "stdout",
     "output_type": "stream",
     "text": [
      "바닥 : ['커피', '녹차', '꿀물', None, None]\n"
     ]
    }
   ],
   "source": [
    "# push\n",
    "top += 1\n",
    "stack[top] = \"커피\"\n",
    "\n",
    "top += 1\n",
    "stack[top] = \"녹차\"\n",
    "\n",
    "top += 1\n",
    "stack[top] = \"꿀물\"\n",
    "\n",
    "print(f\"바닥 : {stack}\")"
   ]
  },
  {
   "cell_type": "code",
   "execution_count": 8,
   "id": "87bb8bbc-ff45-4de4-bb42-1c56b154333f",
   "metadata": {},
   "outputs": [
    {
     "name": "stdout",
     "output_type": "stream",
     "text": [
      "pop : 꿀물\n",
      "pop : 녹차\n",
      "pop : 커피\n"
     ]
    }
   ],
   "source": [
    "# pop\n",
    "# 꺼내서 버리는 것이 아님 써먹어야 함.\n",
    "data = stack[top]\n",
    "stack[top] = None\n",
    "top -= 1\n",
    "print(f\"pop : {data}\")\n",
    "\n",
    "data = stack[top]\n",
    "stack[top] = None\n",
    "top -= 1\n",
    "print(f\"pop : {data}\")\n",
    "\n",
    "data = stack[top]\n",
    "stack[top] = None\n",
    "top -= 1\n",
    "print(f\"pop : {data}\")"
   ]
  },
  {
   "cell_type": "markdown",
   "id": "d89ef30c-e79d-4a31-851d-b214e60f96ca",
   "metadata": {},
   "source": [
    "## 실무 버전"
   ]
  },
  {
   "cell_type": "markdown",
   "id": "db0ec748-d173-4925-b628-fc52029adcf0",
   "metadata": {},
   "source": [
    "### 함수"
   ]
  },
  {
   "cell_type": "code",
   "execution_count": 12,
   "id": "31ccfaef-05af-4c35-a5d2-0ae843634bd8",
   "metadata": {},
   "outputs": [],
   "source": [
    "# 스택이 꽉 찾는지 확인하는 함수 (push 전에 확인 용도)\n",
    "# overflow : 아주 안 좋은 상황 --> 이것 방지하는 용도\n",
    "def isStackFull():\n",
    "    global size, stack, top\n",
    "    if top == (size-1):\n",
    "        return True\n",
    "    else:\n",
    "        return False\n",
    "\n",
    "# push 함수\n",
    "def push(data):\n",
    "    global size, stack, top\n",
    "    # 스택이 꽉 차있다면\n",
    "    if isStackFull():\n",
    "        print(\"Full! You can't push\")\n",
    "        # 아무것도 하지 않고 리턴\n",
    "        return\n",
    "    # 스택이 꽉 차지 않았다면\n",
    "    top += 1\n",
    "    stack[top] = data\n",
    "    "
   ]
  },
  {
   "cell_type": "code",
   "execution_count": 13,
   "id": "ae06a873-9ff7-4a48-a425-d6d00f2acbd9",
   "metadata": {},
   "outputs": [],
   "source": [
    "# underflow : 에러 날 수 있음.\n",
    "# 텅 비어있는 것 확인하는 함수\n",
    "# top = -1인 경우\n",
    "def isStackEmpty():\n",
    "    global size, stack, top\n",
    "    if top == -1:\n",
    "        return True\n",
    "    else:\n",
    "        return False\n",
    "\n",
    "# pop 함수\n",
    "def pop():\n",
    "    global size, stack, top\n",
    "    # 스택이 완전히 비었다면\n",
    "    if isStackEmpty():\n",
    "        print(\"Empty!\")\n",
    "        return\n",
    "    # 스택이 비어있지 않다면\n",
    "    data = stack[top]\n",
    "    stack[top] = None\n",
    "    top -= 1\n",
    "    return data\n"
   ]
  },
  {
   "cell_type": "code",
   "execution_count": 19,
   "id": "68d13ece-2ce8-4ba8-a2a5-a8c67e74f4d3",
   "metadata": {},
   "outputs": [],
   "source": [
    "# peek : 다음에 나올 것 살짝 확인하기\n",
    "def peek():\n",
    "    global size, stack, top\n",
    "    # 스택이 텅 비었다면 확인할 것이 없음.\n",
    "    if isStackEmpty():\n",
    "        print(\"Empty!\")\n",
    "        return\n",
    "    return stack[top]"
   ]
  },
  {
   "cell_type": "markdown",
   "id": "a6e25b13-c86e-42b9-95a4-251049af844c",
   "metadata": {},
   "source": [
    "### 변수"
   ]
  },
  {
   "cell_type": "code",
   "execution_count": 14,
   "id": "bd598914-8559-4e2c-87b0-cdcfdfe931c0",
   "metadata": {},
   "outputs": [],
   "source": [
    "# 스택 크기 변수 지정\n",
    "size = 5\n",
    "# 리스트 컴프리핸션으로 stack 크기 지정\n",
    "stack = [None for _ in range(size)]\n",
    "top = -1"
   ]
  },
  {
   "cell_type": "markdown",
   "id": "948089fd-aabf-4051-a152-9fcf8ba8f6f0",
   "metadata": {},
   "source": [
    "### 메인"
   ]
  },
  {
   "cell_type": "code",
   "execution_count": 20,
   "id": "de7f90fa-9cda-4b62-ad29-227035521473",
   "metadata": {},
   "outputs": [
    {
     "name": "stdout",
     "output_type": "stream",
     "text": [
      "바닥 : ['커피', '녹차', None, None, None]\n"
     ]
    }
   ],
   "source": [
    "# push 함수로 자료 넣기\n",
    "push(\"커피\")\n",
    "push(\"녹차\")\n",
    "# push(\"꿀물\")\n",
    "# push(\"콜라\")\n",
    "# push(\"환타\")\n",
    "print(f\"바닥 : {stack}\")"
   ]
  },
  {
   "cell_type": "code",
   "execution_count": 21,
   "id": "542324d1-cf1b-406b-acb4-dee924546ca1",
   "metadata": {},
   "outputs": [],
   "source": [
    "# 또 다른 데이터 push 해보기\n",
    "# push(\"게토레이\")\n",
    "# print(f\"floor : {stack}\")"
   ]
  },
  {
   "cell_type": "code",
   "execution_count": 22,
   "id": "0c415d02-1544-4bb7-885a-8b0087e9aea0",
   "metadata": {},
   "outputs": [
    {
     "name": "stdout",
     "output_type": "stream",
     "text": [
      "Pop --> 녹차\n",
      "Next --> 커피\n",
      "Pop --> 커피\n",
      "Empty!\n",
      "Pop --> None\n",
      "floor : [None, None, None, None, None]\n"
     ]
    }
   ],
   "source": [
    "# pop 함수로 자료 추출하기\n",
    "retData = pop()\n",
    "print(f\"Pop --> {retData}\")\n",
    "\n",
    "# peek\n",
    "print(f\"Next --> {peek()}\")\n",
    "\n",
    "retData = pop()\n",
    "print(f\"Pop --> {retData}\")\n",
    "\n",
    "retData = pop()\n",
    "print(f\"Pop --> {retData}\")\n",
    "print(f\"floor : {stack}\")"
   ]
  },
  {
   "cell_type": "markdown",
   "id": "55c09e64-f7b0-4ad0-8923-06e2d34162fa",
   "metadata": {},
   "source": [
    "## 프로그램 구현"
   ]
  },
  {
   "cell_type": "code",
   "execution_count": null,
   "id": "40f720d6-3fa3-46bd-b70c-f2d38a1733a5",
   "metadata": {},
   "outputs": [],
   "source": [
    "if __name__ == \"__main__\":\n",
    "    select = input(\"Choose what you want\\nInsert(I) | Extract(E) | View(V) | Quit(X)\\n\")\n",
    "    "
   ]
  }
 ],
 "metadata": {
  "kernelspec": {
   "display_name": "Python 3 (ipykernel)",
   "language": "python",
   "name": "python3"
  },
  "language_info": {
   "codemirror_mode": {
    "name": "ipython",
    "version": 3
   },
   "file_extension": ".py",
   "mimetype": "text/x-python",
   "name": "python",
   "nbconvert_exporter": "python",
   "pygments_lexer": "ipython3",
   "version": "3.11.7"
  }
 },
 "nbformat": 4,
 "nbformat_minor": 5
}
