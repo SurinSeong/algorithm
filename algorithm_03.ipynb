{
 "cells": [
  {
   "cell_type": "markdown",
   "id": "47f93cb0-fa7a-4d03-bf91-81b9f2c9b9fd",
   "metadata": {},
   "source": [
    "# 셋째 마당 탐색과 정렬\n",
    "* 문제 07 순차 탐색\n",
    "* 문제 08 선택 정렬\n",
    "* 문제 09 삽입 정렬\n",
    "* 문제 10 병합 정렬\n",
    "* 문제 11 퀵 정렬\n",
    "* 문제 12 이분 탐색"
   ]
  },
  {
   "cell_type": "markdown",
   "id": "9e0db969-e2cf-4ae9-9d1b-1d1cb53ac02a",
   "metadata": {},
   "source": [
    "## 문제 07\n",
    "* 순차 탐색 : 리스트 안에 있는 원소를 하나씩 순차적으로 비교하면서 탐색\n",
    "    * 계산 복잡도 : O(n)"
   ]
  },
  {
   "cell_type": "code",
   "execution_count": 3,
   "id": "2870374e-46a1-49b2-8df4-87ae3a645872",
   "metadata": {},
   "outputs": [],
   "source": [
    "# 주어진 리스트에 특정한 값이 있는지 찾아 그 위치를 돌려주는 알고리즘\n",
    "# 리스트에 찾는 값이 없다면 -1을 돌려준다.\n",
    "# 입력 : 리스트, 찾는 값\n",
    "# 출력 : 찾으면 그 값의 위치, 찾지 못하면 -1\n",
    "\n",
    "def search_list(l, x):\n",
    "    n = len(l)\n",
    "    for i in range(0, n):\n",
    "        if x == l[i]:\n",
    "            return i\n",
    "    return -1"
   ]
  },
  {
   "cell_type": "code",
   "execution_count": 4,
   "id": "725b4f0a-0c1d-47b6-94d8-a47dc0dd1946",
   "metadata": {},
   "outputs": [
    {
     "name": "stdout",
     "output_type": "stream",
     "text": [
      "2\n",
      "3\n",
      "-1\n"
     ]
    }
   ],
   "source": [
    "v = [17, 92, 18, 33, 58, 7, 33, 42]\n",
    "\n",
    "print(search_list(v, 18))\n",
    "print(search_list(v, 33))\n",
    "print(search_list(v, 900))"
   ]
  },
  {
   "cell_type": "markdown",
   "id": "c634f0e3-a7d2-42b5-a541-a2352c7ea6ba",
   "metadata": {},
   "source": [
    "### 연습 문제"
   ]
  },
  {
   "cell_type": "code",
   "execution_count": 5,
   "id": "3640447b-20c9-4a31-ba94-7eed325acf5d",
   "metadata": {},
   "outputs": [],
   "source": [
    "# 7-1\n",
    "'''\n",
    "프로그램 7-1은 리스트에 찾는 값이 여러 개 있더라도 첫 번째 위치만 결과로 돌려준다.\n",
    "찾는 값이 나오는 모든 위치를 리스트로 돌려주는 탐색 알고리즘을 만들기\n",
    "찾는 값이 리스트에 없다면 빈 리스트인 []를 돌려준다.\n",
    "'''\n",
    "# 입력 : 리스트, 찾고자 하는 값\n",
    "# 출력 : 찾는 값이 나오는 모든 위치\n",
    "def locations(l, x):\n",
    "    locs = []\n",
    "    n = len(l)\n",
    "    # 리스트 길이만큼 반복\n",
    "    for i in range(0, n):\n",
    "        if x == l[i]:\n",
    "            locs.append(i)\n",
    "    return locs"
   ]
  },
  {
   "cell_type": "code",
   "execution_count": 6,
   "id": "eb5b4c43-31bd-4d11-87ba-0163f19e224c",
   "metadata": {},
   "outputs": [
    {
     "name": "stdout",
     "output_type": "stream",
     "text": [
      "[2]\n",
      "[3, 6]\n",
      "[]\n"
     ]
    }
   ],
   "source": [
    "v = [17, 92, 18, 33, 58, 7, 33, 42]\n",
    "print(locations(v, 18))\n",
    "print(locations(v, 33))\n",
    "print(locations(v, 900))"
   ]
  },
  {
   "cell_type": "code",
   "execution_count": 8,
   "id": "555b41a8-20c1-40d1-830e-5e7200223de0",
   "metadata": {},
   "outputs": [],
   "source": [
    "# 7-3\n",
    "'''\n",
    "학생 번호와 이름이 리스트로 주어졌을 때\n",
    "학생 번호를 입력하면 학생 번호에 해당하는 이름을 순차 탐색으로 찾아 돌려주는 함수 만들기\n",
    "해당하는 학생 번호가 없으면 ? 돌려주기\n",
    "'''\n",
    "# 입력 : 학생 번호 리스트, 학생 이름 리스트, 찾고 싶은 학생 번호\n",
    "# 출력 : 학생 이름\n",
    "\n",
    "def who(lnum, lname, x):\n",
    "    n = len(lname)\n",
    "    # 반복문 사용해서 학생 이름 인덱스와 해당 학생 번호\n",
    "    for i in range(0, n):\n",
    "        if x == lnum[i]:\n",
    "            return lname[i]\n",
    "    return \"?\""
   ]
  },
  {
   "cell_type": "code",
   "execution_count": 9,
   "id": "cfad5755-0d04-47ed-b5f1-fd017fdc1f01",
   "metadata": {},
   "outputs": [
    {
     "name": "stdout",
     "output_type": "stream",
     "text": [
      "Summer\n",
      "?\n"
     ]
    }
   ],
   "source": [
    "stu_no = [39, 14, 67, 105]\n",
    "stu_name = [\"Justin\", \"John\", \"Mike\", \"Summer\"]\n",
    "\n",
    "print(who(stu_no, stu_name, 105))\n",
    "print(who(stu_no, stu_name, 777))"
   ]
  },
  {
   "cell_type": "markdown",
   "id": "36aca9e2-c8ee-4d54-be70-bac4f7dfb562",
   "metadata": {},
   "source": [
    "## 문제 08"
   ]
  },
  {
   "cell_type": "code",
   "execution_count": 10,
   "id": "4531e1b4-3343-4096-824b-854fdcc7607c",
   "metadata": {},
   "outputs": [],
   "source": [
    "# 주어진 리스트 안의 자료를 작은 수부터 큰 수 순서로 배열하는 정렬 알고리즘\n",
    "# 문제 : 리스트 안에 있는 자료를 순서대로 배열\n",
    "# 입력 : 정렬할 리스트\n",
    "# 출력 : 순서대로 정렬된 리스트\n",
    "# ex) 운동장에 모인 학생을 키 순서에 맞춰 일렬로 줄 세우는 방법"
   ]
  },
  {
   "cell_type": "code",
   "execution_count": 11,
   "id": "d33e923f-0755-4667-8569-8e21f6531f5f",
   "metadata": {},
   "outputs": [],
   "source": [
    "# 주어진 리스트에서 최솟값의 위치를 돌려주는 함수\n",
    "\n",
    "def min_index(a):\n",
    "    n = len(a)\n",
    "    min_index = 0\n",
    "    for i in range(0, n):\n",
    "        if a[i] < a[min_index]:\n",
    "            min_index = i\n",
    "    return min_index"
   ]
  },
  {
   "cell_type": "code",
   "execution_count": 12,
   "id": "5cd77f46-e236-4c6c-8f3f-92a41d59d2c9",
   "metadata": {},
   "outputs": [],
   "source": [
    "# 주어진 리스트 안의 자료를 작은 수부터 큰 수 순서로 배열\n",
    "\n",
    "def min_max(a):\n",
    "    result = []\n",
    "    while a:\n",
    "        min_idx = min_index(a)\n",
    "        value = a.pop(min_idx)\n",
    "        result.append(value)\n",
    "    return result"
   ]
  },
  {
   "cell_type": "code",
   "execution_count": 13,
   "id": "06a65656-9031-4aff-b924-508a6c24ad64",
   "metadata": {},
   "outputs": [
    {
     "name": "stdout",
     "output_type": "stream",
     "text": [
      "[1, 2, 3, 4, 5]\n"
     ]
    }
   ],
   "source": [
    "d = [2, 4, 1, 5, 3]\n",
    "print(min_max(d))"
   ]
  },
  {
   "cell_type": "code",
   "execution_count": 16,
   "id": "dfc18004-36e9-4111-8247-e54a0a19c92c",
   "metadata": {},
   "outputs": [],
   "source": [
    "# 선택정렬\n",
    "# 입력 : 리스트 a\n",
    "# 출력 : 없음 (입력으로 주어진 a가 정렬됨)\n",
    "\n",
    "def sel_sort(a):\n",
    "    n = len(a)\n",
    "    for i in range(0, n-1):\n",
    "        min_idx = i\n",
    "        for j in range(i+1, n):\n",
    "            if a[j] < a[min_idx]:\n",
    "                min_idx = j\n",
    "        a[i], a[min_idx] = a[min_idx], a[i]"
   ]
  },
  {
   "cell_type": "code",
   "execution_count": 17,
   "id": "3523d8b6-a613-422f-bf78-3d2c4d9e9193",
   "metadata": {},
   "outputs": [
    {
     "name": "stdout",
     "output_type": "stream",
     "text": [
      "[1, 2, 3, 4, 5]\n"
     ]
    }
   ],
   "source": [
    "d = [2, 4, 5, 1, 3]\n",
    "sel_sort(d)\n",
    "print(d)"
   ]
  },
  {
   "cell_type": "markdown",
   "id": "918c5e31-a4ee-4e1d-bba5-8c4fadc2e00e",
   "metadata": {},
   "source": [
    "### 연습 문제"
   ]
  },
  {
   "cell_type": "code",
   "execution_count": 22,
   "id": "4e5e6c73-ee3a-4412-b969-d02fd4cc8c81",
   "metadata": {},
   "outputs": [],
   "source": [
    "# 일반적인 선택 정렬 알고리즘을 사용해 리스트 [2, 4, 5, 1, 3]을 정렬하는 과정을 적어보기\n",
    "\n",
    "def mintomax(l):\n",
    "    n = len(l)\n",
    "    for i in range(0, n-1):\n",
    "        min_index = i\n",
    "        for j in range(i+1, n):\n",
    "            if l[j] < l[min_index]:\n",
    "                min_index = j\n",
    "        l[i], l[min_index] = l[min_index], l[i]\n",
    "        print(l)"
   ]
  },
  {
   "cell_type": "code",
   "execution_count": 23,
   "id": "f9a2917f-32c8-480a-a41e-8f61c10c008d",
   "metadata": {},
   "outputs": [
    {
     "name": "stdout",
     "output_type": "stream",
     "text": [
      "[1, 4, 5, 2, 3]\n",
      "[1, 2, 5, 4, 3]\n",
      "[1, 2, 3, 4, 5]\n",
      "[1, 2, 3, 4, 5]\n",
      "[1, 2, 3, 4, 5]\n"
     ]
    }
   ],
   "source": [
    "d = [2, 4, 5, 1, 3]\n",
    "mintomax(d)\n",
    "print(d)"
   ]
  },
  {
   "cell_type": "code",
   "execution_count": 24,
   "id": "5b1ba3b6-06d4-4c85-91ca-2427bb04d583",
   "metadata": {},
   "outputs": [],
   "source": [
    "# 내림차순 선택 정렬 (최대 -> 최소)\n",
    "\n",
    "def maxtomin(l):\n",
    "    # l의 길이\n",
    "    n = len(l)\n",
    "    # n만큼 반복\n",
    "    for i in range(0, n-1):\n",
    "        max_index = i\n",
    "        for j in range(i+1, n):\n",
    "            if l[j] > l[max_index]:\n",
    "                max_index = j\n",
    "        l[i], l[max_index] = l[max_index], l[i]\n",
    "        print(l)"
   ]
  },
  {
   "cell_type": "code",
   "execution_count": 25,
   "id": "c03745f7-cd19-4e23-836d-4ce1e0f2e9ba",
   "metadata": {},
   "outputs": [
    {
     "name": "stdout",
     "output_type": "stream",
     "text": [
      "[5, 4, 2, 1, 3]\n",
      "[5, 4, 2, 1, 3]\n",
      "[5, 4, 3, 1, 2]\n",
      "[5, 4, 3, 2, 1]\n",
      "[5, 4, 3, 2, 1]\n"
     ]
    }
   ],
   "source": [
    "d = [2, 4, 5, 1, 3]\n",
    "maxtomin(d)\n",
    "print(d)"
   ]
  },
  {
   "cell_type": "markdown",
   "id": "8f40a99f-4e54-46c3-8a08-2397b4d205b0",
   "metadata": {},
   "source": [
    "## 문제 09"
   ]
  },
  {
   "cell_type": "code",
   "execution_count": 26,
   "id": "528fac62-2f80-4f65-89a2-38ed54399c0f",
   "metadata": {},
   "outputs": [],
   "source": [
    "# 리스트 안의 자료를 작은 수부터 큰 수 순서로 배열하는 정렬 알고리즘\n",
    "# 삽입 정렬 (Insrtion sort) 이용\n",
    "'''\n",
    "예를 들면\n",
    "1. 학생 열 명이 모인 운동장에 선생님이 등장\n",
    "2. 선생님은 열 명 중 제일 앞에 있던 친구에게 나와 줄을 서라고 함.\n",
    "3. 나머지 9명 중 또 다른 친구에게 \"키를 맞춰\" 줄을 서라고 함.\n",
    "4. 두 번째로 줄 선 친구는 보고 자신의 위치를 알아서 맞출 수 있음.\n",
    "'''\n",
    "# 입력 : 리스트 a\n",
    "# 출력 : 정렬된 새 리스트\n",
    "\n",
    "# 리스트 r에서 v가 들어가야 할 위치를 돌려주는 함수\n",
    "def find_ins_idx(r, v):\n",
    "    # 이미 정렬된 리스트 r의 자료를 앞에서부터 차례로 확인\n",
    "    for i in range(0, len(r)):\n",
    "        # v값보다 i번 위치에 있는 자료 값이 크면\n",
    "        # v가 그 값 바로 앞에 놓여야 정렬 순서가 유지됨.\n",
    "        if v < r[i]:\n",
    "            return i\n",
    "    # 적절한 위치를 찾지 못했다면\n",
    "    # v가 r의 모든 자료보다 크다는 뜻이기 때문에 맨 뒤에 삽입\n",
    "    return len(r)\n",
    "\n",
    "def ins_sort(a):\n",
    "    # 새 리스트를 만들어 정렬된 값을 저장\n",
    "    result = []\n",
    "    # 기존 리스트에 값이 남아있는 동안 반복\n",
    "    while a:\n",
    "        # 기존 리스트에서 한 개를 꺼냄\n",
    "        value = a.pop(0)\n",
    "        # 꺼낸 값이 들어갈 적당한 위치 찾기\n",
    "        ins_idx = find_ins_idx(result, value)\n",
    "        # 찾은 위치에 값 삽입 (이후 값은 한 칸씩 밀려남)\n",
    "        result.insert(ins_idx, value)\n",
    "    return result"
   ]
  },
  {
   "cell_type": "code",
   "execution_count": 27,
   "id": "77a5b772-76f4-4c3d-8262-1b09a4586f8a",
   "metadata": {},
   "outputs": [
    {
     "name": "stdout",
     "output_type": "stream",
     "text": [
      "[1, 2, 3, 4, 5]\n"
     ]
    }
   ],
   "source": [
    "d = [2, 4, 5, 1, 3]\n",
    "print(ins_sort(d))"
   ]
  },
  {
   "cell_type": "code",
   "execution_count": 28,
   "id": "643ed300-29c0-45a2-b535-f227c1a477e3",
   "metadata": {},
   "outputs": [],
   "source": [
    "# 일반적인 삽입 알고리즘\n",
    "# 입력 : 리스트 a\n",
    "# 출력 : 없음 (입력으로 주어진 a가 정렬됨)\n",
    "\n",
    "def ins_sort1(a):\n",
    "    n = len(a)\n",
    "    # 1 ~ n-1\n",
    "    for i in range(1, n):\n",
    "        # i번 위치의 값을 key로 저장\n",
    "        key = a[i]\n",
    "        # j를 i 바로 왼쪽 위치로 저장\n",
    "        j = i - 1\n",
    "        # 리스트의 j번 위치에 있는 값과 key를 비교해 key가 삽입될 적절한 위치를 찾음\n",
    "        while j >= 0 and a[j] > key:\n",
    "            # 삽입할 공간이 생기도록 값을 오른쪽으로 한 칸 이동\n",
    "            a[j+1] = a[j]\n",
    "            j -= 1\n",
    "        # 찾은 삽입 위치에 key 저장\n",
    "        a[j+1] = key"
   ]
  },
  {
   "cell_type": "code",
   "execution_count": 29,
   "id": "4223f7c9-c3b1-4c32-86ad-1895134ec5b8",
   "metadata": {},
   "outputs": [
    {
     "name": "stdout",
     "output_type": "stream",
     "text": [
      "[1, 2, 3, 4, 5]\n"
     ]
    }
   ],
   "source": [
    "d = [2, 4, 5, 1, 3]\n",
    "ins_sort1(d)\n",
    "print(d)"
   ]
  },
  {
   "cell_type": "markdown",
   "id": "c438a92d-8d0e-4db8-a21e-5d711010f6be",
   "metadata": {},
   "source": [
    "### 연습 문제"
   ]
  },
  {
   "cell_type": "code",
   "execution_count": 35,
   "id": "c83101da-aad8-43da-9135-9dedd0ca9a35",
   "metadata": {},
   "outputs": [],
   "source": [
    "# 9-1 일반적인 삽입 정렬 알고리즘을 사용해 리스트를 정렬하는 과정을 적어보기\n",
    "\n",
    "def insert_sort(a):\n",
    "    # l의 길이\n",
    "    n = len(a)\n",
    "    for i in range(1, n):\n",
    "        key = a[i]\n",
    "        j = i - 1\n",
    "        print(a)\n",
    "        while j >= 0 and a[j] > key:\n",
    "            a[j+1] = a[j]\n",
    "            j -= 1\n",
    "        a[j+1] = key"
   ]
  },
  {
   "cell_type": "code",
   "execution_count": 36,
   "id": "5b88d0e6-389f-4a06-be71-196241d9dc5f",
   "metadata": {},
   "outputs": [
    {
     "name": "stdout",
     "output_type": "stream",
     "text": [
      "[2, 4, 5, 1, 3]\n",
      "[2, 4, 5, 1, 3]\n",
      "[2, 4, 5, 1, 3]\n",
      "[1, 2, 4, 5, 3]\n",
      "[1, 2, 3, 4, 5]\n"
     ]
    }
   ],
   "source": [
    "d = [2, 4, 5, 1, 3]\n",
    "insert_sort(d)\n",
    "print(d)"
   ]
  },
  {
   "cell_type": "code",
   "execution_count": 37,
   "id": "8ca2d18e-0f2a-46d3-8264-b32cebbc358e",
   "metadata": {},
   "outputs": [],
   "source": [
    "# 9-2 삽입 내림차순 정렬\n",
    "\n",
    "def insert_desc_sort(a):\n",
    "    n = len(a)\n",
    "    for i in range(1, n):\n",
    "        key = a[i]\n",
    "        j = i - 1\n",
    "        print(a)\n",
    "\n",
    "        while j >= 0 and a[j] < key:\n",
    "            a[j+1] = a[j]\n",
    "            j -= 1\n",
    "        a[j+1] = key"
   ]
  },
  {
   "cell_type": "code",
   "execution_count": 38,
   "id": "e3db4e1e-33bf-43e7-971c-63e73f84caa0",
   "metadata": {},
   "outputs": [
    {
     "name": "stdout",
     "output_type": "stream",
     "text": [
      "[2, 4, 5, 1, 3]\n",
      "[4, 2, 5, 1, 3]\n",
      "[5, 4, 2, 1, 3]\n",
      "[5, 4, 2, 1, 3]\n",
      "[5, 4, 3, 2, 1]\n"
     ]
    }
   ],
   "source": [
    "d = [2, 4, 5, 1, 3]\n",
    "insert_desc_sort(d)\n",
    "print(d)"
   ]
  },
  {
   "cell_type": "markdown",
   "id": "3cf8fe0e-78e6-4a54-846f-ca474c879379",
   "metadata": {},
   "source": [
    "## 문제 10"
   ]
  },
  {
   "cell_type": "code",
   "execution_count": 39,
   "id": "32cd4f48-f5b2-4cf9-b121-3c8252276034",
   "metadata": {},
   "outputs": [],
   "source": [
    "# 리스트 안의 자료를 작은 수부터 큰 수 순서로 배열하는 정렬 알고리즘 만들기\n",
    "# 재귀 호출 사용\n",
    "# 병합 정렬 (merge sort)\n",
    "'''\n",
    "학생 수를 두 줄로 나눠서 줄 세움.\n",
    "정렬된 두 줄을 만든다.\n",
    "두 줄을 비교한다.\n",
    "'''\n",
    "# 입력 : 리스트 a\n",
    "# 출력 : 정렬된 새 리스트\n",
    "\n",
    "def merge_sort(a):\n",
    "    n = len(a)\n",
    "    # 종료 조건 : 정렬할 리스트의 자료 개수가 한 개 이하이면 정렬할 필요 없음.\n",
    "    if n <= 1:\n",
    "        return a\n",
    "    # 그룹을 나누어 각각 병합 정렬을 호출하는 과정\n",
    "    # 중간을 기준으로 두 그룹으로 나눔\n",
    "    mid = n // 2\n",
    "    # 재귀 호출로 첫 번째 그룹을 정렬\n",
    "    g1 = merge_sort(a[:mid])\n",
    "    # 재귀 호출로 두 번째 그룹을 정렬\n",
    "    g2 = merge_sort(a[mid:])\n",
    "    # 두 그룹을 하나로 병합\n",
    "    # 두 그룹을 합쳐 만들 최종 결과\n",
    "    result = []\n",
    "    # 두 그룹에 모두 자료가 남아있는 동안 반복\n",
    "    while g1 and g2:\n",
    "        # 두 그룹의 맨 앞 자료 값을 비교\n",
    "        if g1[0] < g2[0]:\n",
    "            # g1의 값이 더 작으면 그 값을 빼내어 결과로 추가\n",
    "            result.append(g1.pop(0))\n",
    "        else:\n",
    "            # g2의 값이 더 작으면 그 값을 빼내어 결과로 추가\n",
    "            result.append(g2.pop(0))\n",
    "    # 아직 남아있는 자료들을 결과에 추가\n",
    "    # g1과 g2 중 이미 빈 것은 while을 바로 지나감\n",
    "    while g1:\n",
    "        result.append(g1.pop(0))\n",
    "    while g2:\n",
    "        result.append(g2.pop(0))\n",
    "    return result"
   ]
  },
  {
   "cell_type": "code",
   "execution_count": 40,
   "id": "b966d03f-7510-4fcb-a2d6-615e8831fbc0",
   "metadata": {},
   "outputs": [
    {
     "name": "stdout",
     "output_type": "stream",
     "text": [
      "[1, 2, 3, 4, 5, 6, 7, 8, 9, 10]\n"
     ]
    }
   ],
   "source": [
    "d = [6, 8, 3, 9, 10, 1, 2, 4, 7, 5]\n",
    "print(merge_sort(d))"
   ]
  },
  {
   "cell_type": "markdown",
   "id": "904f8cdf-b01c-4762-a856-ebd750c73710",
   "metadata": {},
   "source": [
    "* 재귀 호출의 세 가지 요건\n",
    "    1. 함수 안에서 자기 자신을 다시 호출함\n",
    "    2. 재귀 호출할 때 인자로 주어지는 입력 크기가 작아짐\n",
    "    3. 특정 종료 조건이 만족되면 재귀 호출을 종료함"
   ]
  },
  {
   "cell_type": "code",
   "execution_count": 41,
   "id": "38e54ff2-d20c-402f-86ef-9e9f9a7148b5",
   "metadata": {},
   "outputs": [],
   "source": [
    "# 재귀 호출\n",
    "# 입력 : 리스트 a\n",
    "# 출력 : 없음 (입력으로 주어진 a가 정렬)\n",
    "\n",
    "def merge_sort_self(a):\n",
    "    n = len(a)\n",
    "    # 종료 조건 : 정렬할 리스트의 자료 개수가 한 개 이하이면 정렬할 필요 없음.\n",
    "    if n <= 1:\n",
    "        return a\n",
    "    \n",
    "    # 그룹을 나누어 각각 병합 정렬을 호출하는 과정\n",
    "    # 중간을 기준으로 두 그웁으로 나눔\n",
    "    mid = n // 2\n",
    "    g1 = a[:mid]\n",
    "    g2 = a[mid:]\n",
    "    # 재귀호출로 정렬\n",
    "    merge_sort_self(g1)\n",
    "    merge_sort_self(g2)\n",
    "    # 두 그룹을 하나로 병헙\n",
    "    i1, i2, ia = 0, 0, 0\n",
    "\n",
    "    while i1 < len(g1) and i2 < len(g2):\n",
    "        if g1[i1] < g2[i2]:\n",
    "            a[ia] = g1[i1]\n",
    "            i1 += 1\n",
    "            ia += 1\n",
    "        else:\n",
    "            a[ia] = g2[i2]\n",
    "            i2 += 1\n",
    "            ia += 1\n",
    "    \n",
    "    # 아직 남아 있는 자료들을 결과에 추가\n",
    "    while i1 < len(g1):\n",
    "        a[ia] = g1[i1]\n",
    "        i1 += 1\n",
    "        ia += 1\n",
    "    while i2 < len(g2):\n",
    "        a[ia] = g2[i2]\n",
    "        i2 += 1\n",
    "        ia += 1"
   ]
  },
  {
   "cell_type": "code",
   "execution_count": 42,
   "id": "faa04833-3d14-485f-86da-e8deb7475f4d",
   "metadata": {},
   "outputs": [
    {
     "name": "stdout",
     "output_type": "stream",
     "text": [
      "[1, 2, 3, 4, 5, 6, 7, 8, 9, 10]\n"
     ]
    }
   ],
   "source": [
    "d = [6, 8, 3, 9, 10, 1, 2, 4, 7, 5]\n",
    "merge_sort_self(d)\n",
    "print(d)"
   ]
  },
  {
   "cell_type": "markdown",
   "id": "1d68b527-94da-4d75-9518-1a2c0da580c3",
   "metadata": {},
   "source": [
    "* 분할 정복 (divide and conquer)\n",
    "    * 큰 문제를 작은 문제로 나눠서(분할) 푸는(정복) 방법\n",
    "    * 입력 크기가 커서 풀기 어려웠던 문제도 반복해서 잘게 나누다 보면 굉장히 쉬운 문제(종료조건)가 되는 원리 이용\n",
    "    * 계산 복잡도가 더 낮은 효율적인 알고리즘을 만드는 데 도움이 된다."
   ]
  },
  {
   "cell_type": "markdown",
   "id": "a187dab0-392d-4c33-be5c-49e8150720cc",
   "metadata": {},
   "source": [
    "### 연습 문제"
   ]
  },
  {
   "cell_type": "code",
   "execution_count": 45,
   "id": "75fe517a-9659-4781-b75b-57b02f3502fa",
   "metadata": {},
   "outputs": [],
   "source": [
    "# 10-1 분할 정복으로 만드는 내림차순 정렬\n",
    "\n",
    "def merge_sort_desc(a):\n",
    "    n = len(a)\n",
    "    # 종료 조건\n",
    "    if n <= 1:\n",
    "        return a\n",
    "        \n",
    "    # 두 그룹으로 나누기\n",
    "    mid = n // 2\n",
    "    group1 = a[:mid]\n",
    "    group2 = a[mid:]\n",
    "    # 두 그룹 정렬 (재귀 호출로)\n",
    "    merge_sort_desc(group1)\n",
    "    merge_sort_desc(group2)\n",
    "\n",
    "    # 병합\n",
    "    # i1 : group1의 인덱스 / i2 : group2의 인덱스 / ia : 원래 리스트의 인덱스\n",
    "    i1, i2, ia = 0, 0, 0\n",
    "\n",
    "    while i1 < len(group1) and i2 < len(group2):\n",
    "        if group1[i1] < group2[i2]:\n",
    "            a[ia] = group2[i2]\n",
    "            i2 += 1\n",
    "            ia += 1\n",
    "        else:\n",
    "            a[ia] = group1[i1]\n",
    "            i1 += 1\n",
    "            ia += 1\n",
    "    while i1 < len(group1):\n",
    "        a[ia] = group1[i1]\n",
    "        ia += 1\n",
    "        i1 += 1\n",
    "    while i2 < len(group2):\n",
    "        a[ia] = group2[i2]\n",
    "        ia += 1\n",
    "        i2 += 1"
   ]
  },
  {
   "cell_type": "code",
   "execution_count": 46,
   "id": "c1b3c07c-e79c-4498-a19f-617d252b17e4",
   "metadata": {},
   "outputs": [
    {
     "name": "stdout",
     "output_type": "stream",
     "text": [
      "[10, 9, 8, 7, 6, 5, 4, 3, 2, 1]\n"
     ]
    }
   ],
   "source": [
    "d = [6, 8, 3, 9, 10, 1, 2, 4, 7, 5]\n",
    "merge_sort_desc(d)\n",
    "print(d)"
   ]
  },
  {
   "cell_type": "markdown",
   "id": "3f6db258-f99b-4269-8a86-03ddd43ba34a",
   "metadata": {},
   "source": [
    "## 문제 11"
   ]
  },
  {
   "cell_type": "code",
   "execution_count": 48,
   "id": "73c2b457-905e-4ea1-8c76-db2bd25df8da",
   "metadata": {},
   "outputs": [],
   "source": [
    "# 리스트 안의 자료를 작은 수부터 큰 수 순서로 배열하는 정렬 알고리즘 만들기\n",
    "# 퀵 정렬 : 그룹을 나눌 때 미리 기준과 비교해서 나눈다\n",
    "# 먼저 기준과 비교해서 그룹을 나눈 후 각각 재귀 호출해 합치는 방식\n",
    "'''\n",
    "리스트 안의 자료 중 기준이 될 자료를 뽑는다.\n",
    "기준을 기준으로 다른 자료를 줄 세운다.\n",
    "중간에서부터 정렬을 해가는 방식\n",
    "'''\n",
    "# 입력 : 리스트 a\n",
    "# 출력 : 정렬된 새 리스트\n",
    "\n",
    "def quick_sort(a):\n",
    "    n = len(a)\n",
    "    # 종료 조건 : 정렬할 리스트의 자료 개수가 한 개 이하이면 정렬할 필요가 없음\n",
    "    if n <= 1:\n",
    "        return a\n",
    "\n",
    "    # 기준 값을 정하고 기준에 맞춰 그룹을 나눔.\n",
    "    # 편의상 리스트의 마지막 값을 기준 값으로 정한다.\n",
    "    pivot = a[-1]\n",
    "    # 그룹1, 2 리스트 설정 / group1 : 기준보다 작은 값 / group2 : 기준보다 큰 값\n",
    "    group1 = []\n",
    "    group2 = []\n",
    "    # 마지막 값은 기준 값이기 때문에 제외한다.\n",
    "    for i in range(0, n-1):\n",
    "        # 기준 값과 비교\n",
    "        if a[i] < pivot:\n",
    "            # 작으면 group1에 추가\n",
    "            group1.append(a[i])\n",
    "        else:\n",
    "            # 크면 group2에 추가\n",
    "            group2.append(a[i])\n",
    "    # 각 그룹에 대해 재귀 호출로 퀵 정렬한 후, 기준 값과 합쳐 하나의 리스트로 결괏값을 반환\n",
    "    return quick_sort(group1) + [pivot] + quick_sort(group2)"
   ]
  },
  {
   "cell_type": "code",
   "execution_count": 49,
   "id": "698099f0-0785-42cc-8342-6b99945ffc9e",
   "metadata": {},
   "outputs": [
    {
     "name": "stdout",
     "output_type": "stream",
     "text": [
      "[1, 2, 3, 4, 5, 6, 7, 8, 9, 10]\n"
     ]
    }
   ],
   "source": [
    "d = [6, 8, 3, 9, 10, 1, 2, 4, 7, 5]\n",
    "print(quick_sort(d))"
   ]
  },
  {
   "cell_type": "code",
   "execution_count": 50,
   "id": "5d04d18f-8b0a-4ff8-abd7-25f232dabfca",
   "metadata": {},
   "outputs": [],
   "source": [
    "# 일반적인 퀵 정렬 알고리즘\n",
    "# 입력 : 리스트 a\n",
    "# 출력 : 없음 (입력으로 주어진 a가 정렬됨.)\n",
    "# 리스트 a의 어디부터 (start) 어디까지 (end)가 정렬대상인지 범위를 지정해 정렬하는 재귀 호출 함수\n",
    "\n",
    "def quick_sort_sub(a, start, end):\n",
    "    # 종료 조건 : 정렬 대상이 1개 이하이면 정렬할 필요 없음.\n",
    "    if end - start <= 0:\n",
    "        return a\n",
    "    # 기준 값을 정하고 기준 값에 맞춰 리스트 안에서 각 자료의 위치를 맞춤\n",
    "    # [기준 값보다 작은 값들, 기준 값, 기준 값보다 큰 값들]\n",
    "    # 편의상 리스트의 마지막 값을 기준 값으로 정한다.\n",
    "    pivot = a[end]\n",
    "    i = start\n",
    "\n",
    "    for j in range(start, end):\n",
    "        if a[j] <= pivot:\n",
    "            a[i], a[j] = a[j], a[i]\n",
    "            i += 1\n",
    "    a[i], a[end] = a[end], a[i]\n",
    "\n",
    "    # 재귀 호출 부분\n",
    "    # 기준 값보다 작은 그룹을 재귀 호출로 다시 정렬\n",
    "    quick_sort_sub(a, start, i-1)\n",
    "    # 기준 값보다 큰 그룹을 재귀 호출로 다시 정렬\n",
    "    quick_sort_sub(a, i+1, end)\n",
    "\n",
    "# 리스트 전체 (0, len(a)-1)를 대상으로 재귀 호출 함수 호출\n",
    "def quick_sort_self(a):\n",
    "    quick_sort_sub(a, 0, len(a)-1)"
   ]
  },
  {
   "cell_type": "code",
   "execution_count": 51,
   "id": "bcd7ca44-a895-42d8-9f8e-87ae04faf6da",
   "metadata": {},
   "outputs": [
    {
     "name": "stdout",
     "output_type": "stream",
     "text": [
      "[1, 2, 3, 4, 5, 6, 7, 8, 9, 10]\n"
     ]
    }
   ],
   "source": [
    "d = [6, 8, 3, 9, 10, 1, 2, 4, 7, 5]\n",
    "quick_sort_self(d)\n",
    "print(d)"
   ]
  },
  {
   "cell_type": "markdown",
   "id": "77d8676f-3261-45f9-ac27-6a1b8ef7bab9",
   "metadata": {},
   "source": [
    "* 기준 값의 중요성 : 좋은 기준이 정렬의 효율성을 가늠한다."
   ]
  },
  {
   "cell_type": "markdown",
   "id": "ac6273b5-141a-4f70-8d90-fd56760db4e0",
   "metadata": {},
   "source": [
    "### 연습 문제"
   ]
  },
  {
   "cell_type": "code",
   "execution_count": 52,
   "id": "56965903-5adc-4867-8b39-aea545cce096",
   "metadata": {},
   "outputs": [],
   "source": [
    "# 11-1. 거품정렬\n",
    "'''\n",
    "1. 일단 학생들을 아무렇게나 일렬로 줄을 세운다.\n",
    "2. 선생님이 맨 앞에서부터 뒤로 이동하면서 이웃한 앞뒤 학생의 키를 서로 비교한다.\n",
    "앞에 있는 학생의 키가 바로 뒤에 있는 학생보다 크면 두 학생의 자리를 바꾼다.\n",
    "3. 계속 뒤로 이동하면서 이웃한 앞뒤 학생의 키를 비교해서 필요하면 학생의 위치를 서로 바꾼다.\n",
    "4. 모든 학생이 키 순서대로 줄 설 때까지 이 과정을 반복\n",
    "(줄의 끝까지 확인하는 동안 자리를 바꾼 적이 한 번도 없으면 모든 학생이 순서대로 줄을 선 것이다.)\n",
    "'''\n",
    "# 입력 : 리스트 a\n",
    "# 출력 : 없음 (입력으로 주어진 a가 정렬됨.)\n",
    "def bubble_sort(a):\n",
    "    n = len(a)\n",
    "    # 종료 조건\n",
    "    if n <= 1:\n",
    "        return a\n",
    "    # 정렬 완료될 때까지 계속하기\n",
    "    while True:\n",
    "        # 자료를 앞뒤로 바꾸었는지 여부\n",
    "        changed = False\n",
    "        # 자료를 훑어보면서 뒤집힌 자료가 있으면 바꾸고 바뀌었다고 표시\n",
    "        for i in range(0, n-1):\n",
    "            # 앞이 뒤보다 크면\n",
    "            if a[i] > a[i+1]:\n",
    "                print(a) # 과정 출력\n",
    "                # 두 자료의 위치를 맞바꿈\n",
    "                a[i], a[i+1] = a[i+1], a[i]\n",
    "                # 자료가 앞뒤로 바뀌었음을 기록\n",
    "                changed = True\n",
    "        # 자료를 한 번 훑어보는 동안 바뀐 적이 없다면 정렬이 완성된 것이기 때문에 종료\n",
    "        # 바뀐 적이 있으면 다시 앞에서부터 비교 반복\n",
    "        if changed == False:\n",
    "            return"
   ]
  },
  {
   "cell_type": "code",
   "execution_count": 53,
   "id": "a5ed0ecd-58fb-4909-8c77-d3f156ddd057",
   "metadata": {},
   "outputs": [
    {
     "name": "stdout",
     "output_type": "stream",
     "text": [
      "[2, 4, 5, 1, 3]\n",
      "[2, 4, 1, 5, 3]\n",
      "[2, 4, 1, 3, 5]\n",
      "[2, 1, 4, 3, 5]\n",
      "[2, 1, 3, 4, 5]\n",
      "[1, 2, 3, 4, 5]\n"
     ]
    }
   ],
   "source": [
    "d = [2, 4, 5, 1, 3]\n",
    "bubble_sort(d)\n",
    "print(d)"
   ]
  },
  {
   "cell_type": "markdown",
   "id": "17bc4459-a30e-4427-bcaf-6131a05bc39e",
   "metadata": {},
   "source": [
    "## 문제 12\n",
    "* 이분 탐색"
   ]
  },
  {
   "cell_type": "code",
   "execution_count": null,
   "id": "7cb3185b-4308-405d-ae49-c85d51b58c1c",
   "metadata": {},
   "outputs": [],
   "source": [
    "# 자료가 크기 순서대로 정렬된 리스트에서 특정한 값이 있는지 찾아 그 위치를 돌려주는 알고리즘.\n",
    "# 리스트에 찾는 값이 없으면 -1를 돌려줌\n",
    "'''\n",
    "두꺼운 책을 한 권 앞에 두고 특정한 쪽 수(p.618)를 찾는 과정\n",
    "1. 책의 중간쯤을 펼쳐 쪽 수를 보니 p.520\n",
    "2. 찾고자 하는 쪽 수가 펼친 쪽 수보다 크기 때문에 (618 > 520) 펼친 곳의 앞쪽은 찾을 필요가 없음.\n",
    "3. 현재 펼친 곳에서 뒤쪽으로 적당해 보이는 곳을 다시 펼치니 710\n",
    "4. 찾고자 하는 쪽 수가 펼친 쪽 수보다 작기 때문에 (618 < 710) 펼친 곳의 뒤쪽은 더 이상 찾을 필요가 없음\n",
    "5. 이번에는 다시 앞쪽으로 책을 펼쳤더니 613쪽이 나옴.\n",
    "6. 찾으려는 쪽수와 가까운 쪽이기 때문에 한장씩 넘긴다.\n",
    "7. 원하는 쪽이 나오면 멈추\n",
    "'''"
   ]
  },
  {
   "cell_type": "code",
   "execution_count": 54,
   "id": "358e47d0-e007-42bc-a114-161f2fae8fe7",
   "metadata": {},
   "outputs": [],
   "source": [
    "# 이분 탐색 : 리스트에서 특정 숫자 위치 찾기\n",
    "# 입력 : 리스트 a, 찾는 값 x\n",
    "# 출력 : 찾으면 그 값의 위치, 찾지 못하면 -1\n",
    "\n",
    "def binary_search(a, x):\n",
    "    # 탐색할 범위를 저장하는 변수 start, end\n",
    "    # 리스트 전체를 범위로 탐색 시작 (0, len(a)-1)\n",
    "    start = 0\n",
    "    end = len(a)-1\n",
    "\n",
    "    # 탐색할 범위가 남아 있는 동안 반복\n",
    "    while start <= end:\n",
    "        # 탐색 범위의 중간 위치\n",
    "        mid = (start + end) // 2\n",
    "        # 발견!\n",
    "        if x == a[mid]:\n",
    "            return mid\n",
    "        # 찾는 값이 더 크다면 오른쪽으로 범위를 좁혀 계속 탐색\n",
    "        elif x > a[mid]:\n",
    "            start = mid + 1\n",
    "        # 찾는 값이 더 작으면 왼쪽으로 범위를 좁혀 계속 탐색\n",
    "        else:\n",
    "            end = mid - 1\n",
    "    # 찾지 못했을 때\n",
    "    return -1"
   ]
  },
  {
   "cell_type": "code",
   "execution_count": 55,
   "id": "8c040b74-b626-4c3e-a647-bf1af99c8f09",
   "metadata": {},
   "outputs": [
    {
     "name": "stdout",
     "output_type": "stream",
     "text": [
      "5\n",
      "-1\n"
     ]
    }
   ],
   "source": [
    "d = [1, 4, 9, 16, 25, 36, 49, 64, 81]\n",
    "print(binary_search(d, 36))\n",
    "print(binary_search(d, 50))"
   ]
  },
  {
   "cell_type": "markdown",
   "id": "2440347f-619f-41a5-86c0-dc0e58da57dd",
   "metadata": {},
   "source": [
    "### 연습 문제"
   ]
  },
  {
   "cell_type": "code",
   "execution_count": 56,
   "id": "26d5be59-bf6a-4d29-befb-ec2dab512d29",
   "metadata": {},
   "outputs": [],
   "source": [
    "# 12-1 재귀호출을 사용한 이분 탐색 알고리즘 만들기\n",
    "'''\n",
    "1) 주어진 탐색 대상이 비어있다면 탐색할 필요 없음\n",
    "2) 찾는 값과 주어진 탐색 대상의 중간 위치 값을 비교\n",
    "3) 찾는 값과 중간 위치 값이 같다면 결괏값으로 중간 위치 값을 돌려줌\n",
    "4) 찾는 값이 중간 위치 값보다 크다면 or 작다면 중간 위치의 오른쪽을 대상으로 이분 탐색 함수 재귀 호출\n",
    "'''\n",
    "# 리스트에서 특정 숫자 위치 찾기 (이분 탐색과 재귀 호출)\n",
    "# 입력 : 리스트 = a, 찾는 값 = x\n",
    "# 출력 : 특정 숫자를 찾으면 그 값의 위치, 찾지 못하면 -1\n",
    "\n",
    "# 리스트 a의 어디부터(start) 어디까지(end)가 탐색 범위인지 지정해\n",
    "# 그 범위 안에서 x를 찾는 재귀 함수\n",
    "\n",
    "def binary_search_sub(a, x, start, end):\n",
    "    # 종료조건 : 남은 탐색 범위가 비었으면 종료\n",
    "    if start > end:\n",
    "        return -1\n",
    "    # 탐색 범위의 중간 위치\n",
    "    mid = (start + end)//2\n",
    "    # 발견!\n",
    "    if x == a[mid]:\n",
    "        return mid\n",
    "    # 찾는 값이 더 크면 중간을 기준으로 오른쪽 값을 대상으로 재귀호출\n",
    "    elif x > a[mid]:\n",
    "        return binary_search_sub(a, x, mid + 1, end)\n",
    "    # 찾는 값이 더 작으면 중간을 기준으로 왼쪽 값을 대상으로 재귀호출\n",
    "    else:\n",
    "        return binary_search_sub(a, x, start, mid - 1)\n",
    "    # 찾지 못함.\n",
    "    return -1\n",
    "\n",
    "def binary_search_self(a, x):\n",
    "    return binary_search_sub(a, x, 0, len(a)-1)"
   ]
  },
  {
   "cell_type": "code",
   "execution_count": 58,
   "id": "c19df808-61c3-4679-a43d-b7a28e0e52f7",
   "metadata": {},
   "outputs": [
    {
     "name": "stdout",
     "output_type": "stream",
     "text": [
      "5\n",
      "-1\n"
     ]
    }
   ],
   "source": [
    "d = [1, 4, 9, 16, 25, 36, 49, 64, 81]\n",
    "print(binary_search_self(d, 36))\n",
    "print(binary_search_self(d, 50))"
   ]
  },
  {
   "cell_type": "code",
   "execution_count": null,
   "id": "32a890cd-f6a5-4fbe-9878-da6b4434b29d",
   "metadata": {},
   "outputs": [],
   "source": []
  }
 ],
 "metadata": {
  "kernelspec": {
   "display_name": "Python 3 (ipykernel)",
   "language": "python",
   "name": "python3"
  },
  "language_info": {
   "codemirror_mode": {
    "name": "ipython",
    "version": 3
   },
   "file_extension": ".py",
   "mimetype": "text/x-python",
   "name": "python",
   "nbconvert_exporter": "python",
   "pygments_lexer": "ipython3",
   "version": "3.11.7"
  }
 },
 "nbformat": 4,
 "nbformat_minor": 5
}
