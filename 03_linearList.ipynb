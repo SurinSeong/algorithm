{
 "cells": [
  {
   "cell_type": "markdown",
   "id": "e9eb639f-04c9-450a-81e6-265a3732b8c5",
   "metadata": {},
   "source": [
    "# 선형 리스트"
   ]
  },
  {
   "cell_type": "markdown",
   "id": "ae84c616-4e32-422f-bbf4-1d158d0f4cfd",
   "metadata": {},
   "source": [
    "## 단순 구현"
   ]
  },
  {
   "cell_type": "code",
   "execution_count": null,
   "id": "c30d30e5-3e97-4762-bd21-5bf464d6e8b8",
   "metadata": {},
   "outputs": [],
   "source": [
    "# 함수 선언부"
   ]
  },
  {
   "cell_type": "code",
   "execution_count": 6,
   "id": "b355e3b0-f29c-4692-82a2-150eb130264d",
   "metadata": {},
   "outputs": [],
   "source": [
    "# 전역 변수부\n",
    "katok = [\"다현\", \"정연\", \"쯔위\", \"사나\", \"지효\"]"
   ]
  },
  {
   "cell_type": "code",
   "execution_count": 7,
   "id": "2ea7e0b2-b0ba-4339-abd6-46e2ab6741f1",
   "metadata": {},
   "outputs": [
    {
     "name": "stdout",
     "output_type": "stream",
     "text": [
      "['다현', '정연', '쯔위', '사나', '지효', '모모']\n"
     ]
    }
   ],
   "source": [
    "# 메인 코드부\n",
    "# 데이터 추가 (모모에게 1회 카톡 옴)\n",
    "# 1단계 : 빈칸 추가\n",
    "katok.append(None)\n",
    "# 2단계 : 마지막 칸에 새로운 친구 입력한다.\n",
    "katok[5] = \"모모\"\n",
    "print(katok)"
   ]
  },
  {
   "cell_type": "code",
   "execution_count": 8,
   "id": "291cd867-80ac-4e27-ba98-143c7d0a1fa6",
   "metadata": {},
   "outputs": [
    {
     "name": "stdout",
     "output_type": "stream",
     "text": [
      "['다현', '정연', '쯔위', '미나', '사나', '지효', '모모']\n"
     ]
    }
   ],
   "source": [
    "# 데이터 삽입 (미나에게 연속 40회 카톡이 옴 --> 미나를 3등으로)\n",
    "# 1단계 : 빈칸 추가\n",
    "katok.append(None)\n",
    "\n",
    "# 2단계 : 한칸씩 뒤로 이동 (가장 마지막부터.. 3등까지)\n",
    "katok[6] = katok[5] # 모모\n",
    "katok[5] = None\n",
    "katok[5] = katok[4] # 지효\n",
    "katok[4] = None\n",
    "katok[4] = katok[3] # 사나\n",
    "katok[3] = None\n",
    "\n",
    "# 3단계 : 3등자리에 미나 입력\n",
    "katok[3] = \"미나\"\n",
    "\n",
    "print(katok)"
   ]
  },
  {
   "cell_type": "code",
   "execution_count": 9,
   "id": "2e9f94e2-32b4-434f-be0f-ed810b44a3f6",
   "metadata": {},
   "outputs": [
    {
     "name": "stdout",
     "output_type": "stream",
     "text": [
      "['다현', '정연', '쯔위', '미나', '지효', '모모']\n"
     ]
    }
   ],
   "source": [
    "# 데이터 삭제 (사나가 카톡을 차단함. == 4등 삭제)\n",
    "# 1단계 : 데이터 지우기\n",
    "katok[4] = None\n",
    "\n",
    "# 2단계 : 한칸씩 앞으로 이동 (지운 다음 데이터부터 마지막 데이터까지)\n",
    "katok[4] = katok[5] # 지효\n",
    "katok[5] = None\n",
    "katok[5] = katok[6] # 모모\n",
    "katok[6] = None\n",
    "\n",
    "# 3단계 : 빈칸 제거 (마지막 칸 제거)\n",
    "del(katok[6])\n",
    "\n",
    "print(katok)"
   ]
  },
  {
   "cell_type": "markdown",
   "id": "8a0f7581-178b-4156-b7fb-2ae87c3984ad",
   "metadata": {},
   "source": [
    "### 실무 버전"
   ]
  },
  {
   "cell_type": "code",
   "execution_count": 11,
   "id": "926187c5-d54c-4346-b722-13132b5c3d19",
   "metadata": {},
   "outputs": [],
   "source": [
    "## 함수\n",
    "# 데이터 추가\n",
    "def add_data(friend):\n",
    "    # 1단계 : 빈칸 추가\n",
    "    katok.append(None)\n",
    "    # 선형리스트의 길이 파악 ***\n",
    "    kLEN = len(katok)\n",
    "    # 2단계 : 마지막 칸에 데이터 입력\n",
    "    katok[kLEN-1] = friend"
   ]
  },
  {
   "cell_type": "code",
   "execution_count": 12,
   "id": "04c96d0d-ad87-47d1-b5aa-43480d41aa73",
   "metadata": {},
   "outputs": [],
   "source": [
    "## 변수\n",
    "# 빈 카톡 준비\n",
    "katok = []"
   ]
  },
  {
   "cell_type": "code",
   "execution_count": 13,
   "id": "7aace637-2de0-4d69-b8eb-e68b9d73f742",
   "metadata": {},
   "outputs": [
    {
     "name": "stdout",
     "output_type": "stream",
     "text": [
      "['다현', '정연', '쯔위', '사나', '지효']\n"
     ]
    }
   ],
   "source": [
    "## 메인\n",
    "add_data(\"다현\")\n",
    "add_data(\"정연\")\n",
    "add_data(\"쯔위\")\n",
    "add_data(\"사나\")\n",
    "add_data(\"지효\")\n",
    "print(katok)"
   ]
  },
  {
   "cell_type": "code",
   "execution_count": 14,
   "id": "82ff506b-4833-44a9-8621-38726760c1e6",
   "metadata": {},
   "outputs": [],
   "source": [
    "# 모모 넣기\n",
    "add_data(\"모모\")"
   ]
  },
  {
   "cell_type": "code",
   "execution_count": 15,
   "id": "636ccb30-43f3-4a60-86e0-651d6be7eac9",
   "metadata": {},
   "outputs": [
    {
     "name": "stdout",
     "output_type": "stream",
     "text": [
      "['다현', '정연', '쯔위', '사나', '지효', '모모']\n"
     ]
    }
   ],
   "source": [
    "print(katok)"
   ]
  },
  {
   "cell_type": "code",
   "execution_count": 16,
   "id": "15b73886-a5b7-4317-9509-56b6435caeba",
   "metadata": {},
   "outputs": [],
   "source": [
    "## 함수\n",
    "# 데이터 삽입\n",
    "def insert_data(pos, friend):\n",
    "    # 1단계 : 빈칸 추가\n",
    "    katok.append(None)\n",
    "    # 선형리스트 길이 파악\n",
    "    kLen = len(katok)\n",
    "    # 2단계 : 마지막부터 삽입할 위치까지 한칸씩 뒤로 이동\n",
    "    # for 반복문 이용 ***\n",
    "    for i in range(kLen-1, pos, -1):\n",
    "        katok[i] = katok[i-1]\n",
    "        katok[i-1] = None\n",
    "    # 3단계 : 데이터 삽입\n",
    "    katok[pos] = friend"
   ]
  },
  {
   "cell_type": "code",
   "execution_count": 17,
   "id": "d14d0333-9975-4c88-b8e3-0152cce1c732",
   "metadata": {},
   "outputs": [
    {
     "name": "stdout",
     "output_type": "stream",
     "text": [
      "['다현', '정연', '쯔위', '미나', '사나', '지효', '모모']\n"
     ]
    }
   ],
   "source": [
    "# 메인\n",
    "# 3등 위치에 미나 삽입\n",
    "insert_data(3, \"미나\")\n",
    "print(katok)"
   ]
  },
  {
   "cell_type": "code",
   "execution_count": 19,
   "id": "f8415626-e740-4b63-9d2a-6eedee6afaf1",
   "metadata": {},
   "outputs": [],
   "source": [
    "## 함수\n",
    "# 데이터 삭제\n",
    "def delete_data(pos):\n",
    "    # 1단계 : 데이터 삭제\n",
    "    katok[pos] = None\n",
    "    # 리스트 길이 파악\n",
    "    kLen = len(katok)\n",
    "    # 2단계 : 자리 이동 - 한 칸씩 앞으로\n",
    "    # for 반복문 이동\n",
    "    for i in range(pos+1, kLen, 1):\n",
    "        katok[i-1] = katok[i]\n",
    "        katok[i] = None\n",
    "    # 3단계 : 마지막 칸 제거\n",
    "    del(katok[kLen-1])"
   ]
  },
  {
   "cell_type": "code",
   "execution_count": 20,
   "id": "2e3508ee-73da-4e4e-b87d-0599f338a296",
   "metadata": {},
   "outputs": [
    {
     "name": "stdout",
     "output_type": "stream",
     "text": [
      "['다현', '정연', '쯔위', '미나', '지효', '모모']\n"
     ]
    }
   ],
   "source": [
    "## 메인\n",
    "# 위치로 삭제\n",
    "delete_data(4)\n",
    "print(katok)"
   ]
  },
  {
   "cell_type": "code",
   "execution_count": 22,
   "id": "a02fdb9c-45c2-451a-a7ec-9bcd355f0b21",
   "metadata": {},
   "outputs": [
    {
     "name": "stdin",
     "output_type": "stream",
     "text": [
      "Choose the number(1. 추가, 2. 삽입, 3. 삭제, 4. 종료)\n",
      " 1\n",
      "추가할 데이터 :  surin\n"
     ]
    },
    {
     "name": "stdout",
     "output_type": "stream",
     "text": [
      "['surin']\n"
     ]
    },
    {
     "name": "stdin",
     "output_type": "stream",
     "text": [
      "Choose the number(1. 추가, 2. 삽입, 3. 삭제, 4. 종료)\n",
      " 1\n",
      "추가할 데이터 :  sueun\n"
     ]
    },
    {
     "name": "stdout",
     "output_type": "stream",
     "text": [
      "['surin', 'sueun']\n"
     ]
    },
    {
     "name": "stdin",
     "output_type": "stream",
     "text": [
      "Choose the number(1. 추가, 2. 삽입, 3. 삭제, 4. 종료)\n",
      " 2\n",
      "삽입할 위치 :  1\n",
      "추가할 데이터 :  suhyuk\n"
     ]
    },
    {
     "name": "stdout",
     "output_type": "stream",
     "text": [
      "['surin', 'suhyuk', 'sueun']\n"
     ]
    },
    {
     "name": "stdin",
     "output_type": "stream",
     "text": [
      "Choose the number(1. 추가, 2. 삽입, 3. 삭제, 4. 종료)\n",
      " 3\n",
      "삭제할 위치 :  0\n"
     ]
    },
    {
     "name": "stdout",
     "output_type": "stream",
     "text": [
      "['suhyuk', 'sueun']\n"
     ]
    },
    {
     "name": "stdin",
     "output_type": "stream",
     "text": [
      "Choose the number(1. 추가, 2. 삽입, 3. 삭제, 4. 종료)\n",
      " 4\n"
     ]
    },
    {
     "name": "stdout",
     "output_type": "stream",
     "text": [
      "['suhyuk', 'sueun']\n"
     ]
    }
   ],
   "source": [
    "## 위의 함수 합치고 골라쓰는 방법\n",
    "# 전역변수\n",
    "katok = []\n",
    "select = -1\n",
    "\n",
    "# 메인 코드 부분\n",
    "# 메인코드라는 것을 알리는 코드\n",
    "if __name__ == \"__main__\":\n",
    "\n",
    "    # 진짜 실행되는 부\n",
    "    while (select != 4):\n",
    "        select = int(input(\"Choose the number(1. 추가, 2. 삽입, 3. 삭제, 4. 종료)\\n\"))\n",
    "        \n",
    "        if (select == 1):\n",
    "            data = input(\"추가할 데이터 : \")\n",
    "            add_data(data)\n",
    "            print(katok)\n",
    "        elif (select == 2):\n",
    "            pos = int(input(\"삽입할 위치 : \"))\n",
    "            data = input(\"추가할 데이터 : \")\n",
    "            insert_data(pos, data)\n",
    "            print(katok)\n",
    "        elif (select == 3):\n",
    "            pos = int(input(\"삭제할 위치 : \"))\n",
    "            delete_data(pos)\n",
    "            print(katok)\n",
    "        elif (select == 4):\n",
    "            print(katok)\n",
    "            exit\n",
    "        else:\n",
    "            print(\"1~4 중 하나를 입력하세요.\")\n",
    "            continue"
   ]
  },
  {
   "cell_type": "code",
   "execution_count": null,
   "id": "38c68fa0-032a-402b-9728-d94f44a129d2",
   "metadata": {},
   "outputs": [],
   "source": []
  }
 ],
 "metadata": {
  "kernelspec": {
   "display_name": "Python 3 (ipykernel)",
   "language": "python",
   "name": "python3"
  },
  "language_info": {
   "codemirror_mode": {
    "name": "ipython",
    "version": 3
   },
   "file_extension": ".py",
   "mimetype": "text/x-python",
   "name": "python",
   "nbconvert_exporter": "python",
   "pygments_lexer": "ipython3",
   "version": "3.11.7"
  }
 },
 "nbformat": 4,
 "nbformat_minor": 5
}
