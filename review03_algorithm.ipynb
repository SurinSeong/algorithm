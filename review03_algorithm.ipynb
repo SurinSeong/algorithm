{
 "cells": [
  {
   "cell_type": "markdown",
   "id": "91ac4b9f-d8cd-4027-ae9b-f3c37f735d85",
   "metadata": {},
   "source": [
    "# Sort - 순차정렬"
   ]
  },
  {
   "cell_type": "code",
   "execution_count": 3,
   "id": "6467929b-0611-4dc1-a07a-9dd976a65ec3",
   "metadata": {},
   "outputs": [],
   "source": [
    "# random 임포트\n",
    "from random import randint"
   ]
  },
  {
   "cell_type": "markdown",
   "id": "3b941dc5-2f27-4f1f-9c86-0e4a4cfa3132",
   "metadata": {},
   "source": [
    "### 함수"
   ]
  },
  {
   "cell_type": "code",
   "execution_count": 5,
   "id": "03bb2aad-c851-4e01-857e-6fdc8b33075c",
   "metadata": {},
   "outputs": [],
   "source": [
    "# 최솟값의 인덱스 찾는 함수\n",
    "def findMinIndex(array):\n",
    "    # 첫 번째를 최소라고 생각하고 시작\n",
    "    minIdx = 0\n",
    "    # 두 번째 수부터 비교 시작\n",
    "    for i in range(1, len(array)):\n",
    "        # minIdx의 값이 크면\n",
    "        if array[minIdx] > array[i]:\n",
    "            # 최솟값의 인덱스\n",
    "            minIdx = i\n",
    "    return minIdx"
   ]
  },
  {
   "cell_type": "markdown",
   "id": "45d342ce-150f-4b36-9df4-6f295c4e6471",
   "metadata": {},
   "source": [
    "### 변수"
   ]
  },
  {
   "cell_type": "code",
   "execution_count": 4,
   "id": "5ff7b355-319c-4d91-bb93-36572426d11a",
   "metadata": {},
   "outputs": [
    {
     "name": "stdout",
     "output_type": "stream",
     "text": [
      "[66, 3, 88, 96]\n"
     ]
    }
   ],
   "source": [
    "testArray = [randint(1, 100) for _ in range(4)]\n",
    "print(testArray)"
   ]
  },
  {
   "cell_type": "markdown",
   "id": "3b36f8d3-465b-425c-aa68-a0a732362f99",
   "metadata": {},
   "source": [
    "### 메인"
   ]
  },
  {
   "cell_type": "code",
   "execution_count": 6,
   "id": "8750b24e-72bb-42da-9e38-cb1ceaae9e1d",
   "metadata": {},
   "outputs": [
    {
     "name": "stdout",
     "output_type": "stream",
     "text": [
      "MIN : 3\n"
     ]
    }
   ],
   "source": [
    "# 최솟값 찾기\n",
    "min_index = findMinIndex(testArray)\n",
    "print(f\"MIN : {testArray[min_index]}\")"
   ]
  },
  {
   "cell_type": "markdown",
   "id": "10c583ad-866c-4f53-a06c-116d48f8835f",
   "metadata": {},
   "source": [
    "# Sort - 선택정렬"
   ]
  },
  {
   "cell_type": "markdown",
   "id": "33336967-ff38-4584-b05b-406d0856130a",
   "metadata": {},
   "source": [
    "### 함수"
   ]
  },
  {
   "cell_type": "code",
   "execution_count": 8,
   "id": "3e301129-1e8a-4f47-ad9e-5e610d9ec7a3",
   "metadata": {},
   "outputs": [],
   "source": [
    "# 최솟값의 인덱스 찾기\n",
    "def findMinIndex(array):\n",
    "    # 첫 번째를 최소라고 생각하고 시작\n",
    "    minIdx = 0\n",
    "    # 두 번째 수부터 비교 시작\n",
    "    for i in range(1, len(array)):\n",
    "        # minIdx의 값이 크면\n",
    "        if array[minIdx] > array[i]:\n",
    "            # 최솟값의 인덱스\n",
    "            minIdx = i\n",
    "    return minIdx"
   ]
  },
  {
   "cell_type": "markdown",
   "id": "f621c376-7b27-4c02-acaf-68462ba42537",
   "metadata": {},
   "source": [
    "### 변수"
   ]
  },
  {
   "cell_type": "code",
   "execution_count": 7,
   "id": "beeff3b8-f0ad-44cc-aa7e-d84a69e907fa",
   "metadata": {},
   "outputs": [
    {
     "name": "stdout",
     "output_type": "stream",
     "text": [
      "[51, 188, 13, 192, 165, 150, 101]\n"
     ]
    }
   ],
   "source": [
    "# 정렬 전\n",
    "before = [randint(1, 200) for _ in range(7)]\n",
    "print(before)\n",
    "\n",
    "# 정렬 후\n",
    "after = []"
   ]
  },
  {
   "cell_type": "markdown",
   "id": "baf03b54-78a1-4c38-8a14-c40c18545ee5",
   "metadata": {},
   "source": [
    "### 메인"
   ]
  },
  {
   "cell_type": "code",
   "execution_count": 9,
   "id": "0dae2cf3-5803-47aa-b755-2e5735c17320",
   "metadata": {},
   "outputs": [
    {
     "name": "stdout",
     "output_type": "stream",
     "text": [
      "BEFORE : [51, 188, 13, 192, 165, 150, 101]\n",
      "AFTER : [13, 51, 101, 150, 165, 188, 192]\n"
     ]
    }
   ],
   "source": [
    "print(f\"BEFORE : {before}\")\n",
    "\n",
    "# 최솟값을 뽑고 넣고 삭제하고 뽑고 넣고 삭제하고 해서 정렬!\n",
    "for i in range(len(before)):\n",
    "    min_index = findMinIndex(before)\n",
    "    after.append(before[min_index])\n",
    "    del(before[min_index])\n",
    "\n",
    "print(f\"AFTER : {after}\")"
   ]
  },
  {
   "cell_type": "markdown",
   "id": "a95ff0be-0a72-4e69-8aff-56d3aaf76cc8",
   "metadata": {},
   "source": [
    "# 개선된 선택정렬"
   ]
  },
  {
   "cell_type": "markdown",
   "id": "fb2c08e4-5852-4774-a0cd-54b69153bb76",
   "metadata": {},
   "source": [
    "### 함수"
   ]
  },
  {
   "cell_type": "code",
   "execution_count": 11,
   "id": "61106133-2f90-4150-8916-867cd82d8c9c",
   "metadata": {},
   "outputs": [],
   "source": [
    "# 선택정렬\n",
    "def selectSort(array):\n",
    "    # 전체 데이터 길이\n",
    "    n = len(array)\n",
    "    # n-1 만큼 사이클\n",
    "    for i in range(0, n-1, 1):\n",
    "        minIdx = i\n",
    "        # i의 다음 값이랑 비교\n",
    "        for k in range(i+1, n, 1):\n",
    "            if array[minIdx] > array[k]:\n",
    "                minIdx = k\n",
    "        array[i], array[minIdx] = array[minIdx], array[i]\n",
    "    \n",
    "    return array"
   ]
  },
  {
   "cell_type": "markdown",
   "id": "3ce62b5f-edd4-4d34-82f1-e733c3b43b46",
   "metadata": {},
   "source": [
    "### 변수"
   ]
  },
  {
   "cell_type": "code",
   "execution_count": 10,
   "id": "e05bcde1-986f-413d-bea3-3208a0250f72",
   "metadata": {},
   "outputs": [
    {
     "name": "stdout",
     "output_type": "stream",
     "text": [
      "[12, 27, 21, 128, 18, 138, 119]\n"
     ]
    }
   ],
   "source": [
    "# 정렬 전\n",
    "dataArray = [randint(1, 200) for _ in range(7)]\n",
    "print(dataArray)"
   ]
  },
  {
   "cell_type": "markdown",
   "id": "cc43e2e7-c8d8-42c7-9f55-31892a71ec7e",
   "metadata": {},
   "source": [
    "### 메인"
   ]
  },
  {
   "cell_type": "code",
   "execution_count": 12,
   "id": "d7018202-1a67-4b53-8194-b77cdb66b2bd",
   "metadata": {},
   "outputs": [
    {
     "name": "stdout",
     "output_type": "stream",
     "text": [
      "BEFORE --> [12, 27, 21, 128, 18, 138, 119]\n",
      "AFTER --> [12, 18, 21, 27, 119, 128, 138]\n"
     ]
    }
   ],
   "source": [
    "# 정렬 전 출력\n",
    "print(f\"BEFORE --> {dataArray}\")\n",
    "\n",
    "# 정렬\n",
    "dataArray = selectSort(dataArray)\n",
    "\n",
    "# 정렬 후 출력\n",
    "print(f\"AFTER --> {dataArray}\")"
   ]
  },
  {
   "cell_type": "markdown",
   "id": "6a921a27-7ce9-451d-a826-2465d8d3cfaf",
   "metadata": {},
   "source": [
    "# Search"
   ]
  },
  {
   "cell_type": "markdown",
   "id": "c613c9cc-8398-47d6-9bc9-6e1195d40225",
   "metadata": {},
   "source": [
    "## 순차 검색"
   ]
  },
  {
   "cell_type": "markdown",
   "id": "ffca3f8a-3d96-4867-85b9-e95a66ad858e",
   "metadata": {},
   "source": [
    "### 함수"
   ]
  },
  {
   "cell_type": "code",
   "execution_count": 13,
   "id": "d566dc80-c88b-4343-811e-deafff8d10f4",
   "metadata": {},
   "outputs": [],
   "source": [
    "# random 임포트\n",
    "from random import randint, choice"
   ]
  },
  {
   "cell_type": "code",
   "execution_count": 17,
   "id": "360a11dc-dc54-433b-892c-86c8f1e04de9",
   "metadata": {},
   "outputs": [],
   "source": [
    "# 찾고 싶은 데이터 인덱스 호출하기\n",
    "\n",
    "def seqSearch(array, fdata):\n",
    "    # 찾지 못하면 -1 출력\n",
    "    pos = -1\n",
    "\n",
    "    # array 길이만큼 반복해서 찾기\n",
    "    for i in range(len(array)):\n",
    "        # 찾는 데이터가 해당 위치의 값과 동일한 경우\n",
    "        if array[i] == fdata:\n",
    "            pos = i\n",
    "            # 바로 끝내기\n",
    "            break\n",
    "    return pos"
   ]
  },
  {
   "cell_type": "markdown",
   "id": "175204d4-2f8f-4094-a9f1-5008269d9372",
   "metadata": {},
   "source": [
    "### 변수"
   ]
  },
  {
   "cell_type": "code",
   "execution_count": 15,
   "id": "fc01aca5-cdf2-473e-b235-42cced410a11",
   "metadata": {},
   "outputs": [
    {
     "name": "stdout",
     "output_type": "stream",
     "text": [
      "[171, 120, 96, 104, 177, 199, 82, 172, 86, 33]\n",
      "177\n"
     ]
    }
   ],
   "source": [
    "# 데이터 모음\n",
    "datas = [randint(1, 200) for _ in range(10)]\n",
    "print(datas)\n",
    "\n",
    "# 찾고 싶은 데이터\n",
    "findData = choice(datas)\n",
    "print(findData)"
   ]
  },
  {
   "cell_type": "markdown",
   "id": "102926cd-d9ff-48b7-9540-af88b9bcdc33",
   "metadata": {},
   "source": [
    "### 메인"
   ]
  },
  {
   "cell_type": "code",
   "execution_count": 18,
   "id": "9e78be5b-dcbf-4f89-8ae9-bf22f6a3cc44",
   "metadata": {},
   "outputs": [
    {
     "name": "stdout",
     "output_type": "stream",
     "text": [
      "ARRAY --> [171, 120, 96, 104, 177, 199, 82, 172, 86, 33]\n",
      "177's index is 4.\n"
     ]
    }
   ],
   "source": [
    "# 데이터들 보여주기\n",
    "print(f\"ARRAY --> {datas}\")\n",
    "\n",
    "# 찾고자하는 데이터의 인덱스\n",
    "idx = seqSearch(datas, findData)\n",
    "\n",
    "# 결과 출력\n",
    "if idx != -1:\n",
    "    print(f\"{findData}\\'s index is {idx}.\")\n",
    "else:\n",
    "    print(f\"{findData} is not in the array.\")"
   ]
  },
  {
   "cell_type": "markdown",
   "id": "48bf7177-f104-4246-98e7-721e588181f7",
   "metadata": {},
   "source": [
    "## 이진 검색"
   ]
  },
  {
   "cell_type": "markdown",
   "id": "43cb95b9-0795-4c13-ae6e-56d9d3d6b7ab",
   "metadata": {},
   "source": [
    "### 함수"
   ]
  },
  {
   "cell_type": "code",
   "execution_count": 20,
   "id": "16115f34-882d-43fe-92e1-a0c4488dd4c9",
   "metadata": {},
   "outputs": [],
   "source": [
    "# 이진 검색한 인덱스 출력 함수\n",
    "def binSearch(array, fdata):\n",
    "    global count\n",
    "    # 찾고 싶은 값이 없으면 -1 출력\n",
    "    pos = -1\n",
    "    start = 0\n",
    "    end = len(array) - 1\n",
    "\n",
    "    # 이진 검색 시작\n",
    "    # start 인덱스가 end 인덱스보다 작거나 같은 경우 계속 실행\n",
    "    while (start <= end):\n",
    "        # 실행 횟수 카운트\n",
    "        count += 1\n",
    "        # 중간 인덱스 찾기\n",
    "        mid = (start + end) // 2\n",
    "        # mid 값이 찾고자 하는 값의 인덱스와 같다면\n",
    "        if array[mid] == fdata:\n",
    "            pos = mid\n",
    "            # 찾았으니깐 바로 끝\n",
    "            break\n",
    "        # mid를 가진 데이터의 값이 찾고 싶은 값보다 작으면\n",
    "        # mid < 찾고 싶은 데이터의 인덱스\n",
    "        elif array[mid] < fdata:\n",
    "            start = mid + 1\n",
    "        # 위의 경우와 반대\n",
    "        else:\n",
    "            end = mid - 1\n",
    "    return pos"
   ]
  },
  {
   "cell_type": "markdown",
   "id": "9e3ffc2b-c79b-4c9f-98f6-d53fea9eedc4",
   "metadata": {},
   "source": [
    "### 변수"
   ]
  },
  {
   "cell_type": "code",
   "execution_count": 19,
   "id": "587446d1-1e5d-4130-9c47-ce1997a5b7a7",
   "metadata": {},
   "outputs": [
    {
     "name": "stdout",
     "output_type": "stream",
     "text": [
      "[799, 185, 148, 315, 398, 813, 589, 858, 529, 441, 464, 445, 101, 51, 815, 418, 463, 310, 536, 868, 543, 592, 646, 56, 241, 587, 701, 864, 854, 988, 613, 388, 391, 488, 247, 807, 138, 924, 372, 547, 572, 228, 315, 332, 840, 623, 316, 796, 431, 648, 152, 271, 22, 77, 283, 4, 704, 737, 675, 941, 637, 70, 863, 24, 660, 495, 770, 921, 892, 230, 186, 339, 753, 188, 778, 346, 161, 61, 261, 832, 359, 622, 183, 543, 184, 14, 789, 803, 221, 995, 946, 294, 443, 671, 848, 652, 401, 542, 417, 691]\n",
      "[4, 14, 22, 24, 51, 56, 61, 70, 77, 101, 138, 148, 152, 161, 183, 184, 185, 186, 188, 221, 228, 230, 241, 247, 261, 271, 283, 294, 310, 315, 315, 316, 332, 339, 346, 359, 372, 388, 391, 398, 401, 417, 418, 431, 441, 443, 445, 463, 464, 488, 495, 529, 536, 542, 543, 543, 547, 572, 587, 589, 592, 613, 622, 623, 637, 646, 648, 652, 660, 671, 675, 691, 701, 704, 737, 753, 770, 778, 789, 796, 799, 803, 807, 813, 815, 832, 840, 848, 854, 858, 863, 864, 868, 892, 921, 924, 941, 946, 988, 995]\n",
      "613\n"
     ]
    }
   ],
   "source": [
    "# 찾기 까지 반복 횟수\n",
    "count = 0\n",
    "\n",
    "# 데이터 배열\n",
    "datas = [randint(0, 1000) for _ in range(100)]\n",
    "print(datas)\n",
    "\n",
    "# 이진 검색은 정렬이 필수임.\n",
    "datas.sort()\n",
    "print(datas)\n",
    "\n",
    "# 찾고자 하는 값\n",
    "findData = choice(datas)\n",
    "print(findData)"
   ]
  },
  {
   "cell_type": "markdown",
   "id": "93053d67-014f-44a2-b155-95e5fb8109db",
   "metadata": {},
   "source": [
    "### 메인"
   ]
  },
  {
   "cell_type": "code",
   "execution_count": 21,
   "id": "4e6c3891-afcc-4fa6-bb38-1125b91e4500",
   "metadata": {},
   "outputs": [
    {
     "name": "stdout",
     "output_type": "stream",
     "text": [
      "DATA --> [4, 14, 22, 24, 51, 56, 61, 70, 77, 101, 138, 148, 152, 161, 183, 184, 185, 186, 188, 221, 228, 230, 241, 247, 261, 271, 283, 294, 310, 315, 315, 316, 332, 339, 346, 359, 372, 388, 391, 398, 401, 417, 418, 431, 441, 443, 445, 463, 464, 488, 495, 529, 536, 542, 543, 543, 547, 572, 587, 589, 592, 613, 622, 623, 637, 646, 648, 652, 660, 671, 675, 691, 701, 704, 737, 753, 770, 778, 789, 796, 799, 803, 807, 813, 815, 832, 840, 848, 854, 858, 863, 864, 868, 892, 921, 924, 941, 946, 988, 995]\n",
      "613's index is 61. (count : 3)\n"
     ]
    }
   ],
   "source": [
    "# 데이터들 출력\n",
    "print(f\"DATA --> {datas}\")\n",
    "\n",
    "# 찾고자하는 인덱스\n",
    "idx = binSearch(datas, findData)\n",
    "\n",
    "# 결과 출력\n",
    "if idx != -1:\n",
    "    print(f\"{findData}\\'s index is {idx}. (count : {count})\")\n",
    "else:\n",
    "    print(f\"{findData} is not in the data.\")"
   ]
  },
  {
   "cell_type": "markdown",
   "id": "4ea3eb97-02d7-4d7c-9008-abc29e1df832",
   "metadata": {},
   "source": [
    "# 재귀"
   ]
  },
  {
   "cell_type": "markdown",
   "id": "7934fb7d-2e6f-4b3f-97e6-31715339dbbe",
   "metadata": {},
   "source": [
    "## 종료조건이 있는 재귀함수"
   ]
  },
  {
   "cell_type": "markdown",
   "id": "5d7b1df1-388b-4898-9ea3-8ada7d8f61fe",
   "metadata": {},
   "source": [
    "### 함수"
   ]
  },
  {
   "cell_type": "code",
   "execution_count": 22,
   "id": "2229bde1-2ac2-42f5-9db2-25ab5c93a74d",
   "metadata": {},
   "outputs": [],
   "source": [
    "def openBox():\n",
    "    global count\n",
    "    print(\"Open the Box!\")\n",
    "    # count 개수 줄이면서 반복 줄이기\n",
    "    count -= 1\n",
    "    # count가 끝난다면\n",
    "    if count == 0:\n",
    "        print(\"Gift!\")\n",
    "        return\n",
    "    openBox()\n",
    "    print(\"Close the Box.\")"
   ]
  },
  {
   "cell_type": "markdown",
   "id": "9eb43da4-d281-4693-8b3a-c5008730c5ef",
   "metadata": {},
   "source": [
    "### 메인"
   ]
  },
  {
   "cell_type": "code",
   "execution_count": 23,
   "id": "0869e890-f7f5-45f3-9aca-eb714f33b87a",
   "metadata": {},
   "outputs": [
    {
     "name": "stdout",
     "output_type": "stream",
     "text": [
      "Open the Box!\n",
      "Open the Box!\n",
      "Open the Box!\n",
      "Open the Box!\n",
      "Open the Box!\n",
      "Gift!\n",
      "Close the Box.\n",
      "Close the Box.\n",
      "Close the Box.\n",
      "Close the Box.\n"
     ]
    }
   ],
   "source": [
    "# 반복 횟수\n",
    "count = 5\n",
    "\n",
    "# 출력\n",
    "openBox()"
   ]
  },
  {
   "cell_type": "markdown",
   "id": "e53ed4ab-d786-4286-8196-92b6566bd9c4",
   "metadata": {},
   "source": [
    "## 숫자 합계 내기"
   ]
  },
  {
   "cell_type": "markdown",
   "id": "0779c545-8a62-4245-9a81-61c8e900cdbe",
   "metadata": {},
   "source": [
    "### 함수"
   ]
  },
  {
   "cell_type": "code",
   "execution_count": 24,
   "id": "cbd6922c-26f3-407a-9ab2-dfe3c11fdc14",
   "metadata": {},
   "outputs": [],
   "source": [
    "def addNum(num):\n",
    "    # 만약 num = 1이라면 더할 필요가 없음.\n",
    "    if num == 1:\n",
    "        return 1\n",
    "    # 아니라면 1 + (2 + 3 + 4 + ...)\n",
    "    return num + addNum(num-1)"
   ]
  },
  {
   "cell_type": "markdown",
   "id": "398d9fc1-1c36-419c-b6d2-b2e4cf0d4bad",
   "metadata": {},
   "source": [
    "### 메인"
   ]
  },
  {
   "cell_type": "code",
   "execution_count": 25,
   "id": "2d97ddf1-68df-498c-ba25-8a0a4f4c3c9b",
   "metadata": {},
   "outputs": [
    {
     "name": "stdout",
     "output_type": "stream",
     "text": [
      "1275\n"
     ]
    }
   ],
   "source": [
    "print(addNum(50))"
   ]
  },
  {
   "cell_type": "markdown",
   "id": "10fedb6d-f90c-4491-9c8f-0c4c4442ab46",
   "metadata": {},
   "source": [
    "## 구구단 출력"
   ]
  },
  {
   "cell_type": "markdown",
   "id": "9509bf63-5da7-4cee-aa83-274703c73e07",
   "metadata": {},
   "source": [
    "### 함수"
   ]
  },
  {
   "cell_type": "code",
   "execution_count": 26,
   "id": "a12297ee-58a7-40e3-890c-7defc94ac746",
   "metadata": {},
   "outputs": [],
   "source": [
    "# 하나의 단 구하기\n",
    "def gugu(d, n):\n",
    "    # 곱하기\n",
    "    print(f\"{d} X {n} = {d*n}\")\n",
    "    # n이 9보다 작다면 --> d x 9까지 진행하기\n",
    "    if n < 9:\n",
    "        gugu(d, n+1)"
   ]
  },
  {
   "cell_type": "markdown",
   "id": "2f109fe9-db07-4175-a3e4-49a78b0719a9",
   "metadata": {},
   "source": [
    "### 메인"
   ]
  },
  {
   "cell_type": "code",
   "execution_count": 27,
   "id": "4fa3f8da-7609-4e7c-bbed-24ed63441036",
   "metadata": {},
   "outputs": [
    {
     "name": "stdout",
     "output_type": "stream",
     "text": [
      "=== 2DAN ===\n",
      "2 X 1 = 2\n",
      "2 X 2 = 4\n",
      "2 X 3 = 6\n",
      "2 X 4 = 8\n",
      "2 X 5 = 10\n",
      "2 X 6 = 12\n",
      "2 X 7 = 14\n",
      "2 X 8 = 16\n",
      "2 X 9 = 18\n",
      "=== 3DAN ===\n",
      "3 X 1 = 3\n",
      "3 X 2 = 6\n",
      "3 X 3 = 9\n",
      "3 X 4 = 12\n",
      "3 X 5 = 15\n",
      "3 X 6 = 18\n",
      "3 X 7 = 21\n",
      "3 X 8 = 24\n",
      "3 X 9 = 27\n",
      "=== 4DAN ===\n",
      "4 X 1 = 4\n",
      "4 X 2 = 8\n",
      "4 X 3 = 12\n",
      "4 X 4 = 16\n",
      "4 X 5 = 20\n",
      "4 X 6 = 24\n",
      "4 X 7 = 28\n",
      "4 X 8 = 32\n",
      "4 X 9 = 36\n",
      "=== 5DAN ===\n",
      "5 X 1 = 5\n",
      "5 X 2 = 10\n",
      "5 X 3 = 15\n",
      "5 X 4 = 20\n",
      "5 X 5 = 25\n",
      "5 X 6 = 30\n",
      "5 X 7 = 35\n",
      "5 X 8 = 40\n",
      "5 X 9 = 45\n",
      "=== 6DAN ===\n",
      "6 X 1 = 6\n",
      "6 X 2 = 12\n",
      "6 X 3 = 18\n",
      "6 X 4 = 24\n",
      "6 X 5 = 30\n",
      "6 X 6 = 36\n",
      "6 X 7 = 42\n",
      "6 X 8 = 48\n",
      "6 X 9 = 54\n",
      "=== 7DAN ===\n",
      "7 X 1 = 7\n",
      "7 X 2 = 14\n",
      "7 X 3 = 21\n",
      "7 X 4 = 28\n",
      "7 X 5 = 35\n",
      "7 X 6 = 42\n",
      "7 X 7 = 49\n",
      "7 X 8 = 56\n",
      "7 X 9 = 63\n",
      "=== 8DAN ===\n",
      "8 X 1 = 8\n",
      "8 X 2 = 16\n",
      "8 X 3 = 24\n",
      "8 X 4 = 32\n",
      "8 X 5 = 40\n",
      "8 X 6 = 48\n",
      "8 X 7 = 56\n",
      "8 X 8 = 64\n",
      "8 X 9 = 72\n",
      "=== 9DAN ===\n",
      "9 X 1 = 9\n",
      "9 X 2 = 18\n",
      "9 X 3 = 27\n",
      "9 X 4 = 36\n",
      "9 X 5 = 45\n",
      "9 X 6 = 54\n",
      "9 X 7 = 63\n",
      "9 X 8 = 72\n",
      "9 X 9 = 81\n"
     ]
    }
   ],
   "source": [
    "for i in range(2, 10):\n",
    "    print(f\"=== {i}DAN ===\")\n",
    "    gugu(i, 1)"
   ]
  },
  {
   "cell_type": "markdown",
   "id": "1f7f5b56-a035-4323-83ec-f570d1d92bc0",
   "metadata": {},
   "source": [
    "## 별 모양 출력"
   ]
  },
  {
   "cell_type": "markdown",
   "id": "2c63b29d-556c-49c8-a8fa-92e27369f6b6",
   "metadata": {},
   "source": [
    "### 함수"
   ]
  },
  {
   "cell_type": "code",
   "execution_count": 30,
   "id": "5eb97300-7c43-467a-be30-1188197c76ec",
   "metadata": {},
   "outputs": [],
   "source": [
    "def stars(n):\n",
    "    if n > 0:\n",
    "        stars(n-1)\n",
    "        print(\"★\" * n)"
   ]
  },
  {
   "cell_type": "markdown",
   "id": "98c60ecf-2fd4-439c-b002-99d9fb284a08",
   "metadata": {},
   "source": [
    "### 메인"
   ]
  },
  {
   "cell_type": "code",
   "execution_count": 31,
   "id": "3c3c442f-c3b4-49bc-a3f3-3b75cfab42fc",
   "metadata": {},
   "outputs": [
    {
     "name": "stdout",
     "output_type": "stream",
     "text": [
      "★\n",
      "★★\n",
      "★★★\n",
      "★★★★\n",
      "★★★★★\n",
      "★★★★★★\n",
      "★★★★★★★\n",
      "★★★★★★★★\n",
      "★★★★★★★★★\n",
      "★★★★★★★★★★\n"
     ]
    }
   ],
   "source": [
    "stars(10)"
   ]
  },
  {
   "cell_type": "markdown",
   "id": "01015b50-3db6-407e-94a6-71dcf82b5f98",
   "metadata": {},
   "source": [
    "## 팩토리얼 구하기"
   ]
  },
  {
   "cell_type": "markdown",
   "id": "0fddb7b9-ff89-4048-89b7-9b209ddabe07",
   "metadata": {},
   "source": [
    "### 함수"
   ]
  },
  {
   "cell_type": "code",
   "execution_count": 32,
   "id": "0ad3a0ac-e2d9-4a5a-83d0-3f636be9317c",
   "metadata": {},
   "outputs": [],
   "source": [
    "def factorial(num):\n",
    "    if num <= 1:\n",
    "        return 1\n",
    "    return num * factorial(num-1)"
   ]
  },
  {
   "cell_type": "markdown",
   "id": "382848ae-3f9a-408f-a631-ddc0560be0bf",
   "metadata": {},
   "source": [
    "### 메인"
   ]
  },
  {
   "cell_type": "code",
   "execution_count": 36,
   "id": "c8d6fdfb-5aa7-4de0-969a-e7347fb2594e",
   "metadata": {},
   "outputs": [
    {
     "name": "stdin",
     "output_type": "stream",
     "text": [
      "What is your favorite Number?(1 ~ 10)\n",
      " 3\n"
     ]
    },
    {
     "name": "stdout",
     "output_type": "stream",
     "text": [
      "3! = 6\n"
     ]
    }
   ],
   "source": [
    "number = int(input(\"What is your favorite Number?(1 ~ 10)\\n\"))\n",
    "\n",
    "print(f\"{number}! = {factorial(number)}\")"
   ]
  },
  {
   "cell_type": "markdown",
   "id": "ab0e2095-569a-47a5-8229-52739bf8eb62",
   "metadata": {},
   "source": [
    "## 우주선 발사 카운트다운"
   ]
  },
  {
   "cell_type": "markdown",
   "id": "a6e44560-6854-4d21-9413-ed6e824181a7",
   "metadata": {},
   "source": [
    "### 함수"
   ]
  },
  {
   "cell_type": "code",
   "execution_count": 37,
   "id": "f3d9cb23-f1f7-4f8a-a988-c0717e78d027",
   "metadata": {},
   "outputs": [],
   "source": [
    "def readyGo(sec):\n",
    "    if sec == 0:\n",
    "        print(\"Go!\")\n",
    "    else:\n",
    "        print(sec)\n",
    "        readyGo(sec-1)"
   ]
  },
  {
   "cell_type": "markdown",
   "id": "8e2b520f-5ba7-45e3-ad7f-dd8a8bbe0c13",
   "metadata": {},
   "source": [
    "### 메인"
   ]
  },
  {
   "cell_type": "code",
   "execution_count": 38,
   "id": "97b71c87-44bc-4241-9837-6b1c9349d6c4",
   "metadata": {},
   "outputs": [
    {
     "name": "stdin",
     "output_type": "stream",
     "text": [
      "How many seconds you want?\n",
      " 5\n"
     ]
    },
    {
     "name": "stdout",
     "output_type": "stream",
     "text": [
      "We go in 5sec.\n",
      "5\n",
      "4\n",
      "3\n",
      "2\n",
      "1\n",
      "Go!\n"
     ]
    }
   ],
   "source": [
    "second = int(input(\"How many seconds you want?\\n\"))\n",
    "\n",
    "print(f\"We go in {second}sec.\")\n",
    "readyGo(second)"
   ]
  },
  {
   "cell_type": "markdown",
   "id": "79bd99e6-b88c-48b6-8209-1309e9adacbc",
   "metadata": {},
   "source": [
    "## n제곱 계산"
   ]
  },
  {
   "cell_type": "markdown",
   "id": "a5a992ef-2302-4c75-812b-ff8237d5bcf1",
   "metadata": {},
   "source": [
    "### 함수"
   ]
  },
  {
   "cell_type": "code",
   "execution_count": 39,
   "id": "5d5b2b9e-d9e3-41b1-8fde-5138d79def17",
   "metadata": {},
   "outputs": [],
   "source": [
    "def pow(num, count):\n",
    "    if count == 0:\n",
    "        return 1\n",
    "    return num * pow(num, count-1)"
   ]
  },
  {
   "cell_type": "markdown",
   "id": "4ccb36d2-3c62-4f85-b56f-2738fe853e3e",
   "metadata": {},
   "source": [
    "### 메인"
   ]
  },
  {
   "cell_type": "code",
   "execution_count": 40,
   "id": "3ef779d9-4b42-4490-a0b5-6116b685cff7",
   "metadata": {},
   "outputs": [
    {
     "name": "stdin",
     "output_type": "stream",
     "text": [
      "Which number do you want?\n",
      " 3\n",
      "How many times do you multipy the number?\n",
      " 4\n"
     ]
    },
    {
     "name": "stdout",
     "output_type": "stream",
     "text": [
      "3^4 = 81\n"
     ]
    }
   ],
   "source": [
    "number = int(input(\"Which number do you want?\\n\"))\n",
    "cycle = int(input(\"How many times do you multipy the number?\\n\"))\n",
    "\n",
    "print(f\"{number}^{cycle} = {pow(number, cycle)}\")"
   ]
  },
  {
   "cell_type": "markdown",
   "id": "14b821c8-0879-474e-956f-947d55bb9783",
   "metadata": {},
   "source": [
    "## 배열의 합 계산"
   ]
  },
  {
   "cell_type": "markdown",
   "id": "1285271f-c1f7-4343-a049-0fa40c1f0a13",
   "metadata": {},
   "source": [
    "### 함수"
   ]
  },
  {
   "cell_type": "code",
   "execution_count": 41,
   "id": "eed3201c-cc54-45c3-81b7-f2e6fa7381d1",
   "metadata": {},
   "outputs": [],
   "source": [
    "# array : 배열, n : 배열의 길이\n",
    "def arraySum(array, n):\n",
    "    if n <= 0:\n",
    "        return array[0]\n",
    "    return arraySum(array, n-1) + array[n]"
   ]
  },
  {
   "cell_type": "markdown",
   "id": "5e55ce23-3d1f-4378-ad4a-145e050433a7",
   "metadata": {},
   "source": [
    "### 변수"
   ]
  },
  {
   "cell_type": "code",
   "execution_count": 44,
   "id": "8cfc4990-e656-49ef-9477-09ea38712832",
   "metadata": {},
   "outputs": [
    {
     "name": "stdin",
     "output_type": "stream",
     "text": [
      "How many numbers do you add?(1 ~ 10)\n",
      " 10\n"
     ]
    }
   ],
   "source": [
    "size = int(input(\"How many numbers do you add?(1 ~ 10)\\n\"))\n",
    "\n",
    "num_list = [randint(0, 50) for _ in range(size)]"
   ]
  },
  {
   "cell_type": "markdown",
   "id": "5dfba61c-d183-497a-aff3-c51460778620",
   "metadata": {},
   "source": [
    "### 메인"
   ]
  },
  {
   "cell_type": "code",
   "execution_count": 45,
   "id": "b2393b3f-abe1-4c0b-8feb-c01af57e704d",
   "metadata": {},
   "outputs": [
    {
     "name": "stdout",
     "output_type": "stream",
     "text": [
      "ARRAY --> [3, 19, 48, 23, 45, 29, 22, 39, 35, 50]\n",
      "TOTAL SUM --> 313\n"
     ]
    }
   ],
   "source": [
    "print(f\"ARRAY --> {num_list}\")\n",
    "print(f\"TOTAL SUM --> {arraySum(num_list, size-1)}\")"
   ]
  },
  {
   "cell_type": "code",
   "execution_count": null,
   "id": "2d5fa387-947d-4212-ab74-71efedb1732a",
   "metadata": {},
   "outputs": [],
   "source": []
  }
 ],
 "metadata": {
  "kernelspec": {
   "display_name": "Python 3 (ipykernel)",
   "language": "python",
   "name": "python3"
  },
  "language_info": {
   "codemirror_mode": {
    "name": "ipython",
    "version": 3
   },
   "file_extension": ".py",
   "mimetype": "text/x-python",
   "name": "python",
   "nbconvert_exporter": "python",
   "pygments_lexer": "ipython3",
   "version": "3.11.7"
  }
 },
 "nbformat": 4,
 "nbformat_minor": 5
}
