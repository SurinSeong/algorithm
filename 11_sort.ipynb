{
 "cells": [
  {
   "cell_type": "markdown",
   "id": "dba38bad-685e-4eb9-960d-370ca6285500",
   "metadata": {},
   "source": [
    "# 정렬"
   ]
  },
  {
   "cell_type": "markdown",
   "id": "07e88999-d0ce-4fb2-bbc9-c72609dc7881",
   "metadata": {},
   "source": [
    "### 함수"
   ]
  },
  {
   "cell_type": "code",
   "execution_count": 20,
   "id": "b0819744-1c18-4f98-93b9-0929301ac657",
   "metadata": {},
   "outputs": [],
   "source": [
    "# 최솟값의 인덱스 찾는 함수\n",
    "\n",
    "def findMinIndex(array):\n",
    "    # 첫 번째를 최소라고 생각하고 시작하자\n",
    "    minIdx = 0\n",
    "    # 두 번째 수부터 비교 시작\n",
    "    for i in range(1, len(array)):\n",
    "        # minIdx의 값이 크면\n",
    "        if array[minIdx] > array[i]:\n",
    "            minIdx = i\n",
    "    return minIdx"
   ]
  },
  {
   "cell_type": "markdown",
   "id": "4b85bc65-bc9c-411a-b28a-a4cee31199ae",
   "metadata": {},
   "source": [
    "### 변수"
   ]
  },
  {
   "cell_type": "code",
   "execution_count": 21,
   "id": "f479c6c7-3a23-4291-917d-a6ffc04e1be8",
   "metadata": {},
   "outputs": [],
   "source": [
    "test_array = [55, 88, 33, 77]"
   ]
  },
  {
   "cell_type": "markdown",
   "id": "2a2baad0-75c4-4acf-a3d6-2dd8fdf5f393",
   "metadata": {},
   "source": [
    "### 메인"
   ]
  },
  {
   "cell_type": "code",
   "execution_count": 22,
   "id": "f4f18385-c65f-4bb0-8561-e6879452d93b",
   "metadata": {},
   "outputs": [
    {
     "name": "stdout",
     "output_type": "stream",
     "text": [
      "Min --> 33\n"
     ]
    }
   ],
   "source": [
    "# 최솟값 찾기\n",
    "\n",
    "minPos = findMinIndex(test_array)\n",
    "print(f\"Min --> {test_array[minPos]}\")"
   ]
  },
  {
   "cell_type": "markdown",
   "id": "faca30fe-0907-4ed5-b05a-85b9864a6c76",
   "metadata": {},
   "source": [
    "## 선택 정렬"
   ]
  },
  {
   "cell_type": "markdown",
   "id": "b5abd349-e256-4ff7-8f25-1a066f7cf39b",
   "metadata": {},
   "source": [
    "### 함수"
   ]
  },
  {
   "cell_type": "code",
   "execution_count": 23,
   "id": "bbb3cdbe-a1f4-4fe6-bb4d-678ee18a8611",
   "metadata": {},
   "outputs": [],
   "source": [
    "from random import randint\n",
    "\n",
    "# 최솟값의 인덱스 찾는 함수\n",
    "\n",
    "def findMinIndex(array):\n",
    "    # 첫 번째를 최소라고 생각하고 시작하자\n",
    "    minIdx = 0\n",
    "    # 두 번째 수부터 비교 시작\n",
    "    for i in range(1, len(array)):\n",
    "        # minIdx의 값이 크면\n",
    "        if array[minIdx] > array[i]:\n",
    "            minIdx = i\n",
    "    return minIdx"
   ]
  },
  {
   "cell_type": "markdown",
   "id": "dd9c801c-b175-4db2-b11e-fa4ba44d2b2c",
   "metadata": {},
   "source": [
    "### 변수"
   ]
  },
  {
   "cell_type": "code",
   "execution_count": 24,
   "id": "418235db-cbe9-46a2-870d-2242b8a0e080",
   "metadata": {},
   "outputs": [],
   "source": [
    "# 정렬 전\n",
    "before = [randint(30, 190) for _ in range(8)]\n",
    "# 정렬 후\n",
    "after = []"
   ]
  },
  {
   "cell_type": "markdown",
   "id": "2aa9d785-c63e-492d-8c6a-0c71b2b957ea",
   "metadata": {},
   "source": [
    "### 메인"
   ]
  },
  {
   "cell_type": "code",
   "execution_count": 25,
   "id": "aeb24954-8b54-4141-8a4d-8ce9c97ba859",
   "metadata": {},
   "outputs": [
    {
     "name": "stdout",
     "output_type": "stream",
     "text": [
      "Before sorting --> [82, 165, 117, 35, 52, 44, 152, 99]\n",
      "After sorting --> [35, 44, 52, 82, 99, 117, 152, 165]\n"
     ]
    }
   ],
   "source": [
    "print(f\"Before sorting --> {before}\")\n",
    "\n",
    "# 최솟값을 뽑고 넣고 뽑고 넣고 하는 과정\n",
    "for i in range(len(before)):\n",
    "    minPos = findMinIndex(before)\n",
    "    after.append(before[minPos])\n",
    "    del(before[minPos])\n",
    "    \n",
    "print(f\"After sorting --> {after}\")"
   ]
  },
  {
   "cell_type": "markdown",
   "id": "c2472c63-2fcc-4729-8454-568e4d61f750",
   "metadata": {},
   "source": [
    "## 개선된 선택정렬"
   ]
  },
  {
   "cell_type": "markdown",
   "id": "3f42f993-e74b-4290-8bf2-675385e5c64d",
   "metadata": {},
   "source": [
    "### 함수"
   ]
  },
  {
   "cell_type": "code",
   "execution_count": 32,
   "id": "70fe60ed-51d5-499a-8b34-ffc9cd165c3d",
   "metadata": {},
   "outputs": [],
   "source": [
    "from random import randint\n",
    "\n",
    "def selectSort(array):\n",
    "    # 전체 데이터 길이\n",
    "    n = len(array)\n",
    "    # n-1 만큼 사이클\n",
    "    for i in range(0, n-1, 1):\n",
    "        minIdx = i\n",
    "        # i 다음 값이랑 비교\n",
    "        for k in range(i+1, n, 1):\n",
    "            if array[minIdx] > array[k]:\n",
    "                minIdx = k\n",
    "        array[i], array[minIdx] = array[minIdx], array[i]\n",
    "\n",
    "    return array"
   ]
  },
  {
   "cell_type": "markdown",
   "id": "a00ecc23-0149-4896-96d2-1292dfa2506d",
   "metadata": {},
   "source": [
    "### 변수"
   ]
  },
  {
   "cell_type": "code",
   "execution_count": 33,
   "id": "aacf62af-73a7-4c6b-9d5f-1ef9d1dddf89",
   "metadata": {},
   "outputs": [],
   "source": [
    "# 정렬 전\n",
    "dataArray = [randint(30, 190) for _ in range(8)]"
   ]
  },
  {
   "cell_type": "markdown",
   "id": "6884bbd9-6c09-4fbe-8e84-5bdf20ba99e2",
   "metadata": {},
   "source": [
    "### 메인"
   ]
  },
  {
   "cell_type": "code",
   "execution_count": 34,
   "id": "0a421c77-6d25-4b89-aa3f-88893baaa0a0",
   "metadata": {},
   "outputs": [
    {
     "name": "stdout",
     "output_type": "stream",
     "text": [
      "Before sorting --> [162, 144, 165, 61, 159, 148, 31, 98]\n",
      "After sorting --> [31, 61, 98, 144, 148, 159, 162, 165]\n"
     ]
    }
   ],
   "source": [
    "# 정렬 전 출력\n",
    "print(f\"Before sorting --> {dataArray}\")\n",
    "\n",
    "# 정렬\n",
    "dataArray = selectSort(dataArray)\n",
    "\n",
    "# 정렬 후 출력\n",
    "print(f\"After sorting --> {dataArray}\")"
   ]
  },
  {
   "cell_type": "code",
   "execution_count": null,
   "id": "e7e5f47e-9fb5-4ce0-a02e-ea81760279d3",
   "metadata": {},
   "outputs": [],
   "source": []
  }
 ],
 "metadata": {
  "kernelspec": {
   "display_name": "Python 3 (ipykernel)",
   "language": "python",
   "name": "python3"
  },
  "language_info": {
   "codemirror_mode": {
    "name": "ipython",
    "version": 3
   },
   "file_extension": ".py",
   "mimetype": "text/x-python",
   "name": "python",
   "nbconvert_exporter": "python",
   "pygments_lexer": "ipython3",
   "version": "3.11.7"
  }
 },
 "nbformat": 4,
 "nbformat_minor": 5
}
