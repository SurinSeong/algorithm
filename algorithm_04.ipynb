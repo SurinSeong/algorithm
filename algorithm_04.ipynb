{
 "cells": [
  {
   "cell_type": "markdown",
   "id": "dbb099a1-db12-4b9c-80d5-303299f7fc0b",
   "metadata": {},
   "source": [
    "# 넷째마당 자료구조"
   ]
  },
  {
   "cell_type": "markdown",
   "id": "a7f5c45e-40d2-43e8-aed6-0c59a48ad4de",
   "metadata": {},
   "source": [
    "## 문제 13 회문 찾기\n",
    "* 문자열이 회문인지 아닌지를 판단해 회문이면 True, 아니면 False를 결과로 알려주는 알고리즘\n",
    "* 회문 : 순서대로 읽어도 거꾸로 읽어도 그 내용이 같은 낱말이나 문장\n",
    "* 큐와 스택\n",
    "    * 큐 : 줄 서기, First In First Out\n",
    "        * 인큐 : 큐에 자료를 한 개 집어넣는 동작 / 디큐 : 큐 안에 있는 자료를 한 개 꺼내는 동작\n",
    "    * 스택 : 접시 쌓기, Last In First Out\n",
    "        * 푸시 : 스택에 자료를 하나 집어넣는 동작 / 팝 : 스택 안에 있는 자료를 하나 꺼내는 동작\n",
    "    * 큐에서 자료를 꺼내면 들어간 순서 그래도 나오고, 스택은 자료를 꺼내면 들어간 순서와 정반대로 나온다."
   ]
  },
  {
   "cell_type": "code",
   "execution_count": 1,
   "id": "398d1fb4-4adb-4c0f-991a-e8a293bba1fc",
   "metadata": {},
   "outputs": [],
   "source": [
    "# 회문 찾기 알고리즘\n",
    "# 큐에서 꺼낸 문자들이 스택에서 꺼낸 문자들과 모두 같다면 그 문장은 회문이다.\n",
    "# 입력 : 문자열 s\n",
    "# 출력 : 회문이면 True, 아니면 False\n",
    "\n",
    "def palindrome(s):\n",
    "    # 큐와 스택을 리스트로 정의\n",
    "    qu = []\n",
    "    st = []\n",
    "\n",
    "    # 1단계 : 문자열의 알파벳 문자를 각각 큐와 스택에 넣는다.\n",
    "    for x in s:\n",
    "        # 해당 문자가 알파벳이면(공백, 특수문자, 숫자가 아니면)\n",
    "        # 큐, 스택에 문자 추가\n",
    "        if x.isalpha():\n",
    "            qu.append(x.lower())\n",
    "            st.append(x.lower())\n",
    "    \n",
    "    # 2단계 : 큐과 스택에 들어있는 문자를 꺼내면서 비교한다.\n",
    "    # 큐에 문자가 남아있으면\n",
    "    while qu:\n",
    "        # 큐와 스택에서 꺼낸 문자가 다르면\n",
    "        if qu.pop(0) != st.pop():\n",
    "            return False\n",
    "    return True"
   ]
  },
  {
   "cell_type": "code",
   "execution_count": 2,
   "id": "76fd2314-7bb1-4f78-abb0-e3a83893e7c5",
   "metadata": {},
   "outputs": [
    {
     "name": "stdout",
     "output_type": "stream",
     "text": [
      "True\n",
      "True\n",
      "False\n"
     ]
    }
   ],
   "source": [
    "print(palindrome(\"Wow\"))\n",
    "print(palindrome(\"Madam, I’m Adam.\"))\n",
    "print(palindrome(\"Madam, I am Adam.\"))"
   ]
  },
  {
   "cell_type": "markdown",
   "id": "e130a6c8-46a8-4db5-ad4c-5bc89834e438",
   "metadata": {},
   "source": [
    "### 연습 문제"
   ]
  },
  {
   "cell_type": "code",
   "execution_count": 5,
   "id": "3e19b835-3044-4dea-9e02-3119405fc1be",
   "metadata": {},
   "outputs": [],
   "source": [
    "# 큐와 스택을 이용하지 않고 회문인지 아닌지 판단하는 방법\n",
    "# = 문장의 앞뒤를 차례로 비교\n",
    "\n",
    "def palindrome2(s):\n",
    "    # 문자열의 앞에서 비교할 위치\n",
    "    i = 0\n",
    "    # 문자열의 뒤에서 비교할 위치\n",
    "    j = len(s) - 1\n",
    "    # 중간까지만 검사하면 된다\n",
    "    while i < j:\n",
    "        # i 위치에 있는 문자가 알파벳 문자가 아니면 뒤로 이동\n",
    "        if s[i].isalpha() == False:\n",
    "            i += 1\n",
    "        # j 위치에 있는 문자가 알파멧 문자가 아니면 앞으로 이동\n",
    "        elif s[j].isalpha() == False:\n",
    "            j -= 1\n",
    "        # i, j 위치 둘 다 알파벳 문자이면 두 문자 비교, 다르면 회문이 아님\n",
    "        elif s[i].lower() != s[j].lower():\n",
    "            return False\n",
    "        # i, j 같으면 다음으로 !\n",
    "        else:\n",
    "            i += 1\n",
    "            j -= 1\n",
    "    return True"
   ]
  },
  {
   "cell_type": "code",
   "execution_count": 6,
   "id": "154a478c-a905-4572-937c-530eca076d51",
   "metadata": {},
   "outputs": [
    {
     "name": "stdout",
     "output_type": "stream",
     "text": [
      "True\n",
      "True\n",
      "False\n"
     ]
    }
   ],
   "source": [
    "print(palindrome2(\"Wow\"))\n",
    "print(palindrome2(\"Madam, I’m Adam.\"))\n",
    "print(palindrome2(\"Madam, I am Adam.\"))"
   ]
  },
  {
   "cell_type": "markdown",
   "id": "35814518-4729-45f9-8c0a-63ffa9df8bb3",
   "metadata": {},
   "source": [
    "## 문제 14 동명이인 찾기\n",
    "* n명의 사람 이름 중에 같은 이름을 찾아 집합으로 만들어 돌려주는 알고리즘\n",
    "* 파이썬의 딕셔너리 라는 자료 구조를 이용해서 동명이인 문제 풀기\n",
    "* 딕셔너리\n",
    "    * 정보를 찾는 기준이 되는 키(key)와 그 키에 연결된 값(value)의 대응관계를 저장하는 자료구조"
   ]
  },
  {
   "cell_type": "code",
   "execution_count": 7,
   "id": "1b85d271-f055-429a-9961-4146104a8236",
   "metadata": {},
   "outputs": [],
   "source": [
    "# 두 번 이상 나온 이름 찾기\n",
    "# 입력 : 이름이 n개 들어있는 리스트\n",
    "# 출력 : n개의 이름 중 반복되는 이름의 집합\n",
    "\n",
    "def find_same_name(a):\n",
    "    # 1단계 : 각 이름의 등장 횟수를 딕셔너리로 만든다.\n",
    "    name_dict = {}\n",
    "    # 리스트 a에 있는 자료들을 차례로 반복\n",
    "    for name in a:\n",
    "        # 이름이 name_dict에 있으면\n",
    "        if name in name_dict:\n",
    "            # 등장 횟수를 1 증가시킨다.\n",
    "            name_dict[name] += 1\n",
    "        # 새로운 이름이면\n",
    "        else:\n",
    "            # 등장 횟수를 1로 저장\n",
    "            name_dict[name] = 1\n",
    "    # 2단계 : 만들어진 딕셔너리에서 등장 횟수가 2 이상인 것을 결과에 추가\n",
    "    # 결괏값을 저장할 빈 집합\n",
    "    result = set()\n",
    "    # 딕셔너리 name_dict에 있는 자료들을 차례로 반복한다.\n",
    "    for name in name_dict:\n",
    "        if name_dict[name] >= 2:\n",
    "            result.add(name)\n",
    "    return result"
   ]
  },
  {
   "cell_type": "code",
   "execution_count": 8,
   "id": "2e7ebdb9-b2fc-4249-82ac-9213516145ea",
   "metadata": {},
   "outputs": [
    {
     "name": "stdout",
     "output_type": "stream",
     "text": [
      "{'Tom'}\n",
      "{'Tom', 'Mike'}\n"
     ]
    }
   ],
   "source": [
    "name = [\"Tom\", \"Jerry\", \"Mike\", \"Tom\"] # 대소문자 유의: 파이썬은 대소문자를 구분함\n",
    "print(find_same_name(name))\n",
    "\n",
    "name2 = [\"Tom\", \"Jerry\", \"Mike\", \"Tom\", \"Mike\"]\n",
    "print(find_same_name(name2))"
   ]
  },
  {
   "cell_type": "markdown",
   "id": "7955b0c5-fe34-4624-82c0-a92e9996cea6",
   "metadata": {},
   "source": [
    "### 연습 문제"
   ]
  },
  {
   "cell_type": "code",
   "execution_count": 9,
   "id": "a5024b92-007e-4c08-9474-17baecee3b79",
   "metadata": {},
   "outputs": [],
   "source": [
    "# 14-1 연습문제 7-3에서 풀어본 학생 번호로 학생 이름을 찾는 문제를 딕셔너리를 이용해 풀어보자\n",
    "'''\n",
    "학생 번호와 이름이 주어졌을 때\n",
    "학생 번호를 입력하면 그 학생 번호에 해당하는 이름을 돌려주고\n",
    "학생 번호가 없으면 물음표를 돌려줘야 한다.\n",
    "'''\n",
    "# 입력 : 학생 명부 딕셔너리 s_info, 찾는 학생 번호 find_no\n",
    "# 출력 : 해당하는 학생 이름, 해당하는 학생 번호가 없으면 물음표\n",
    "\n",
    "def find_stu_name(s_info, find_no):\n",
    "    if find_no in s_info:\n",
    "        return s_info[find_no]\n",
    "    else:\n",
    "        return \"?\""
   ]
  },
  {
   "cell_type": "code",
   "execution_count": 10,
   "id": "dc260287-33e8-471b-b40c-861d23a97183",
   "metadata": {},
   "outputs": [
    {
     "name": "stdout",
     "output_type": "stream",
     "text": [
      "Summer\n",
      "?\n"
     ]
    }
   ],
   "source": [
    "sample_info = {\n",
    "                39: \"Justin\",\n",
    "                14: \"John\",\n",
    "                67: \"Mike\",\n",
    "                105: \"Summer\"\n",
    "                }\n",
    "print(find_stu_name(sample_info, 105))\n",
    "print(find_stu_name(sample_info, 777))"
   ]
  },
  {
   "cell_type": "markdown",
   "id": "45d10389-933f-4479-b539-541b11715644",
   "metadata": {},
   "source": [
    "## 문제 15 친구의 친구 찾기\n",
    "* 친구 관계를 이용해 어떤 한 사람이 직접 또는 간접으로 아는 모든 친구를 출력하는 알고리즘\n",
    "* ex) sns에서 친구 추천 기능\n",
    "    * 앞으로 처리해야 할 사람들\n",
    "        * 꼬리에 꼬리를 무는 친구의 친구들을 한 명도 빠뜨리지 않고 처리하려면\n",
    "        * 친구의 이름이 나올 때마다 메모지에 적어두었다가 한 명씩 처리하면서 메모지에서 지워야 함\n",
    "    * 이미 추가된 사람들\n",
    "        * 친구 추적 과정에서 한 명이 여러 번 나오거나 추적이 무한 반복되지 않게 하려면\n",
    "        * 이미 처리 대상으로 올린 사람은 중복되지 않게 메모지에 적어두어야 한다."
   ]
  },
  {
   "cell_type": "code",
   "execution_count": 13,
   "id": "1bdae295-80aa-419b-8d10-a848d64fee3d",
   "metadata": {},
   "outputs": [],
   "source": [
    "# 친구 리스트에서 자신의 모든 친구들 찾는 알고리즘\n",
    "# 입력 : 친구 관계 그래프 g, 모든 친구를 찾을 자신 start\n",
    "# 출력 : 모든 친구의 이름\n",
    "\n",
    "def print_all_friends(g, start):\n",
    "    # 기억 장소 1 : 앞으로 처리\n",
    "    qu = []\n",
    "    # 기억 장소 2 : 이미 추가\n",
    "    done = set()\n",
    "\n",
    "    # 자신을 qu에 넣고 시작한다.\n",
    "    qu.append(start)\n",
    "    # 집합에도 추가한다.\n",
    "    done.add(start)\n",
    "\n",
    "    # qu에 처리할 사람이 남아 있는 동안\n",
    "    while qu:\n",
    "        # 큐에서 처리 대상을 한 명 꺼내\n",
    "        p = qu.pop(0)\n",
    "        # 이름 출력\n",
    "        print(p)\n",
    "        # 그 친구들 중\n",
    "        for i in g[p]:\n",
    "            # 아직 qu에 추가된 적이 없는 사람을\n",
    "            if i not in done:\n",
    "                # qu에 추가\n",
    "                qu.append(i)\n",
    "                # 집합에도 추가\n",
    "                done.add(i)"
   ]
  },
  {
   "cell_type": "code",
   "execution_count": 14,
   "id": "265cb155-f34e-4162-b8c6-246e6c8b4964",
   "metadata": {},
   "outputs": [
    {
     "name": "stdout",
     "output_type": "stream",
     "text": [
      "Summer\n",
      "John\n",
      "Justin\n",
      "Mike\n",
      "May\n",
      "Kim\n",
      "\n",
      "Jerry\n",
      "Tom\n"
     ]
    }
   ],
   "source": [
    "fr_info = {\n",
    "            'Summer': ['John', 'Justin', 'Mike'],\n",
    "            'John': ['Summer', 'Justin'],\n",
    "            'Justin': ['John', 'Summer', 'Mike', 'May'],\n",
    "            'Mike': ['Summer', 'Justin'],\n",
    "            'May': ['Justin', 'Kim'],\n",
    "            'Kim': ['May'],\n",
    "            'Tom': ['Jerry'],\n",
    "            'Jerry': ['Tom']\n",
    "            }\n",
    "\n",
    "print_all_friends(fr_info, 'Summer')\n",
    "print()\n",
    "print_all_friends(fr_info, 'Jerry')"
   ]
  },
  {
   "cell_type": "code",
   "execution_count": 15,
   "id": "2480024f-3123-4b4f-a741-05c7f08bc2f4",
   "metadata": {},
   "outputs": [],
   "source": [
    "# 친구 리스트에서 자신의 모든 친구를 찾고 친구들의 친밀도를 계산하는 알고리즘\n",
    "# 입력 : 친구 관계 그래프 g, 모든 친구를 찾을 자신 start\n",
    "# 출력 : 모든 친구의 이름과 자신과의 친밀도\n",
    "\n",
    "def friend_score(g, start):\n",
    "    # 기억 장소 1 : 앞으로 처리해야 할 친구들\n",
    "    qu = []\n",
    "    # 기억 장소 2 : 이미 qu에 추가한 사람을 기억\n",
    "    done = set()\n",
    "    # (사람 이름, 친밀도) 정보를 하나의 튜플로 묶어 처리 / 자기자신 친밀도 : 0\n",
    "    qu.append((start, 0))\n",
    "    # done에도 추가\n",
    "    done.add(start)\n",
    "\n",
    "    # qu에 처리할 사람이 남아있는 동안\n",
    "    while qu:\n",
    "        # qu에서 정보를 (n, s)로 꺼낸다.\n",
    "        (n, s) = qu.pop(0)\n",
    "        # 사람 이름과 친밀도를 출력한다.\n",
    "        print(n, s)\n",
    "        # 친구들 중에\n",
    "        for x in g[n]:\n",
    "            # 아직 qu에 추가된 적 없는 사람을\n",
    "            if x not in done:\n",
    "                # 친밀도를 1 증가 시켜 큐에 추가\n",
    "                qu.append((x, s+1))\n",
    "                # 집합에도 추가\n",
    "                done.add(x)"
   ]
  },
  {
   "cell_type": "code",
   "execution_count": 16,
   "id": "ca7cf457-49d3-46d2-86bd-07b540e38313",
   "metadata": {},
   "outputs": [
    {
     "name": "stdout",
     "output_type": "stream",
     "text": [
      "Summer 0\n",
      "John 1\n",
      "Justin 1\n",
      "Mike 1\n",
      "May 2\n",
      "Kim 3\n",
      "\n",
      "Jerry 0\n",
      "Tom 1\n"
     ]
    }
   ],
   "source": [
    "fr_info = {\n",
    "            'Summer': ['John', 'Justin', 'Mike'],\n",
    "            'John': ['Summer', 'Justin'],\n",
    "            'Justin': ['John', 'Summer', 'Mike', 'May'],\n",
    "            'Mike': ['Summer', 'Justin'],\n",
    "            'May': ['Justin', 'Kim'],\n",
    "            'Kim': ['May'],\n",
    "            'Tom': ['Jerry'],\n",
    "            'Jerry': ['Tom']\n",
    "            }\n",
    "\n",
    "friend_score(fr_info, 'Summer')\n",
    "print()\n",
    "friend_score(fr_info, 'Jerry')"
   ]
  },
  {
   "cell_type": "markdown",
   "id": "67c715d3-b575-4d82-a609-b9b79dcd6179",
   "metadata": {},
   "source": [
    "### 연습 문제"
   ]
  },
  {
   "cell_type": "code",
   "execution_count": 17,
   "id": "6faaeb67-55dc-4004-999d-f68bf0a047ad",
   "metadata": {},
   "outputs": [],
   "source": [
    "# 15-1\n",
    "# 입력 : 그래프, 시작 위치\n",
    "# 출력 : 관계성\n",
    "\n",
    "def nums_rel(g, start):\n",
    "    qu = []\n",
    "    done = set()\n",
    "\n",
    "    qu.append(start)\n",
    "    done.add(start)\n",
    "\n",
    "    while qu:\n",
    "        n = qu.pop(0)\n",
    "        print(n)\n",
    "\n",
    "        for x in g[n]:\n",
    "            if x not in done:\n",
    "                qu.append(x)\n",
    "                done.add(x)"
   ]
  },
  {
   "cell_type": "code",
   "execution_count": 19,
   "id": "1f40cda5-63cf-4aaa-b3a7-ab6092f9235e",
   "metadata": {},
   "outputs": [
    {
     "name": "stdout",
     "output_type": "stream",
     "text": [
      "1\n",
      "2\n",
      "3\n",
      "4\n",
      "5\n"
     ]
    }
   ],
   "source": [
    "# 그래프 정보\n",
    "g = {\n",
    "        1: [2, 3],\n",
    "        2: [1, 4, 5],\n",
    "        3: [1],\n",
    "        4: [2],\n",
    "        5: [2]\n",
    "        }\n",
    "\n",
    "nums_rel(g, 1)"
   ]
  },
  {
   "cell_type": "code",
   "execution_count": null,
   "id": "3d8f104b-6987-4871-8503-95b1c26b11d8",
   "metadata": {},
   "outputs": [],
   "source": []
  }
 ],
 "metadata": {
  "kernelspec": {
   "display_name": "Python 3 (ipykernel)",
   "language": "python",
   "name": "python3"
  },
  "language_info": {
   "codemirror_mode": {
    "name": "ipython",
    "version": 3
   },
   "file_extension": ".py",
   "mimetype": "text/x-python",
   "name": "python",
   "nbconvert_exporter": "python",
   "pygments_lexer": "ipython3",
   "version": "3.11.7"
  }
 },
 "nbformat": 4,
 "nbformat_minor": 5
}
