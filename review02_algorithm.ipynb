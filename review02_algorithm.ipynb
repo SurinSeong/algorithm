{
 "cells": [
  {
   "cell_type": "markdown",
   "id": "5e4c8aac-e7f4-4823-b04a-1d9859e9799c",
   "metadata": {},
   "source": [
    "# Stack"
   ]
  },
  {
   "cell_type": "markdown",
   "id": "eb066591-d656-4712-9b47-e7764f5c8b35",
   "metadata": {},
   "source": [
    "## 간단 구현"
   ]
  },
  {
   "cell_type": "markdown",
   "id": "a17536de-6160-4708-b45b-dfdddefdf1db",
   "metadata": {},
   "source": [
    "### 함수"
   ]
  },
  {
   "cell_type": "markdown",
   "id": "07c9b523-c694-450e-b27d-68cdeb9d1e9d",
   "metadata": {},
   "source": [
    "### 변수"
   ]
  },
  {
   "cell_type": "code",
   "execution_count": 1,
   "id": "f99a148d-8dde-4fb1-b759-ba179c4404ca",
   "metadata": {},
   "outputs": [],
   "source": [
    "stack = [None, None, None, None, None]\n",
    "top = -1"
   ]
  },
  {
   "cell_type": "markdown",
   "id": "2ea9ed1e-34e1-47bc-99eb-f984f73feac7",
   "metadata": {},
   "source": [
    "### 메인"
   ]
  },
  {
   "cell_type": "code",
   "execution_count": 2,
   "id": "71d07f79-539d-4646-a3ce-1fa335ecb9ec",
   "metadata": {},
   "outputs": [
    {
     "name": "stdout",
     "output_type": "stream",
     "text": [
      "floor : ['Nuclear', 'Ribosome', 'Lysosome', None, None]\n"
     ]
    }
   ],
   "source": [
    "# push\n",
    "top += 1\n",
    "stack[top] = \"Nuclear\"\n",
    "\n",
    "top += 1\n",
    "stack[top] = \"Ribosome\"\n",
    "\n",
    "top += 1\n",
    "stack[top] = \"Lysosome\"\n",
    "\n",
    "print(f\"floor : {stack}\")"
   ]
  },
  {
   "cell_type": "code",
   "execution_count": 3,
   "id": "61138d34-a38d-4948-b615-4eaf8a9c1db6",
   "metadata": {},
   "outputs": [
    {
     "name": "stdout",
     "output_type": "stream",
     "text": [
      "pop : Lysosome\n",
      "pop : Ribosome\n",
      "pop : Nuclear\n"
     ]
    }
   ],
   "source": [
    "# pop\n",
    "# 꺼내서 버리는 것이 아니라 써먹어야 한다.\n",
    "data = stack[top]\n",
    "stack[top] = None\n",
    "top -= 1\n",
    "print(f\"pop : {data}\")\n",
    "\n",
    "data = stack[top]\n",
    "stack[top] = None\n",
    "top -= 1\n",
    "print(f\"pop : {data}\")\n",
    "\n",
    "data = stack[top]\n",
    "stack[top] = None\n",
    "top -= 1\n",
    "print(f\"pop : {data}\")"
   ]
  },
  {
   "cell_type": "markdown",
   "id": "c20707bd-38cf-48d5-8d31-8cd0f7c351aa",
   "metadata": {},
   "source": [
    "## 실무 버전"
   ]
  },
  {
   "cell_type": "markdown",
   "id": "548c49df-3343-4fc8-8cd9-119f82a3cc97",
   "metadata": {},
   "source": [
    "### 함수"
   ]
  },
  {
   "cell_type": "code",
   "execution_count": 5,
   "id": "39132e38-92d2-4540-86e4-2dbe8f468cb5",
   "metadata": {},
   "outputs": [],
   "source": [
    "# stack이 가득 찼는지 확인하는 함수 (push 전에 확인하는 용도)\n",
    "# overflow 방지 용도이다.\n",
    "def isStackFull():\n",
    "    global size, stack, top\n",
    "    # stack이 가득 참\n",
    "    if top == (size-1):\n",
    "        return True\n",
    "    # stack이 가득 차지 않았다면\n",
    "    else:\n",
    "        return False"
   ]
  },
  {
   "cell_type": "code",
   "execution_count": 6,
   "id": "0950aa8f-09d9-4dff-84ee-d133c60e1499",
   "metadata": {},
   "outputs": [],
   "source": [
    "# push 함수\n",
    "def push(data):\n",
    "    global size, stack, top\n",
    "    # 스택이 가득 차있다면\n",
    "    if isStackFull():\n",
    "        print(\"Stack is full!\")\n",
    "        # 아무것도 하지 않고 그대로 리턴\n",
    "        return\n",
    "    # 스택이 가득 차지 않았다면\n",
    "    # top을 하나 증가시키고\n",
    "    top += 1\n",
    "    # top 위치에 원하는 데이터 추가\n",
    "    stack[top] = data"
   ]
  },
  {
   "cell_type": "code",
   "execution_count": 8,
   "id": "72eb14a0-4b15-4157-99b1-f7392dd095e9",
   "metadata": {},
   "outputs": [],
   "source": [
    "# underflow 방지용\n",
    "# stack이 비어있는 것을 확인하는 함수 (top = -1)\n",
    "def isStackEmpty():\n",
    "    global size, stack, top\n",
    "    if top == -1:\n",
    "        return True\n",
    "    else:\n",
    "        return False"
   ]
  },
  {
   "cell_type": "code",
   "execution_count": 9,
   "id": "ef80f3d6-36c6-4852-9c2f-a341641daa32",
   "metadata": {},
   "outputs": [],
   "source": [
    "# pop 함수\n",
    "def pop():\n",
    "    global size, stack, top\n",
    "    # stack이 완전히 비었다면\n",
    "    if isStackEmpty():\n",
    "        print(\"Stack is Empty!\")\n",
    "        return\n",
    "    # stack이 비어있지 않다면\n",
    "    # 가장 꼭대기의 데이터를 data라고 지정\n",
    "    data = stack[top]\n",
    "    # 꼭대기 데이터 없애기\n",
    "    stack[top] = None\n",
    "    # top 한 칸 줄이기\n",
    "    top -= 1\n",
    "    # 꺼낸 데이터 return\n",
    "    return data"
   ]
  },
  {
   "cell_type": "code",
   "execution_count": 11,
   "id": "e0de8d3d-df3c-4774-ba80-f73b9a2e6946",
   "metadata": {},
   "outputs": [],
   "source": [
    "# peek : 다음에 나올 데이터 확인\n",
    "def peek():\n",
    "    global size, stack, top\n",
    "    # stack이 텅 비었다면 확인할 것 없음.\n",
    "    if isStackEmpty():\n",
    "        print(\"Stack is Empty!\")\n",
    "        return\n",
    "    # stack에 자료가 존재한다면 가장 위의 데이터 return\n",
    "    return stack[top]"
   ]
  },
  {
   "cell_type": "markdown",
   "id": "a3ae7980-37cc-4901-96e7-cbd3249dad14",
   "metadata": {},
   "source": [
    "### 변수"
   ]
  },
  {
   "cell_type": "code",
   "execution_count": 4,
   "id": "939c9031-b7fc-44eb-a980-9cf92afec596",
   "metadata": {},
   "outputs": [],
   "source": [
    "# stack 크기 변수 지정\n",
    "size = 4\n",
    "\n",
    "# list comprehension으로 stack 지정\n",
    "stack = [None for _ in range(size)]\n",
    "top = -1"
   ]
  },
  {
   "cell_type": "markdown",
   "id": "06d49c6f-3e1a-4785-b95f-5473a67ff334",
   "metadata": {},
   "source": [
    "### 메인"
   ]
  },
  {
   "cell_type": "code",
   "execution_count": 7,
   "id": "57d469d8-43ed-4172-895f-8ec06b41f87c",
   "metadata": {},
   "outputs": [
    {
     "name": "stdout",
     "output_type": "stream",
     "text": [
      "Floor : ['water', 'oil', None, None]\n"
     ]
    }
   ],
   "source": [
    "# push 함수로 데이터 넣기\n",
    "push(\"water\")\n",
    "push(\"oil\")\n",
    "\n",
    "print(f\"Floor : {stack}\")"
   ]
  },
  {
   "cell_type": "code",
   "execution_count": 10,
   "id": "d557db42-3c4f-49b5-b3e1-16f5b91361f5",
   "metadata": {},
   "outputs": [
    {
     "name": "stdout",
     "output_type": "stream",
     "text": [
      "Pop --> oil\n"
     ]
    }
   ],
   "source": [
    "# pop 함수로 자료 추출하기\n",
    "retData = pop()\n",
    "print(f\"Pop --> {retData}\")"
   ]
  },
  {
   "cell_type": "code",
   "execution_count": 12,
   "id": "fb5346e7-02dc-403f-8575-021d96a0882d",
   "metadata": {},
   "outputs": [
    {
     "name": "stdout",
     "output_type": "stream",
     "text": [
      "Next --> water\n"
     ]
    }
   ],
   "source": [
    "# peek 함수로 pop한 다음 데이터 확인하기\n",
    "print(f\"Next --> {peek()}\")"
   ]
  },
  {
   "cell_type": "code",
   "execution_count": 13,
   "id": "05decf9c-c2eb-466f-8982-7a93b6c54ebe",
   "metadata": {},
   "outputs": [
    {
     "name": "stdout",
     "output_type": "stream",
     "text": [
      "Pop --> water\n",
      "Stack is Empty!\n",
      "Next --> None\n",
      "floor --> [None, None, None, None]\n"
     ]
    }
   ],
   "source": [
    "# pop(), peek()\n",
    "retData = pop()\n",
    "print(f\"Pop --> {retData}\")\n",
    "\n",
    "print(f\"Next --> {peek()}\")\n",
    "\n",
    "print(f\"floor --> {stack}\")"
   ]
  },
  {
   "cell_type": "markdown",
   "id": "81e4e73c-3048-4924-93d9-68111ca88285",
   "metadata": {},
   "source": [
    "## 프로그램 구현"
   ]
  },
  {
   "cell_type": "code",
   "execution_count": 14,
   "id": "f8f94dea-74bd-462f-93a4-adcbfa446088",
   "metadata": {},
   "outputs": [
    {
     "name": "stdin",
     "output_type": "stream",
     "text": [
      "Choose what you want\n",
      "I : Insert | E : Extrack | V : View | Q : Quit\n",
      " q\n"
     ]
    },
    {
     "name": "stdout",
     "output_type": "stream",
     "text": [
      "Exit the program.\n"
     ]
    }
   ],
   "source": [
    "## 메인 코드 부분 ##\n",
    "\n",
    "if __name__ == \"__main__\":\n",
    "    # 원하는 작업 선택하기\n",
    "    select = input(\"Choose what you want\\nI : Insert | E : Extrack | V : View | Q : Quit\\n\")\n",
    "\n",
    "    while (select != \"Q\") and (select != \"q\"):\n",
    "        \n",
    "        if (select == \"I\") or (select == \"i\"):\n",
    "            data = input(\"Data --> \")\n",
    "            push(data)\n",
    "            print(f\"<stack>\\nFloor --> {stack}\")\n",
    "\n",
    "        elif (select == \"E\") or (select == \"e\"):\n",
    "            data = pop()\n",
    "            print(f\"Pop --> {data}\")\n",
    "            print(f\"<stack>\\nFloor --> {stack}\")\n",
    "\n",
    "        elif (select == \"V\") or (select == \"v\"):\n",
    "            data = peek()\n",
    "            print(f\"Next --> {data}\")\n",
    "            print(f\"<stack>\\nFloor --> {stack}\")\n",
    "\n",
    "        else:\n",
    "            print(\"Input is Wrong.\")\n",
    "\n",
    "        select = input(\"Choose what you want\\nI : Insert | E : Extrack | V : View | Q : Quit\\n\")\n",
    "\n",
    "    print(\"Exit the program.\")"
   ]
  },
  {
   "cell_type": "markdown",
   "id": "407e38e4-4606-44cf-9fa4-eb23a88eb279",
   "metadata": {},
   "source": [
    "# Queue"
   ]
  },
  {
   "cell_type": "markdown",
   "id": "e72fbf76-f0bc-4e8f-93ee-cf6c81374e14",
   "metadata": {},
   "source": [
    "## 간단 구현"
   ]
  },
  {
   "cell_type": "markdown",
   "id": "18ffc428-bb4f-4d36-888a-05f3a7af01d4",
   "metadata": {},
   "source": [
    "### 함수"
   ]
  },
  {
   "cell_type": "markdown",
   "id": "efc5cd35-6080-445e-b3f5-6403f926049f",
   "metadata": {},
   "source": [
    "### 변수"
   ]
  },
  {
   "cell_type": "code",
   "execution_count": 1,
   "id": "68992976-bd0b-469b-ad85-43d3248589cf",
   "metadata": {},
   "outputs": [],
   "source": [
    "size = 5\n",
    "\n",
    "# stack과 동일한 구조\n",
    "# 같은 배열이지만 어떻게 사용하는지에 따라 용도가 달라짐.\n",
    "queue = [None for _ in range(size)]\n",
    "front = rear = -1"
   ]
  },
  {
   "cell_type": "markdown",
   "id": "599fc30c-f926-48c1-8f6b-625dedd21109",
   "metadata": {},
   "source": [
    "### 메인"
   ]
  },
  {
   "cell_type": "code",
   "execution_count": 2,
   "id": "45cf68ec-7ac9-4fff-bdbe-79e89b8507e0",
   "metadata": {},
   "outputs": [
    {
     "name": "stdout",
     "output_type": "stream",
     "text": [
      "Out <-- ['red', 'yellow', 'blue', None, None] <-- In\n"
     ]
    }
   ],
   "source": [
    "# enQueue()\n",
    "rear += 1\n",
    "queue[rear] = \"red\"\n",
    "\n",
    "rear += 1\n",
    "queue[rear] = \"yellow\"\n",
    "\n",
    "rear += 1\n",
    "queue[rear] = \"blue\"\n",
    "\n",
    "print(f\"Out <-- {queue} <-- In\")"
   ]
  },
  {
   "cell_type": "code",
   "execution_count": 3,
   "id": "cad8f7ce-24ac-4904-8dee-3297ad71dfdf",
   "metadata": {},
   "outputs": [
    {
     "name": "stdout",
     "output_type": "stream",
     "text": [
      "Here : red\n",
      "Here : yellow\n",
      "Here : blue\n",
      "Out <-- [None, None, None, None, None] <-- In\n"
     ]
    }
   ],
   "source": [
    "# deQueue()\n",
    "front += 1\n",
    "data = queue[front]\n",
    "queue[front] = None\n",
    "print(f\"Here : {data}\")\n",
    "\n",
    "front += 1\n",
    "data = queue[front]\n",
    "queue[front] = None\n",
    "print(f\"Here : {data}\")\n",
    "\n",
    "front += 1\n",
    "data = queue[front]\n",
    "queue[front] = None\n",
    "print(f\"Here : {data}\")\n",
    "\n",
    "print(f\"Out <-- {queue} <-- In\")"
   ]
  },
  {
   "cell_type": "markdown",
   "id": "f3b91dd8-11d8-4cde-9c79-220f665da1e8",
   "metadata": {},
   "source": [
    "## 실무 버전"
   ]
  },
  {
   "cell_type": "markdown",
   "id": "b6bbbeac-6af8-4163-b9eb-d51862779aa5",
   "metadata": {},
   "source": [
    "### 함수"
   ]
  },
  {
   "cell_type": "code",
   "execution_count": 5,
   "id": "a653c18a-7cf8-4f99-a911-81c2338e529e",
   "metadata": {},
   "outputs": [],
   "source": [
    "# 큐가 꽉 차있는지 확인하는 함수\n",
    "def isQueueFull():\n",
    "    global size, queue, front, rear\n",
    "    # rear가 마지막 칸을 가리키면\n",
    "    if rear >= (size-1): # 원래 ==가 맞지만 >=도 상관없음.\n",
    "        return True\n",
    "    else:\n",
    "        return False"
   ]
  },
  {
   "cell_type": "code",
   "execution_count": 6,
   "id": "71800a1e-9992-4498-9955-90c8b0f384ba",
   "metadata": {},
   "outputs": [],
   "source": [
    "# 큐에 데이터 삽입하는 함수\n",
    "def enQueue(data):\n",
    "    global size, queue, front, rear\n",
    "    # 큐가 꽉 찼다면\n",
    "    if isQueueFull():\n",
    "        print(\"Queue is Full!\")\n",
    "        # 원래의 큐 리턴\n",
    "        return\n",
    "    # 큐가 꽉 차지 않았다면\n",
    "    # 마지막 위치\n",
    "    rear += 1\n",
    "    # 마지막 위치에 데이터 넣어주기\n",
    "    queue[rear] = data"
   ]
  },
  {
   "cell_type": "code",
   "execution_count": 9,
   "id": "3e948355-0e2d-4bf1-bf06-d45c5f7ab69e",
   "metadata": {},
   "outputs": [],
   "source": [
    "# 큐가 텅 비어있는지 확인하는 함수\n",
    "def isQueueEmpty():\n",
    "    global size, queue, front, rear\n",
    "    # front와 rear가 같으면 비었다.\n",
    "    if front == rear:\n",
    "        return True\n",
    "    else:\n",
    "        return False"
   ]
  },
  {
   "cell_type": "code",
   "execution_count": 10,
   "id": "4cf9f639-417a-4ea2-8aad-d3cf84ac2c4c",
   "metadata": {},
   "outputs": [],
   "source": [
    "# 큐에서 데이터를 추출하는 함수\n",
    "def deQueue():\n",
    "    global size, queue, front, rear\n",
    "    # 큐가 비었다면\n",
    "    if isQueueEmpty():\n",
    "        print(\"Queue is alreay Empty!\")\n",
    "        # 그대로 return\n",
    "        return\n",
    "    # 큐에 데이터가 있다면 추출하기\n",
    "    front += 1\n",
    "    data = queue[front]\n",
    "    queue[front] = None\n",
    "    # 추출 데이터 리턴\n",
    "    return data"
   ]
  },
  {
   "cell_type": "code",
   "execution_count": 12,
   "id": "8a3b8ca5-9f6b-4f21-bcde-e65d59822db2",
   "metadata": {},
   "outputs": [],
   "source": [
    "# 다음 추출될 데이터 확인하기\n",
    "# 큐가 텅 비었을 경우에는 확인 불가\n",
    "def peek():\n",
    "    global size, queue, front, rear\n",
    "    # 비었는지 확인\n",
    "    if isQueueEmpty():\n",
    "        print(\"Queue is Empty!\")\n",
    "        return\n",
    "    # 큐에 데이터가 있으면 다음 데이터 확인하기\n",
    "    return queue[front + 1]"
   ]
  },
  {
   "cell_type": "markdown",
   "id": "458181af-4b28-49db-9180-52b393fccf05",
   "metadata": {},
   "source": [
    "### 변수"
   ]
  },
  {
   "cell_type": "code",
   "execution_count": 4,
   "id": "1023e42e-9673-4637-a320-3a7ceec3953c",
   "metadata": {},
   "outputs": [],
   "source": [
    "size = 6\n",
    "queue = [None for _ in range(size)]\n",
    "\n",
    "# front와 rear가 같은 값이면 queue가 텅 비어있는 상태\n",
    "front = rear = -1"
   ]
  },
  {
   "cell_type": "markdown",
   "id": "95fe4f69-e62e-4dc2-b360-fb1b5b232984",
   "metadata": {},
   "source": [
    "### 메인"
   ]
  },
  {
   "cell_type": "code",
   "execution_count": 7,
   "id": "cb345c5a-7272-4386-bdfd-912883dfb468",
   "metadata": {},
   "outputs": [
    {
     "name": "stdout",
     "output_type": "stream",
     "text": [
      "Out <-- ['January', 'February', 'March', 'December', 'November', None] <-- In\n"
     ]
    }
   ],
   "source": [
    "# 데이터 삽입하기\n",
    "enQueue(\"January\")\n",
    "enQueue(\"February\")\n",
    "enQueue(\"March\")\n",
    "enQueue(\"December\")\n",
    "enQueue(\"November\")\n",
    "\n",
    "print(f\"Out <-- {queue} <-- In\")"
   ]
  },
  {
   "cell_type": "code",
   "execution_count": 8,
   "id": "f7182970-77e8-4628-84f0-e8e8bf06e42d",
   "metadata": {},
   "outputs": [
    {
     "name": "stdout",
     "output_type": "stream",
     "text": [
      "Queue is Full!\n",
      "OUT <-- ['January', 'February', 'March', 'December', 'November', 'October'] <-- IN\n"
     ]
    }
   ],
   "source": [
    "# 가득 채운 후 또 추가 시도해보기\n",
    "enQueue(\"October\")\n",
    "enQueue(\"July\")\n",
    "\n",
    "print(f\"OUT <-- {queue} <-- IN\")"
   ]
  },
  {
   "cell_type": "code",
   "execution_count": 11,
   "id": "fb7e8ce0-d456-4966-8a9c-5464ab54f98c",
   "metadata": {},
   "outputs": [
    {
     "name": "stdout",
     "output_type": "stream",
     "text": [
      "Extract : January\n"
     ]
    }
   ],
   "source": [
    "# 데이터 추출하기\n",
    "retData = deQueue()\n",
    "print(f\"Extract : {retData}\")"
   ]
  },
  {
   "cell_type": "code",
   "execution_count": 13,
   "id": "44c57d35-4f6b-48eb-8f9a-36be7c428fe2",
   "metadata": {},
   "outputs": [
    {
     "name": "stdout",
     "output_type": "stream",
     "text": [
      "Next : February\n"
     ]
    }
   ],
   "source": [
    "# 다음 추출될 데이터 확인하기\n",
    "print(f\"Next : {peek()}\")"
   ]
  },
  {
   "cell_type": "code",
   "execution_count": 14,
   "id": "c639668a-8e5d-4737-80d1-5044644ae8a5",
   "metadata": {},
   "outputs": [
    {
     "name": "stdout",
     "output_type": "stream",
     "text": [
      "Extract : February\n",
      "Next : March\n",
      "OUT <-- [None, None, 'March', 'December', 'November', 'October'] <-- IN\n"
     ]
    }
   ],
   "source": [
    "# 데이터 추출 & 다음 추출 데이터 확인\n",
    "retData = deQueue()\n",
    "print(f\"Extract : {retData}\")\n",
    "\n",
    "print(f\"Next : {peek()}\")\n",
    "\n",
    "print(f\"OUT <-- {queue} <-- IN\")"
   ]
  },
  {
   "cell_type": "markdown",
   "id": "e336d52c-4f91-4594-a7dd-0029413047b3",
   "metadata": {},
   "source": [
    "## 함수 보수"
   ]
  },
  {
   "cell_type": "code",
   "execution_count": 15,
   "id": "a28d4192-c31e-4810-83ae-3376aa96b1b5",
   "metadata": {},
   "outputs": [],
   "source": [
    "# isQueueFull()에서 경우의 수를 나눠서 생각해본다면\n",
    "# enQueue에서는 그냥 추가하는 코드만 쓰면 된다.\n",
    "def isQueueFull():\n",
    "    global size, queue, front, rear\n",
    "\n",
    "    # 큐를 채울 수 있는 경우 (뒤에 공간이 있다.)\n",
    "    if rear != (size-1):\n",
    "        return False\n",
    "    # 더 이상 채울 공간이 없는 경우\n",
    "    elif (rear == (size-1)) and (front == -1):\n",
    "        return True\n",
    "    # 앞 부분에 공간이 있는 경우\n",
    "    elif (rear == (size-1)) and (front != -1):\n",
    "        # 한 칸씩 앞으로 당긴다.\n",
    "        for i in range(front+1, size, 1):\n",
    "            queue[i-1] = queue[i]\n",
    "            queue[i] = None\n",
    "        front -= 1\n",
    "        rear -= 1\n",
    "        return False"
   ]
  },
  {
   "cell_type": "markdown",
   "id": "aa28103b-72b5-4061-abfa-c699890ba91d",
   "metadata": {},
   "source": [
    "## 원형 큐"
   ]
  },
  {
   "cell_type": "markdown",
   "id": "6e354131-ae85-41b1-8798-6d642d5f4374",
   "metadata": {},
   "source": [
    "### 함수"
   ]
  },
  {
   "cell_type": "code",
   "execution_count": 17,
   "id": "db7a1632-e918-42ee-a9e6-e921a45dd887",
   "metadata": {},
   "outputs": [],
   "source": [
    "# enQueue() 만들기 (1)\n",
    "# isQueueFull()\n",
    "def isQueueFull():\n",
    "    global size, queue, front, rear\n",
    "    if ((rear+1) % size) == front:\n",
    "        return True\n",
    "    else:\n",
    "        return False"
   ]
  },
  {
   "cell_type": "code",
   "execution_count": 18,
   "id": "4db386fb-466a-4fbe-9288-7227655ba348",
   "metadata": {},
   "outputs": [],
   "source": [
    "# enQueue() 만들기 (2)\n",
    "def enQueue(data):\n",
    "    global size, queue, front, rear\n",
    "    # 큐가 가득 찼다면\n",
    "    if isQueueFull():\n",
    "        print(\"Queue is alreay Full.\")\n",
    "        return\n",
    "    # 큐에 빈자리가 있다면\n",
    "    # 마지막 위치\n",
    "    rear = (rear + 1) % size\n",
    "    # 마지막 위치에 데이터 넣어주기\n",
    "    queue[rear] = data"
   ]
  },
  {
   "cell_type": "code",
   "execution_count": 20,
   "id": "e04a298a-5e5d-4257-bebf-20fab0becb21",
   "metadata": {},
   "outputs": [],
   "source": [
    "# deQueue() 만들기 (1)\n",
    "# isQueueEmpty()\n",
    "def isQueueEmpty():\n",
    "    global size, queue, front, rear\n",
    "    # front = rear이면 완전히 비었다.\n",
    "    if front == rear:\n",
    "        return True\n",
    "    else:\n",
    "        return False"
   ]
  },
  {
   "cell_type": "code",
   "execution_count": 21,
   "id": "406a2fb8-305c-443a-93bb-c3c4c0fbe94a",
   "metadata": {},
   "outputs": [],
   "source": [
    "# deQueue() 만들기 (2)\n",
    "def deQueue():\n",
    "    global size, queue, front, rear\n",
    "    # 큐가 완전히 비었을 경우\n",
    "    if isQueueEmpty():\n",
    "        print(\"Queue is already Empty.\")\n",
    "        return\n",
    "    # 큐에 데이터가 있다면\n",
    "    front = (front + 1) % size\n",
    "    data = queue[front]\n",
    "    queue[front] = None\n",
    "    return data"
   ]
  },
  {
   "cell_type": "code",
   "execution_count": 22,
   "id": "4ab048a6-2093-4f65-b5d5-d604453bf4ea",
   "metadata": {},
   "outputs": [],
   "source": [
    "# peek()\n",
    "# 큐가 완전히 비었을 경우 확인 불가\n",
    "def peek():\n",
    "    global size, queue, front, rear\n",
    "    # 완전히 비었는지 확인\n",
    "    if isQueueEmpty():\n",
    "        print(\"Queue is already Empty.\")\n",
    "        return\n",
    "    # 큐에 데이터가 있으면 다음 데이터 확인\n",
    "    return queue[(front + 1) % size]"
   ]
  },
  {
   "cell_type": "markdown",
   "id": "eb56d824-37c0-43b9-b1e2-ffc9cbd81576",
   "metadata": {},
   "source": [
    "### 변수"
   ]
  },
  {
   "cell_type": "code",
   "execution_count": 16,
   "id": "c780c2c7-0759-4df5-8c41-0c401731e065",
   "metadata": {},
   "outputs": [],
   "source": [
    "size = 5\n",
    "queue = [None for _ in range(size)]\n",
    "# front와 rear가 같은 값이면 queue가 완전히 비어있는 상태이다.\n",
    "front = rear = 0"
   ]
  },
  {
   "cell_type": "markdown",
   "id": "42edf1bd-720d-47b3-8fab-08e23a1427d9",
   "metadata": {},
   "source": [
    "### 메인"
   ]
  },
  {
   "cell_type": "code",
   "execution_count": 19,
   "id": "f6c344b8-7752-41f5-938d-8646d7e4d6c6",
   "metadata": {},
   "outputs": [
    {
     "name": "stdout",
     "output_type": "stream",
     "text": [
      "OUT <-- [None, 'English', 'Math', 'biology', 'physics'] <-- IN\n"
     ]
    }
   ],
   "source": [
    "# 데이터 삽입하기\n",
    "enQueue(\"English\")\n",
    "enQueue(\"Math\")\n",
    "enQueue(\"biology\")\n",
    "enQueue(\"physics\")\n",
    "\n",
    "print(f\"OUT <-- {queue} <-- IN\")"
   ]
  },
  {
   "cell_type": "code",
   "execution_count": 23,
   "id": "def1b545-b637-427c-a5c5-74ecd39ff5aa",
   "metadata": {},
   "outputs": [
    {
     "name": "stdout",
     "output_type": "stream",
     "text": [
      "Extract : English\n",
      "Next : Math\n",
      "Extract : Math\n",
      "Next : biology\n",
      "OUT <-- [None, None, None, 'biology', 'physics'] <-- IN\n"
     ]
    }
   ],
   "source": [
    "# 데이터 추출\n",
    "retData = deQueue()\n",
    "print(f\"Extract : {retData}\")\n",
    "\n",
    "# 다음 데이터 확인\n",
    "print(f\"Next : {peek()}\")\n",
    "\n",
    "# 추출\n",
    "retData = deQueue()\n",
    "print(f\"Extract : {retData}\")\n",
    "\n",
    "# 다음 데이터 확인\n",
    "print(f\"Next : {peek()}\")\n",
    "\n",
    "print(f\"OUT <-- {queue} <-- IN\")"
   ]
  },
  {
   "cell_type": "code",
   "execution_count": 24,
   "id": "922149f4-e2be-4774-9e2c-6c4ec0d59794",
   "metadata": {},
   "outputs": [
    {
     "name": "stdout",
     "output_type": "stream",
     "text": [
      "OUT <-- ['Economics', None, None, 'biology', 'physics'] <-- IN\n",
      "OUT <-- ['Economics', 'Engineering', None, 'biology', 'physics'] <-- IN\n",
      "Queue is alreay Full.\n",
      "OUT <-- ['Economics', 'Engineering', None, 'biology', 'physics'] <-- IN\n"
     ]
    }
   ],
   "source": [
    "# 원형 큐는 전체 공간에서 하나 남긴 것이 full\n",
    "enQueue(\"Economics\")\n",
    "print(f\"OUT <-- {queue} <-- IN\")\n",
    "\n",
    "enQueue(\"Engineering\")\n",
    "print(f\"OUT <-- {queue} <-- IN\")\n",
    "\n",
    "enQueue(\"Korean\")\n",
    "print(f\"OUT <-- {queue} <-- IN\")"
   ]
  },
  {
   "cell_type": "markdown",
   "id": "b64786f9-13d0-4cd1-89e1-10d64bc1f740",
   "metadata": {},
   "source": [
    "# Tree"
   ]
  },
  {
   "cell_type": "markdown",
   "id": "097df348-69ee-47da-a716-262ad03e4756",
   "metadata": {},
   "source": [
    "## 단순 구현"
   ]
  },
  {
   "cell_type": "markdown",
   "id": "4e21f37e-166d-4ca7-9690-91876b14c769",
   "metadata": {},
   "source": [
    "### 함수"
   ]
  },
  {
   "cell_type": "code",
   "execution_count": 29,
   "id": "779471bc-330e-44d4-aee6-4ca250dfbbed",
   "metadata": {},
   "outputs": [],
   "source": [
    "# TreeNode() 클래스 생성\n",
    "class TreeNode():\n",
    "    def __init__(self):\n",
    "        self.left = None\n",
    "        self.data = None\n",
    "        self.right = None"
   ]
  },
  {
   "cell_type": "markdown",
   "id": "339dd01f-09e3-48f0-8397-7890fa4faf8e",
   "metadata": {},
   "source": [
    "### 변수"
   ]
  },
  {
   "cell_type": "markdown",
   "id": "faebdc2c-ee16-4410-91ed-e31de2722387",
   "metadata": {},
   "source": [
    "### 메인"
   ]
  },
  {
   "cell_type": "code",
   "execution_count": 30,
   "id": "0031e696-d1ac-4bcb-8a39-cf41f4e4d01f",
   "metadata": {},
   "outputs": [],
   "source": [
    "# 노드가 하나인 완벽한 이진 트리 만들기\n",
    "node1 = TreeNode()\n",
    "node1.data = \"Sports\""
   ]
  },
  {
   "cell_type": "code",
   "execution_count": 31,
   "id": "534c86b1-0868-44c0-b118-b276681d1ac5",
   "metadata": {},
   "outputs": [],
   "source": [
    "# 새로운 트리노드 추가\n",
    "node2 = TreeNode()\n",
    "node2.data = \"Soccer\"\n",
    "node1.left = node2\n",
    "\n",
    "node3 = TreeNode()\n",
    "node3.data = \"Baseball\"\n",
    "node1.right = node3\n",
    "\n",
    "node4 = TreeNode()\n",
    "node4.data = \"11Members\"\n",
    "node2.left = node4\n",
    "\n",
    "node5 = TreeNode()\n",
    "node5.data = \"90Minutes\"\n",
    "node2.right = node5"
   ]
  },
  {
   "cell_type": "code",
   "execution_count": 32,
   "id": "1ed58e31-a040-4d39-8857-45fc14a0b6ee",
   "metadata": {},
   "outputs": [
    {
     "name": "stdout",
     "output_type": "stream",
     "text": [
      "Sports\n",
      "Soccer Baseball\n",
      "11Members 90Minutes\n"
     ]
    }
   ],
   "source": [
    "# 출력\n",
    "print(node1.data)\n",
    "print(node2.data, node3.data)\n",
    "print(node4.data, node5.data)"
   ]
  },
  {
   "cell_type": "code",
   "execution_count": 33,
   "id": "4d7b9b77-0765-4cf5-983b-80647f100337",
   "metadata": {},
   "outputs": [
    {
     "name": "stdout",
     "output_type": "stream",
     "text": [
      "Sports\n",
      "Soccer Baseball\n",
      "11Members 90Minutes\n"
     ]
    }
   ],
   "source": [
    "# root를 이용한 출력\n",
    "root = node1\n",
    "\n",
    "print(root.data)\n",
    "print(root.left.data, root.right.data)\n",
    "print(root.left.left.data, root.left.right.data)"
   ]
  }
 ],
 "metadata": {
  "kernelspec": {
   "display_name": "Python 3 (ipykernel)",
   "language": "python",
   "name": "python3"
  },
  "language_info": {
   "codemirror_mode": {
    "name": "ipython",
    "version": 3
   },
   "file_extension": ".py",
   "mimetype": "text/x-python",
   "name": "python",
   "nbconvert_exporter": "python",
   "pygments_lexer": "ipython3",
   "version": "3.11.7"
  }
 },
 "nbformat": 4,
 "nbformat_minor": 5
}
