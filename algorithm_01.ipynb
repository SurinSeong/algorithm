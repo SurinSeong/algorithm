{
 "cells": [
  {
   "cell_type": "markdown",
   "id": "f7111455-a15e-4517-b318-a12e90ff3934",
   "metadata": {},
   "source": [
    "# 알고리즘의 중요 포인트\n",
    "* 문제\n",
    "    * 알고리즘은 주어진 문제를 풀기 위한 절차나 방법\n",
    "    * 알고리즘이 있으려면 반드시 문제가 필요\n",
    "    * 여기서는 '1부터 n까지 연속한 숫자의 합 구하기'가 바로 문제\n",
    "* 입력\n",
    "    * 알고리즘은 주어진 '입력'을 '출력'으로 만드는 과정\n",
    "    * 이 문제에서 입력은 'n까지'에 해당하는 n\n",
    "    * n을 입력으로 하는 문제를 만들면 만들어진 알고리즘으로 다양한 입력에 대한 결과를 얻을 수 있음"
   ]
  },
  {
   "cell_type": "markdown",
   "id": "ec3badae-c852-4892-83de-fa89834f1137",
   "metadata": {},
   "source": [
    "## 프로그램 0-1 절댓값 구하기"
   ]
  },
  {
   "cell_type": "code",
   "execution_count": 1,
   "id": "32c53992-bb73-4346-840f-53c3e58c6ae4",
   "metadata": {},
   "outputs": [],
   "source": [
    "# 수학 모듈 사용\n",
    "import math"
   ]
  },
  {
   "cell_type": "code",
   "execution_count": 2,
   "id": "11430eaa-27cd-41ec-a8bf-2e3d768f9493",
   "metadata": {},
   "outputs": [],
   "source": [
    "# 절댓값 알고리즘 1 (부호 판단)\n",
    "# 입력 : 실수 a\n",
    "# 출력 : a의 절댓값\n",
    "\n",
    "def abs_sign(a):\n",
    "    if a >= 0:\n",
    "        return a\n",
    "    else:\n",
    "        return -a"
   ]
  },
  {
   "cell_type": "code",
   "execution_count": 3,
   "id": "ba076432-7486-48b7-914f-ed9186dc73e4",
   "metadata": {},
   "outputs": [],
   "source": [
    "# 절댓값 알고리즘 2 (제곱 -> 제곱근)\n",
    "# 입력 : 실수 a\n",
    "# 출력 : a의 절댓값\n",
    "\n",
    "def abs_square(a):\n",
    "    b = a * a\n",
    "    return math.sqrt(b) # math 모듈의 제곱근 함수"
   ]
  },
  {
   "cell_type": "code",
   "execution_count": 4,
   "id": "cb93a4b1-daf1-4288-b3c1-39f423b35bbf",
   "metadata": {},
   "outputs": [
    {
     "name": "stdout",
     "output_type": "stream",
     "text": [
      "5\n",
      "3\n",
      "5.0\n",
      "3.0\n"
     ]
    }
   ],
   "source": [
    "print(abs_sign(5))\n",
    "print(abs_sign(-3))\n",
    "print(abs_square(5))\n",
    "print(abs_square(-3))"
   ]
  },
  {
   "cell_type": "markdown",
   "id": "b1324aca-4023-4953-94d0-2e436dee3256",
   "metadata": {},
   "source": [
    "# 첫 번째 마당 - 알고리즘 기초\n",
    "* 문제 01 : 1부터 n까지의 합 구하기\n",
    "* 문제 02 : 최댓값 찾기\n",
    "* 문제 03 : 동명이인 찾기 1"
   ]
  },
  {
   "cell_type": "markdown",
   "id": "84e86384-4378-4f1a-8176-7082296fad7e",
   "metadata": {},
   "source": [
    "## 문제 01"
   ]
  },
  {
   "cell_type": "code",
   "execution_count": 6,
   "id": "6f2c0f0c-fa04-41a8-9fcd-021090739786",
   "metadata": {},
   "outputs": [],
   "source": [
    "# 문제 01\n",
    "# 1부터 10까지의 수를 모두 더하면?\n",
    "# 1부터 100까지의 수를 모두 더하면?\n",
    "# ==> 1부터 n까지의 수를 모두 더하면?\n",
    "\n",
    "# 1-1\n",
    "# 입력 : n\n",
    "# 출력 : 1부터 n까지의 숫자를 더한 값\n",
    "\n",
    "def sum_n(n):\n",
    "    # 합을 계산할 변수\n",
    "    s = 0\n",
    "    # 1부터 n까지 반복 (n+1 제외)\n",
    "    for i in range(1, n+1):\n",
    "        s += i\n",
    "    return s"
   ]
  },
  {
   "cell_type": "code",
   "execution_count": 7,
   "id": "929197ee-9d8a-4baa-ab49-ac9011f2b275",
   "metadata": {},
   "outputs": [
    {
     "name": "stdout",
     "output_type": "stream",
     "text": [
      "55\n",
      "5050\n"
     ]
    }
   ],
   "source": [
    "print(sum_n(10))\n",
    "print(sum_n(100))"
   ]
  },
  {
   "cell_type": "code",
   "execution_count": 8,
   "id": "aa521242-8f32-40d3-bbeb-be131cee2922",
   "metadata": {},
   "outputs": [],
   "source": [
    "# 1-2\n",
    "# 입력 : n\n",
    "# 출력 : 1부터 n까지의 숫자를 더한 값\n",
    "\n",
    "def sum2_n(n):\n",
    "    # '//'는 정수 나눗셈을 의미\n",
    "    return n * (n + 1) // 2"
   ]
  },
  {
   "cell_type": "code",
   "execution_count": 9,
   "id": "1c2424bf-5bab-40dd-afaa-4bef9b9a7a5c",
   "metadata": {},
   "outputs": [
    {
     "name": "stdout",
     "output_type": "stream",
     "text": [
      "55\n",
      "5050\n"
     ]
    }
   ],
   "source": [
    "print(sum2_n(10))\n",
    "print(sum2_n(100))"
   ]
  },
  {
   "cell_type": "markdown",
   "id": "c8ddbb2d-a2c7-4b21-99ff-4f40670225c4",
   "metadata": {},
   "source": [
    "### 연습 문제\n",
    "* 1-1. 1부터 n까지 연속한 숫자의 제곱의 합을 구하는 프로그램을 for 반복문으로 만들어보기\n",
    "* 1-2. 연습문제 1-1 프로그램의 계산 복잡도는 O(1)과 O(n) 중 무엇?\n",
    "* 1-3. 1부터 n까지 연속한 숫자의 제곱의 합을 구하는 공식을 이용해서 알고리즘 만들기 "
   ]
  },
  {
   "cell_type": "code",
   "execution_count": 9,
   "id": "1f8e24bc-a6d4-4ec8-bb8f-e1d1705c2fce",
   "metadata": {},
   "outputs": [
    {
     "name": "stdout",
     "output_type": "stream",
     "text": [
      "385\n",
      "338350\n"
     ]
    }
   ],
   "source": [
    "# 1-1\n",
    "# 함수 만들기\n",
    "def double1_n(n):\n",
    "    # 초기값\n",
    "    double = 0\n",
    "    # 반복문 이용해서 하나씩 더해주기\n",
    "    for i in range(1, n+1):\n",
    "        double += (i ** 2)\n",
    "    return double\n",
    "\n",
    "print(double1_n(10))\n",
    "print(double1_n(100))\n",
    "\n",
    "# 1-2 : 계산 복잡도는 O(n)"
   ]
  },
  {
   "cell_type": "code",
   "execution_count": 10,
   "id": "f151e5c5-7c81-4938-beef-6c242e985bf3",
   "metadata": {},
   "outputs": [
    {
     "name": "stdout",
     "output_type": "stream",
     "text": [
      "385.0\n",
      "338350.0\n"
     ]
    }
   ],
   "source": [
    "# 1-3 : 계산 복잡도는 O(1)\n",
    "\n",
    "# 함수 만들기\n",
    "def double2_n(n):\n",
    "    # 초기값\n",
    "    double = n * (n + 1) * (2*n + 1) / 6\n",
    "    return double\n",
    "    \n",
    "print(double2_n(10))\n",
    "print(double2_n(100))"
   ]
  },
  {
   "cell_type": "markdown",
   "id": "48bf87f7-68d3-4f99-8b49-5fd337b322b1",
   "metadata": {},
   "source": [
    "## 문제 02"
   ]
  },
  {
   "cell_type": "code",
   "execution_count": 13,
   "id": "2344623e-9471-4fa9-a546-e7d3e5ac45cd",
   "metadata": {},
   "outputs": [
    {
     "name": "stdout",
     "output_type": "stream",
     "text": [
      "[5, 7, 9]\n",
      "5\n",
      "9\n",
      "9\n",
      "3\n"
     ]
    }
   ],
   "source": [
    "# list 이용\n",
    "\n",
    "a = [5, 7, 9]\n",
    "\n",
    "print(a)\n",
    "print(a[0])\n",
    "print(a[2])\n",
    "print(a[-1])\n",
    "print(len(a))"
   ]
  },
  {
   "cell_type": "code",
   "execution_count": 18,
   "id": "a519130e-870d-4cd5-944c-f00cf0b49d13",
   "metadata": {},
   "outputs": [],
   "source": [
    "# 17, 92, 18, 33, 58, 7, 33, 42 중 최댓값을 찾는 알고리즘\n",
    "# 입력 : 숫자가 n개 들어있는 리스트\n",
    "# 출력 : 최댓값\n",
    "\n",
    "def max_num(nums):\n",
    "    # 입력 크기\n",
    "    n = len(nums)\n",
    "    # 리스트의 첫 번째 값을 최댓값으로 기억\n",
    "    max_n = nums[0]\n",
    "    # 반복하기\n",
    "    for i in range(1, n):\n",
    "        # 지금의 값이 현재의 값보다 크면\n",
    "        if nums[i] > max_n:\n",
    "            # 최댓값 변경\n",
    "            max_n = nums[i]\n",
    "    return max_n"
   ]
  },
  {
   "cell_type": "code",
   "execution_count": 19,
   "id": "4c3c9e96-1277-4dcc-932d-577b8250253a",
   "metadata": {},
   "outputs": [
    {
     "data": {
      "text/plain": [
       "92"
      ]
     },
     "execution_count": 19,
     "metadata": {},
     "output_type": "execute_result"
    }
   ],
   "source": [
    "list_n = [17, 92, 18, 33, 58, 7, 33, 42]\n",
    "max_num(list_n)"
   ]
  },
  {
   "cell_type": "code",
   "execution_count": 20,
   "id": "4ea09656-6c01-464f-84d0-9cd5a75b5acc",
   "metadata": {},
   "outputs": [],
   "source": [
    "# 리스트에 숫자가 n개 있을 때 가장 큰 값이 있는 위치 번호를 돌려주는 알고리즘\n",
    "\n",
    "def max_index(nums):\n",
    "    n = len(nums)\n",
    "    max_i = 0\n",
    "\n",
    "    for i in range(1, n):\n",
    "        if nums[i] > nums[max_i]:\n",
    "            max_i = i\n",
    "    return max_i"
   ]
  },
  {
   "cell_type": "code",
   "execution_count": 21,
   "id": "734234e3-6c30-4362-97bf-2bbaad57f144",
   "metadata": {},
   "outputs": [
    {
     "data": {
      "text/plain": [
       "1"
      ]
     },
     "execution_count": 21,
     "metadata": {},
     "output_type": "execute_result"
    }
   ],
   "source": [
    "max_index(list_n)"
   ]
  },
  {
   "cell_type": "code",
   "execution_count": 22,
   "id": "d7b67e21-a1e4-44d2-88da-06950fab0208",
   "metadata": {},
   "outputs": [],
   "source": [
    "# 2-1 숫자 n개를 리스트로 입력받아 최솟값을 구하는 프로그램\n",
    "# 입력 : n개의 숫자를 가진 리스트\n",
    "# 출력 : 최솟값\n",
    "\n",
    "def min_num(nums):\n",
    "    n = len(nums)\n",
    "    min_n = nums[0]\n",
    "\n",
    "    for i in range(1, n):\n",
    "        if nums[i] < min_n:\n",
    "            min_n = nums[i]\n",
    "    return min_n"
   ]
  },
  {
   "cell_type": "code",
   "execution_count": 23,
   "id": "1d3e10c1-e412-403a-ae42-7a67dad0641d",
   "metadata": {},
   "outputs": [
    {
     "data": {
      "text/plain": [
       "7"
      ]
     },
     "execution_count": 23,
     "metadata": {},
     "output_type": "execute_result"
    }
   ],
   "source": [
    "min_num(list_n)"
   ]
  },
  {
   "cell_type": "markdown",
   "id": "c83f625e-738c-4f40-bb07-664345bd30c7",
   "metadata": {},
   "source": [
    "## 문제 03"
   ]
  },
  {
   "cell_type": "code",
   "execution_count": 24,
   "id": "32ce5b32-17ce-49c5-9442-fe016648ca44",
   "metadata": {},
   "outputs": [],
   "source": [
    "# n 명의 사람 이름 중에서 같은 이름을 찾아 집합으로 만들어 돌려주는 알고리즘\n",
    "'''\n",
    "여러 사람의 이름 중에서 같은 이름이 있는지 확인\n",
    "같은 이름이 있다면 같은 이름들을 새로 만든 결과 집합에 넣어 돌려주면 됨\n",
    "이 문제의 입력은 n 명의 이름이 들어 있는 리스트\n",
    "결과는 같은 이름들이 들어 있는 집합 (set)\n",
    "사람 이름으로 구성된 리스트 [\"Tom\", \"Jerry\", \"Mike\", \"Tom\"] 이 입력되면\n",
    "Tom 이란 이름이 두 번 나오므로 결과는 집합 {“Tom\"} 이 됨\n",
    "'''\n",
    "\n",
    "# 입력 : 이름이 n개 들어있는 리스트\n",
    "# 출력 : 이름 n개 중 반복되는 이름의 집합\n",
    "\n",
    "def find_same_name(a):\n",
    "    # 리스트의 자료 개수를 n에 저장\n",
    "    n = len(a)\n",
    "    # 결과를 저장할 빈 집합\n",
    "    result = set()\n",
    "    # 중첩된 반복문 찾기\n",
    "    # 0부터 n-2까지 반복\n",
    "    for i in range(0, n-1):\n",
    "    # i+1부터 n-1까지 반복\n",
    "        for j in range(i+1, n):\n",
    "    # 이름이 같으면\n",
    "            if a[i] == a[j]:\n",
    "    # 찾은 이름을 result에 추가\n",
    "                result.add(a[i])\n",
    "    return result"
   ]
  },
  {
   "cell_type": "code",
   "execution_count": 27,
   "id": "be95675d-b57f-47d5-845a-f6396a443e63",
   "metadata": {},
   "outputs": [
    {
     "name": "stdout",
     "output_type": "stream",
     "text": [
      "{'Tom'}\n",
      "{'Mike', 'Tom'}\n"
     ]
    }
   ],
   "source": [
    "names = [\"Tom\", \"Jerry\", \"Mike\", \"Tom\"]\n",
    "names2 = [\"Tom\", \"Jerry\", \"Mike\", \"Tom\", \"Mike\"]\n",
    "print(find_same_name(names))\n",
    "print(find_same_name(names2))"
   ]
  },
  {
   "cell_type": "markdown",
   "id": "f3ca3a23-78ac-4a13-9c21-3513197df8af",
   "metadata": {},
   "source": [
    "### 연습문제"
   ]
  },
  {
   "cell_type": "code",
   "execution_count": 28,
   "id": "24b3cb60-487c-466d-a4f7-8ff988be4c64",
   "metadata": {},
   "outputs": [],
   "source": [
    "# 3-1 n명 중 두 명을 뽑아 짝을 짓는다고 할 때 짝을 지을 수 있는 모든 조합을 출력하는 알고리즘\n",
    "# 입력 : n개의 이름 리스트\n",
    "# 출력 : 조합들\n",
    "\n",
    "def find_combi(names):\n",
    "    # names 리스트의 길이\n",
    "    n = len(names)\n",
    "    # 0 ~ n-2 반복\n",
    "    for i in range(0, n-1):\n",
    "        # i+1 ~ n 반복\n",
    "        for j in range(i+1, n):\n",
    "            print(f\"{names[i]} - {names[j]}\")"
   ]
  },
  {
   "cell_type": "code",
   "execution_count": 29,
   "id": "9d3e0649-51e5-4a23-ae84-7d765ee18a5a",
   "metadata": {},
   "outputs": [
    {
     "name": "stdout",
     "output_type": "stream",
     "text": [
      "Tom - Jerry\n",
      "Tom - Mike\n",
      "Jerry - Mike\n",
      "None\n",
      "Tom - Jerry\n",
      "Tom - Mike\n",
      "Tom - John\n",
      "Jerry - Mike\n",
      "Jerry - John\n",
      "Mike - John\n",
      "None\n"
     ]
    }
   ],
   "source": [
    "name_list1 = [\"Tom\", \"Jerry\", \"Mike\"]\n",
    "name_list2 = [\"Tom\", \"Jerry\", \"Mike\", \"John\"]\n",
    "print(find_combi(name_list1))\n",
    "print(find_combi(name_list2))"
   ]
  },
  {
   "cell_type": "code",
   "execution_count": null,
   "id": "eb5ef3d5-376a-47c3-8069-4a90c364af08",
   "metadata": {},
   "outputs": [],
   "source": []
  }
 ],
 "metadata": {
  "kernelspec": {
   "display_name": "Python 3 (ipykernel)",
   "language": "python",
   "name": "python3"
  },
  "language_info": {
   "codemirror_mode": {
    "name": "ipython",
    "version": 3
   },
   "file_extension": ".py",
   "mimetype": "text/x-python",
   "name": "python",
   "nbconvert_exporter": "python",
   "pygments_lexer": "ipython3",
   "version": "3.11.7"
  }
 },
 "nbformat": 4,
 "nbformat_minor": 5
}
