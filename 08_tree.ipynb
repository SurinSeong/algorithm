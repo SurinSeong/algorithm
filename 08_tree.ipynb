{
 "cells": [
  {
   "cell_type": "markdown",
   "id": "95b6da41-7e3f-4a2c-908d-f28d7c331a33",
   "metadata": {},
   "source": [
    "# 이진 트리"
   ]
  },
  {
   "cell_type": "markdown",
   "id": "2d67b550-5e4a-4ad3-ae98-e6af2a795660",
   "metadata": {},
   "source": [
    "### 함수"
   ]
  },
  {
   "cell_type": "code",
   "execution_count": 1,
   "id": "877085e2-0820-49e3-9c40-b711ec90cb90",
   "metadata": {},
   "outputs": [],
   "source": [
    "# TreeNode() 라는 클래스 생성\n",
    "class TreeNode():\n",
    "    def __init__(self):\n",
    "        self.left = None\n",
    "        self.data = None\n",
    "        self.right = None"
   ]
  },
  {
   "cell_type": "markdown",
   "id": "79612bf5-f766-4d69-8eba-e74d61fd0268",
   "metadata": {},
   "source": [
    "### 변수"
   ]
  },
  {
   "cell_type": "markdown",
   "id": "5cdd6081-c802-41a0-824e-37202e3c9258",
   "metadata": {},
   "source": [
    "### 메인"
   ]
  },
  {
   "cell_type": "code",
   "execution_count": 2,
   "id": "bd687235-915b-455d-af22-f962ae21af83",
   "metadata": {},
   "outputs": [],
   "source": [
    "# 하나짜리 완벽한 이진 트리 만들기\n",
    "node1 = TreeNode()\n",
    "node1.data = \"화사\""
   ]
  },
  {
   "cell_type": "code",
   "execution_count": 3,
   "id": "a7b68d72-fb81-4560-886b-791950bc48cc",
   "metadata": {},
   "outputs": [],
   "source": [
    "# 새로운 트리노드 추가\n",
    "# 솔라\n",
    "node2 = TreeNode()\n",
    "node2.data = \"솔라\"\n",
    "node1.left = node2\n",
    "\n",
    "# 문별\n",
    "node3 = TreeNode()\n",
    "node3.data = \"문별\"\n",
    "node1.right = node3\n",
    "\n",
    "# 휘인\n",
    "node4 = TreeNode()\n",
    "node4.data = \"휘인\"\n",
    "node2.left = node4\n",
    "\n",
    "# 쯔위\n",
    "node5 = TreeNode()\n",
    "node5.data = \"쯔위\"\n",
    "node2.right = node5\n",
    "\n",
    "# 선미\n",
    "node6 = TreeNode()\n",
    "node6.data = \"선미\"\n",
    "node3.left = node6"
   ]
  },
  {
   "cell_type": "code",
   "execution_count": 4,
   "id": "9d252b8b-d0d1-4d81-8402-14b390ff317d",
   "metadata": {},
   "outputs": [
    {
     "name": "stdout",
     "output_type": "stream",
     "text": [
      "화사\n",
      "솔라 문별\n",
      "휘인 쯔위 선미\n"
     ]
    }
   ],
   "source": [
    "# 출력\n",
    "print(node1.data)\n",
    "print(node2.data, node3.data)\n",
    "print(node4.data, node5.data, node6.data)"
   ]
  },
  {
   "cell_type": "code",
   "execution_count": 5,
   "id": "afc01f0c-9ab0-4717-a221-d309d4535d8b",
   "metadata": {},
   "outputs": [
    {
     "name": "stdout",
     "output_type": "stream",
     "text": [
      "화사\n",
      "솔라 문별\n",
      "휘인 쯔위 선미\n"
     ]
    }
   ],
   "source": [
    "# 출력 : root를 이용\n",
    "root = node1\n",
    "print(root.data)\n",
    "print(root.left.data, root.right.data)\n",
    "print(root.left.left.data, root.left.right.data, root.right.left.data)"
   ]
  },
  {
   "cell_type": "code",
   "execution_count": null,
   "id": "54746347-227f-4f28-96fe-5d0a6fcf5f79",
   "metadata": {},
   "outputs": [],
   "source": []
  }
 ],
 "metadata": {
  "kernelspec": {
   "display_name": "Python 3 (ipykernel)",
   "language": "python",
   "name": "python3"
  },
  "language_info": {
   "codemirror_mode": {
    "name": "ipython",
    "version": 3
   },
   "file_extension": ".py",
   "mimetype": "text/x-python",
   "name": "python",
   "nbconvert_exporter": "python",
   "pygments_lexer": "ipython3",
   "version": "3.11.7"
  }
 },
 "nbformat": 4,
 "nbformat_minor": 5
}
